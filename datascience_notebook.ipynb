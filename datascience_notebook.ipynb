{
 "cells": [
  {
   "cell_type": "markdown",
   "metadata": {},
   "source": [
    "![](https://www.dii.uchile.cl/wp-content/uploads/2021/06/Magi%CC%81ster-en-Ciencia-de-Datos.png)"
   ]
  },
  {
   "cell_type": "markdown",
   "metadata": {},
   "source": [
    "**MDS7202: Laboratorio de Programación Científica para Ciencia de Datos**\n",
    "\n",
    "### 👨‍🏫👩‍🏫 Cuerpo Docente:\n",
    "\n",
    "- Profesor: Sebastián Tinoco, Stefano Schiappacasse\n",
    "- Auxiliar: Melanie Peña Torres, Valentina Rojas Osorio\n",
    "- Ayudante: Valentina Zuñiga, Ángelo Muñoz \n",
    "\n",
    "### 👨‍💻👩‍💻 Estudiantes:\n",
    "- Estudiante n°1: Marcos Ignacio Huenchumil Illanes\n",
    "- Estudiante n°2: Nicolas Fuenzalida Saez"
   ]
  },
  {
   "cell_type": "markdown",
   "metadata": {},
   "source": [
    "---\n",
    "\n",
    "## 📖 Enunciado "
   ]
  },
  {
   "cell_type": "markdown",
   "metadata": {},
   "source": [
    "<div align=\"center\">\n",
    "    <img src='proyecto.png' style=\"border-radius: 12px\"> \n",
    "</div>"
   ]
  },
  {
   "cell_type": "markdown",
   "metadata": {},
   "source": [
    "En el competitivo universo de las bebidas gaseosas, la empresa **SodAI Drinks 🥤** ha logrado destacarse por su creatividad, diversidad de productos y enfoque centrado en el cliente. Ofrece una extensa gama de bebidas carbonatadas que abarca distintos segmentos del mercado: desde productos premium en presentaciones sofisticadas, hasta gaseosas accesibles para el consumo masivo, disponibles en diversos tamaños y tipos de envases. \n",
    "\n",
    "La compañía opera en múltiples regiones y zonas, sirviendo a una variedad de puntos de venta que incluyen desde tiendas de conveniencia y minimarkets hasta el canal frío tradicional. Cada tipo de cliente tiene sus particularidades: algunos reciben entregas hasta 4 veces por semana, mientras que otros son visitados por la fuerza de ventas solo una vez semanalmente. Esta diversidad de perfiles representa tanto una oportunidad como un desafío comercial: \n",
    "\n",
    "\t\t¿cómo saber qué productos tienen más chances de ser comprados por cada cliente en un momento dado?\n",
    "\n",
    "Con el objetivo de aumentar la facturación de forma inteligente y mejorar la eficiencia de su estrategia de ventas, **SodAI Drinks** decide crear una nueva célula interna de innovación: el equipo **Deep Drinkers 🤖**, cuyo propósito es aplicar ciencia de datos para anticiparse a las necesidades del cliente y potenciar el negocio desde una perspectiva basada en información.\n",
    "\n",
    "El corazón de esta iniciativa es el desarrollo de un sistema predictivo personalizado para cada cliente. Para ello, **Deep Drinkers** convoca a un equipo de Data Scientists y especialistas en *machine learning* con una misión clara: ``construir un modelo predictivo que, cada semana, pueda estimar la probabilidad de compra de cada producto del portafolio para cada cliente activo.``\n",
    "\n",
    "El modelo deberá tener en cuenta múltiples factores, incluyendo:\n",
    "- **Tipo de cliente**, ej. \"TIENDA DE CONVENIENCIA\", \"MINIMARKET\".\n",
    "- **Frecuencia de entregas y visitas**, indicadores del nivel de actividad comercial.\n",
    "- **Ubicación geográfica** (por región y zona).\n",
    "- **Preferencias históricas de consumo**, inferidas por patrones de compra anteriores.\n",
    "- **Características del producto**, como marca, categoría, segmento, tipo de envase y tamaño\n",
    "\n",
    "El objetivo final es que, **cada semana**, se genere una tabla de productos priorizados: para cada cliente, un listado de productos ordenado por su probabilidad estimada de compra. Esta información será enviada al equipo comercial, que podrá usarla en call center, para incrementar las chances de concretar ventas al ofrecer justo lo que el cliente probablemente quiere comprar.\n",
    "\n",
    "Este proyecto representa un cambio de paradigma en la forma en que **SodAI Drinks** gestiona su fuerza de ventas: de un enfoque reactivo y generalista, a uno proactivo, basado en datos y profundamente personalizado. Así, la empresa no solo espera aumentar su rentabilidad, sino también construir relaciones más sólidas con sus clientes, ofreciéndoles recomendaciones más relevantes y oportunas.\n",
    "\n",
    "Para lograr lo anterior, el equipo **Deep Drinkers** contará con los siguientes conjuntos de datos, junto a sus respectivos atributos:\n",
    "\n",
    "- **Datos transaccionales** (`transacciones.parquet`): contiene el historial de compras realizadas por los clientes.\n",
    "\t- `customer_id`: identificador único del cliente que realizó la compra.\n",
    "\t- `product_id`: identificador único del producto comprado.\n",
    "\t- `purchase_date`: fecha en que se realizó la transacción.\n",
    "\t- `order_id`: identificar de la orden de su pedido.\n",
    "\t- `payment`\tmonto total pagado por la transacción.\n",
    "\n",
    "- **Datos de clientes** (`clientes.parquet`): incluye las características de cada cliente.\n",
    "\t- `customer_id`: identificador único del cliente.\n",
    "\t- `region_id`: identificador de la región geográfica donde se encuentra el cliente.\n",
    "\t- `customer_type`: tipo de cliente según el canal comercial, por ejemplo, “TIENDA DE CONVENIENCIA”.\n",
    "\t- `Y`: coordenada geográfica de latitud.\n",
    "\t- `X`: coordenada geográfica de longitud.\n",
    "\t- `num_deliver_per_week`: cantidad de entregas semanales que recibe el cliente.\n",
    "\t- `num_visit_per_week`: frecuencia de visitas de la fuerza de ventas por semana.\n",
    "\n",
    "- **Datos de productos** (`productos.parquet`): describe las características de los productos del portafolio.\n",
    "\t- `product_id`: identificador único del producto.\n",
    "\t- `brand`: marca comercial del producto.\n",
    "\t- `category`: categoría general del producto, como “BEBIDAS CARBONATADAS”.\n",
    "\t- `sub_category`: subcategoría dentro de la categoría principal, por ejemplo, “GASEOSAS”.\n",
    "\t- `segment`: segmento de mercado al que pertenece el producto, como “PREMIUM”.\n",
    "\t- `package`: tipo de envase del producto.\n",
    "\t- `size`: tamaño del producto en litros."
   ]
  },
  {
   "cell_type": "markdown",
   "metadata": {},
   "source": [
    "## 📚 Reglas"
   ]
  },
  {
   "cell_type": "markdown",
   "metadata": {},
   "source": [
    "<center>\n",
    "<img src=\"https://media1.tenor.com/m/0Qtv_cQ4ITsAAAAd/necohaus-grey-name.gif\" width=\"450\">"
   ]
  },
  {
   "cell_type": "markdown",
   "metadata": {},
   "source": [
    "\n",
    "\n",
    "El proyecto consta de **dos entregas parciales** y una **entrega final** en donde la primera entrega la idea es poder reflejar lo aprendido durante la primera mitad del curso, que será sobre los contenidos relacionados a *machine learning*, la segunda será sobre los contenidos de la segunda mitad del curso relacionados a *MLOps* y por último la entrega final constará de dos partes, donde la primera será relacionada con experimentación sobre nuevos datasets que serán disponibilizados durante las últimas semanas del curso de manera incremental y una segunda parte que será el informe final escrito que deberá explicar el desarrollo del proyecto completo, como tambien los resultados y análisis de los experimentos realizados sobre los datasets incrementales. La idea es que todo el código esté desarrollado durante las primeras dos entregas y luego en la entrega final sólo se ejecute el código sobre nuevos conjuntos de datos.\n",
    "\n",
    "La idea de generar el proyecto por etapas es poder aliviar la carga de trabajo en las últimas semanas del semestre donde sabemos que están muy cargado con entregas, pruebas y exámenes de otros ramos, y así garantizamos que habiendo la desarrollado las dos primeras entregas parciales, tendrán el grueso del proyecto listo para luego experimentar y documentar.\n",
    "\n",
    "---\n",
    "### **Fechas de entrega**\n",
    "- **Entrega parcial 1**: 14 de Mayo\n",
    "- **Entrega parcial 2**: Por definir\n",
    "- **Entrega final**: Por definir\n",
    "\n",
    "---\n",
    "\n",
    "### **Requisitos del proyecto**\n",
    "- **Grupos**: Formar equipos de **2 personas**. No se aceptarán trabajos individuales o grupos con más integrantes.\n",
    "- **Consultas**: Cualquier duda fuera del horario de clases debe ser planteada en el foro correspondiente. Los mensajes enviados al equipo docente serán respondidos únicamente por este medio. Por favor, revisen las respuestas anteriores en el foro antes de realizar nuevas consultas.\n",
    "- **Plagio**: La copia o reutilización no autorizada de trabajos de otros grupos está **estrictamente prohibida**. El incumplimiento de esta norma implicará la anulación inmediata del proyecto y una posible sanción académica.\n",
    "- **Material permitido**: Pueden usar cualquier material del curso, ya sea notas, lecturas, códigos, o referencias proporcionadas por los docentes, que consideren útil para el desarrollo del proyecto.\n",
    "\n",
    "---\n",
    "\n",
    "### **Entregables y etapas**\n",
    "\n",
    "#### **1. Entrega Parcial 1**  \n",
    "- Dispondrán de los archivos de datos **productos.parquet**, **clientes.parquet** y **transacciones.parquet** para el modelamiento inicial.  \n",
    "- Utilizarán estos archivos para desarrollar lo solicitado para la entrega 1. \n",
    "- En esta etapa, se espera que apliquen todos los conocimientos aprendidos durante la primera parte del curso relacionados con *machine learning*.\n",
    "- **Informe**: No se exige un avance del informe en esta etapa, sólo un notebook con su desarrollo actual, pero se **recomienda comenzar** a redactar el informe final en paralelo para disminuir la carga académica en las etapas posteriores.  \n",
    "\n",
    "#### **2. Entrega Parcial 2**  \n",
    "- En esta entrega, deberán aplicar los conocimientos aprendidos durante la segunda mitad del curso sobre *MLOps*  \n",
    "- Se espera que implementen estos conocimientos para desplegar su modelo elegido en la primera entrega y crear *pipelines* automatizados que simulen un entorno productivo.\n",
    "- **Informe**: similar a la primera etapa, no se exige un avance del informe, pero se **recomienda avanzar con su redacción** para evitar una acumulación de trabajo en la etapa final.  \n",
    "\n",
    "#### **3. Entrega Final**  \n",
    "- En la entrega final, deberán realizar dos etapas:\n",
    "\t- La primera etapa es sobre experimentación utilizando datasets incrementales que se irán disponibilizando de manera parcial, para que vayan generando predicciones con su modelo ya desplegado. El objetivo de esta etapa es poder testear su solución *end-to-end* y que vayan analizando los resultados obtenidos a medida que se van agregando más datos.\n",
    "\t- La segunda etapa consiste en redactar un informe final que deberá explicar el desarrollo completo de tu proyecto y un análisis profundo de sus resultados de experimentación. Este informe debera incluir a lo menos las siguientes secciones:\n",
    "\t\t- Análisis exploratorio de datos  \n",
    "\t\t- Metodología aplicada  \n",
    "\t\t- Selección y entrenamiento de modelos  \n",
    "\t\t- Evaluación de resultados  \n",
    "\t\t- Optimización de modelos\n",
    "\t\t- Interpretabilidad\n",
    "\t\t- Re-entrenamiento\n",
    "\t\t- Tracking con MLFlow\n",
    "\t\t- Creación de la aplicación web con Gradio y FastAPI\n",
    "\n",
    "Es **altamente recomendable** ir redactando el informe en paralelo al desarrollo de los modelos para garantizar que toda la información relevante quede documentada adecuadamente.  \n",
    "\n",
    "### Nota Final\n",
    "\n",
    "La calificación final de su proyecto se calculará utilizando la siguiente ponderación: \n",
    "\n",
    "$$Nota Final = 0.30 * EntregaParcial1 + 0.40 * EntregaParcial2 + 0.30 * EntregaFinal$$\n",
    "\n",
    "---\n",
    "\n",
    "### **Instrucciones importantes**\n",
    "\n",
    "1. **Formato del informe**:  \n",
    "   - El informe debe estar integrado dentro de un **Jupyter Notebook**. No es necesario subirlo a una plataforma externa, pero debe cumplir con los siguientes requisitos:  \n",
    "     - Estructura clara y ordenada.  \n",
    "     - Código acompañado de explicaciones detalladas.  \n",
    "     - Resultados presentados de forma visual y analítica.  \n",
    "\n",
    "2. **Descuento por informes deficientes**:  \n",
    "   - Cualquier sección del informe que no tenga una explicación adecuada o no respete el formato será penalizada con un descuento en la nota. Esto incluye código sin comentarios o análisis que no sean coherentes con los resultados presentados.\n",
    "   - Comentarios sin formatear de ChatGPT o herramientas similares serán penalizados (e.g: \"Inserta tu modelo acá\", etc.)"
   ]
  },
  {
   "cell_type": "markdown",
   "metadata": {},
   "source": [
    "# 📬 Entrega Parcial 1 (30% del Proyecto)"
   ]
  },
  {
   "cell_type": "markdown",
   "metadata": {},
   "source": [
    "## 📌 Abstract [0.25 puntos]\n",
    "\n",
    "<center>\n",
    "<img src=\"https://i.redd.it/h5ptnsyabqvd1.gif\" width=\"400\" height=\"300\">"
   ]
  },
  {
   "cell_type": "markdown",
   "metadata": {},
   "source": [
    "En esta sección, deben redactar un Abstract claro y conciso para su proyecto. El Abstract debe responder a las siguientes preguntas clave:\n",
    "\n",
    "- **Descripción del problema**: ¿Cuál es el objetivo del proyecto? ¿Qué se intenta predecir o analizar?\n",
    "- **Datos de entrada**: ¿Qué datos tienen disponibles? ¿Cuáles son sus principales características?\n",
    "- **Métrica de evaluación**: ¿Cómo medirán el desempeño de sus modelos? Expliquen por qué eligieron esta métrica basándose en el análisis exploratorio de los datos.\n",
    "- **Modelos y transformaciones**: ¿Qué modelos utilizarán y por qué? ¿Qué transformaciones o preprocesamientos aplicaron a los datos?\n",
    "- **Resultados generales**: ¿El modelo final cumplió con los objetivos del proyecto? ¿Cuáles fueron las conclusiones más importantes?\n",
    "\n",
    "**Importante**: Escriban esto despues de haber resuelto el resto de la tarea."
   ]
  },
  {
   "cell_type": "markdown",
   "metadata": {},
   "source": [
    "## Abstract"
   ]
  },
  {
   "cell_type": "markdown",
   "metadata": {},
   "source": [
    "1. **Descripción del problema**\n",
    "- ¿Cuál es el objetivo del proyecto? El objetivo del proyecto, como se mencionó anteriormente es: construir un modelo predictivo que, cada semana, pueda estimar la probabilidad de compra de cada producto del portafolio para cada cliente activo. La idea es, una vez construido el modelo, darle esta información al equipo de Marketing para que aprovechen negocios nuevos u ofertas a clientes.\n",
    "- ¿Qué se intenta predecir o analizar? Se intenta predecir el comportamiento que tienen los clientes activos con la información de los 3 datasets para predecir qué son más propensos a comprar, dado su historial de compras y comportamientos anteriores.\n",
    "\n",
    "2. **Datos de entrada**\n",
    "- ¿Qué datos tienen disponibles? Según se nos menciona anteriormente, los datos que tenemos disponibles son de 3 datasets: Datos transaccionales (transacciones.parquet): contiene el historial de compras realizadas por los clientes, Datos de clientes (clientes.parquet): incluye las características de cada cliente y Datos de productos (productos.parquet): describe las características de los productos del portafolio.\n",
    "- ¿Cuáles son sus principales características? Importando los datasets, se puede observar que el dataset:\n",
    "\n",
    "    a. \"Transacciones\" tiene 5 columnas: \"customer_id\" que es la llave para cada cliente, \"product_id\" que es la llave de cada producto, \"order_id\" que es la llave de cada orden realizada, \"purchase_date\" que muestra la fecha de la compra y \"items\" que muestra la cantidad de bultos comprados por el cliente en esa transacción (existen valores negativos porque ciertas transacciones realizadas, luego se cancelan por algún motivo particular), además no existe la columna \"payment\".\n",
    "\n",
    "    b. \"Clientes\" tiene 8 columnas: \"customer_id\" ya explicada, \"region_id\" la llave de la region, \"zone_id\" llave de la zona (una región puede contener varias zonas), \"customer_type\" que tiene 7 tipos de clientes (abarrotes, restaurant, supermercado, etc.), \"Y\" y \"X\" presentan las coordenadas, \"num_deliver_per_week\" y \"num_visit_per_week\" la cantidad de entregas y visitas semanalmente. \n",
    "\n",
    "    c. \"Productos tiene 7 columnas: \"product_id\" visto antes, \"brand\" es la marca del producto, \"category\" es categoría general de producto (carbonatada o no carbonatada), \"sub_category\" puede ser gaseosas, aguas saborizadas o jugos, \"segment\" es el segmento al que pertenece el producto, \"package\" es botella, lata, tetra o keg y \"size\" es el tamaño del producto en litros.\n",
    "\n",
    "3. **Métrica de evaluación**\n",
    "- ¿Cómo medirán el desempeño de sus modelos? Expliquen por qué eligieron esta métrica basándose en el análisis exploratorio de los datos.\n",
    "\n",
    "4. **Modelos y transformaciones**\n",
    "- ¿Qué modelos utilizarán y por qué?\n",
    "- ¿Qué transformaciones o preprocesamientos aplicaron a los datos?\n",
    "\n",
    "5. **Resultados generales**\n",
    "- ¿El modelo final cumplió con los objetivos del proyecto?\n",
    "- ¿Cuáles fueron las conclusiones más importantes?"
   ]
  },
  {
   "cell_type": "markdown",
   "metadata": {},
   "source": [
    "## 📌 Pre-procesamiento [0.5 puntos]\n",
    "\n",
    "<center>\n",
    "<img src=\"https://media0.giphy.com/media/10zsjaH4g0GgmY/giphy.gif?cid=6c09b9523xtlunksc9amikw09zk1bmiqwjqnt70ae82rk877&ep=v1_gifs_search&rid=giphy.gif&ct=g\" width=\"400\" height=\"300\">"
   ]
  },
  {
   "cell_type": "markdown",
   "metadata": {},
   "source": [
    "Tal como en muchos otros problemas de negocio, los datos probablemente deben ser pre procesados antes de aplicar cualquier técnica de analítica. Bajo esa premisa, en esta sección deben desarrollar código que les permita **preparar los datos** de tal forma que les permita resolver el problema planteado. Para esto, pueden aplicar procesamientos como:\n",
    "\n",
    "- Transformaciones de tipo de dato (str, int, etc)\n",
    "- Cruce de información\n",
    "- Eliminación de duplicados\n",
    "- Filtros de fila y/o columnas\n",
    "\n",
    "*Hint: ¿Qué forma debería tener la data para resolver un problema de aprendizaje supervisado?*\n",
    "\n",
    "Todo proceso llevado a cabo debe estar bien documentado y justificado en el informe, explicando el por qué se decidió realizar en funcion de los datos presentados y los objetivos planteados del proyecto."
   ]
  },
  {
   "cell_type": "code",
   "execution_count": 1,
   "metadata": {},
   "outputs": [],
   "source": [
    "import pandas as pd\n",
    "from sklearn import set_config\n",
    "\n",
    "# se configura el modo de salida de los DataFrames\n",
    "set_config(transform_output=\"pandas\")\n",
    "pd.options.display.float_format = '{:.2f}'.format"
   ]
  },
  {
   "cell_type": "code",
   "execution_count": 3,
   "metadata": {},
   "outputs": [],
   "source": [
    "# se cargan los datos\n",
    "df_transacciones = pd.read_parquet(\"data/transacciones.parquet\")\n",
    "df_clientes = pd.read_parquet(\"data/clientes.parquet\")\n",
    "df_productos =  pd.read_parquet(\"data/productos.parquet\")"
   ]
  },
  {
   "cell_type": "code",
   "execution_count": 62,
   "metadata": {},
   "outputs": [],
   "source": [
    "from sklearn.base import BaseEstimator, TransformerMixin\n",
    "import numpy as np\n",
    "\n",
    "class IQR(BaseEstimator, TransformerMixin):\n",
    "  def __init__(self, lambda_=1.5):\n",
    "    self.lambda_ = lambda_\n",
    "\n",
    "  def fit(self, X, y=None):\n",
    "      q1 = X.quantile(0.25) # primer decil\n",
    "      q3 = X.quantile(0.75) # noveno decil\n",
    "      iqr = q3 - q1\n",
    "      self.lower_bound_ = q1 - self.lambda_ * iqr\n",
    "      self.upper_bound_ = q3 + self.lambda_ * iqr\n",
    "      return self\n",
    "  \n",
    "  def transform(self, X):\n",
    "      X_transformed = X.copy()\n",
    "      X_transformed[(X < self.lower_bound_) | (X > self.upper_bound_)] = np.nan\n",
    "      return X_transformed\n",
    "\n",
    "  def set_output(self, transform='default'):\n",
    "    return \n",
    "  \n",
    "  def count_outliers(self, X):\n",
    "    resumen = []\n",
    "    for col in X.columns:\n",
    "        if col in self.lower_bound_:  # Solo columnas numéricas\n",
    "            outliers = (X[col] < self.lower_bound_[col]) | (X[col] > self.upper_bound_[col])\n",
    "            resumen.append({\n",
    "                'columna': col,\n",
    "                'outliers': outliers.sum(),\n",
    "                'porcentaje': 100 * outliers.sum() / len(X)\n",
    "            })\n",
    "    return pd.DataFrame(resumen).sort_values(by='porcentaje', ascending=False)"
   ]
  },
  {
   "cell_type": "code",
   "execution_count": 59,
   "metadata": {},
   "outputs": [],
   "source": [
    "import matplotlib.pyplot as plt\n",
    "import seaborn as sns\n",
    "import pandas as pd\n",
    "\n",
    "def bboxplot(series: pd.Series, title: str = \"\", use_deciles: bool = False, k: float = 1.5):\n",
    "    \"\"\"\n",
    "    Genera un boxplot usando seaborn a partir de una pd.Series.\n",
    "    Puede usar deciles (D1, D9) en lugar del IQR clásico.\n",
    "\n",
    "    Parámetros:\n",
    "    - series: pd.Series con los datos numéricos.\n",
    "    - title: str, título del gráfico.\n",
    "    - use_deciles: bool, si True usa D1 y D9 en vez de Q1 y Q3.\n",
    "    - k: float, coeficiente para definir outliers con deciles.\n",
    "    \"\"\"\n",
    "    if not isinstance(series, pd.Series):\n",
    "        raise TypeError(\"El parámetro debe ser una pd.Series.\")\n",
    "\n",
    "    if use_deciles:\n",
    "        d1 = series.quantile(0.10) # primer decil\n",
    "        d9 = series.quantile(0.90) # noveno decil\n",
    "        spread = d9 - d1\n",
    "        lower_bound = d1 - k * spread\n",
    "        upper_bound = d9 + k * spread\n",
    "        outliers = series[(series < lower_bound) | (series > upper_bound)].count()\n",
    "        computed_title = (\n",
    "            f\"{series.name} \"\n",
    "            f\"D1={d1:.2f}, D9={d9:.2f}, Rango={spread:.2f}, Outliers={outliers}\"\n",
    "        )\n",
    "    else:\n",
    "        q1 = series.quantile(0.25)\n",
    "        q3 = series.quantile(0.75)\n",
    "        iqr = q3 - q1\n",
    "        lower_bound = q1 - k * iqr\n",
    "        upper_bound = q3 + k * iqr\n",
    "        outliers = series[(series < lower_bound) | (series > upper_bound)].count()\n",
    "        computed_title = (\n",
    "            f\"{series.name} \"\n",
    "            f\"Q1={q1:.2f}, Q3={q3:.2f}, IQR={iqr:.2f}, Outliers={outliers}\"\n",
    "        )\n",
    "\n",
    "    plt.figure(figsize=(15, 4))\n",
    "    sns.boxplot(x=series, color='blue')\n",
    "    plt.axvline(lower_bound, color='blue', linestyle='--', label='Límite inferior', linewidth=1)\n",
    "    plt.axvline(upper_bound, color='blue', linestyle='--', label='Límite superior', linewidth=1)\n",
    "    plt.title(title + computed_title or computed_title)\n",
    "    plt.xlabel(series.name or \"Valor\")\n",
    "    plt.grid(True, axis='x', linestyle='--', alpha=0.5)\n",
    "    plt.tight_layout()\n",
    "    plt.legend()\n",
    "    plt.show()\n"
   ]
  },
  {
   "cell_type": "markdown",
   "metadata": {},
   "source": [
    "#### dataframe transacciones"
   ]
  },
  {
   "cell_type": "code",
   "execution_count": 5,
   "metadata": {},
   "outputs": [
    {
     "data": {
      "text/html": [
       "<div>\n",
       "<style scoped>\n",
       "    .dataframe tbody tr th:only-of-type {\n",
       "        vertical-align: middle;\n",
       "    }\n",
       "\n",
       "    .dataframe tbody tr th {\n",
       "        vertical-align: top;\n",
       "    }\n",
       "\n",
       "    .dataframe thead th {\n",
       "        text-align: right;\n",
       "    }\n",
       "</style>\n",
       "<table border=\"1\" class=\"dataframe\">\n",
       "  <thead>\n",
       "    <tr style=\"text-align: right;\">\n",
       "      <th></th>\n",
       "      <th>customer_id</th>\n",
       "      <th>product_id</th>\n",
       "      <th>order_id</th>\n",
       "      <th>purchase_date</th>\n",
       "      <th>items</th>\n",
       "    </tr>\n",
       "  </thead>\n",
       "  <tbody>\n",
       "    <tr>\n",
       "      <th>124</th>\n",
       "      <td>61353</td>\n",
       "      <td>61364</td>\n",
       "      <td>411145</td>\n",
       "      <td>2024-04-27</td>\n",
       "      <td>-0.33</td>\n",
       "    </tr>\n",
       "    <tr>\n",
       "      <th>127</th>\n",
       "      <td>61899</td>\n",
       "      <td>1370</td>\n",
       "      <td>411156</td>\n",
       "      <td>2024-04-27</td>\n",
       "      <td>3.67</td>\n",
       "    </tr>\n",
       "    <tr>\n",
       "      <th>344</th>\n",
       "      <td>154077</td>\n",
       "      <td>30500</td>\n",
       "      <td>417911</td>\n",
       "      <td>2024-04-29</td>\n",
       "      <td>2.33</td>\n",
       "    </tr>\n",
       "    <tr>\n",
       "      <th>349</th>\n",
       "      <td>164337</td>\n",
       "      <td>56714</td>\n",
       "      <td>418100</td>\n",
       "      <td>2024-04-29</td>\n",
       "      <td>-2.33</td>\n",
       "    </tr>\n",
       "    <tr>\n",
       "      <th>354</th>\n",
       "      <td>172056</td>\n",
       "      <td>61672</td>\n",
       "      <td>407162</td>\n",
       "      <td>2024-04-26</td>\n",
       "      <td>1.00</td>\n",
       "    </tr>\n",
       "  </tbody>\n",
       "</table>\n",
       "</div>"
      ],
      "text/plain": [
       "     customer_id  product_id  order_id purchase_date  items\n",
       "124        61353       61364    411145    2024-04-27  -0.33\n",
       "127        61899        1370    411156    2024-04-27   3.67\n",
       "344       154077       30500    417911    2024-04-29   2.33\n",
       "349       164337       56714    418100    2024-04-29  -2.33\n",
       "354       172056       61672    407162    2024-04-26   1.00"
      ]
     },
     "execution_count": 5,
     "metadata": {},
     "output_type": "execute_result"
    }
   ],
   "source": [
    "df_transacciones.head()"
   ]
  },
  {
   "cell_type": "code",
   "execution_count": 6,
   "metadata": {},
   "outputs": [
    {
     "name": "stdout",
     "output_type": "stream",
     "text": [
      "<class 'pandas.core.frame.DataFrame'>\n",
      "Index: 254936 entries, 124 to 7712548\n",
      "Data columns (total 5 columns):\n",
      " #   Column         Non-Null Count   Dtype         \n",
      "---  ------         --------------   -----         \n",
      " 0   customer_id    254936 non-null  int64         \n",
      " 1   product_id     254936 non-null  int64         \n",
      " 2   order_id       254936 non-null  int64         \n",
      " 3   purchase_date  254936 non-null  datetime64[ns]\n",
      " 4   items          254936 non-null  float64       \n",
      "dtypes: datetime64[ns](1), float64(1), int64(3)\n",
      "memory usage: 11.7 MB\n"
     ]
    }
   ],
   "source": [
    "df_transacciones.info()"
   ]
  },
  {
   "cell_type": "code",
   "execution_count": 7,
   "metadata": {},
   "outputs": [
    {
     "data": {
      "text/html": [
       "<div>\n",
       "<style scoped>\n",
       "    .dataframe tbody tr th:only-of-type {\n",
       "        vertical-align: middle;\n",
       "    }\n",
       "\n",
       "    .dataframe tbody tr th {\n",
       "        vertical-align: top;\n",
       "    }\n",
       "\n",
       "    .dataframe thead th {\n",
       "        text-align: right;\n",
       "    }\n",
       "</style>\n",
       "<table border=\"1\" class=\"dataframe\">\n",
       "  <thead>\n",
       "    <tr style=\"text-align: right;\">\n",
       "      <th></th>\n",
       "      <th>customer_id</th>\n",
       "      <th>product_id</th>\n",
       "      <th>order_id</th>\n",
       "      <th>purchase_date</th>\n",
       "      <th>items</th>\n",
       "    </tr>\n",
       "  </thead>\n",
       "  <tbody>\n",
       "    <tr>\n",
       "      <th>count</th>\n",
       "      <td>254936.00</td>\n",
       "      <td>254936.00</td>\n",
       "      <td>254936.00</td>\n",
       "      <td>254936</td>\n",
       "      <td>254936.00</td>\n",
       "    </tr>\n",
       "    <tr>\n",
       "      <th>mean</th>\n",
       "      <td>190423.88</td>\n",
       "      <td>30736.52</td>\n",
       "      <td>639982.96</td>\n",
       "      <td>2024-07-11 07:49:38.893526016</td>\n",
       "      <td>4.38</td>\n",
       "    </tr>\n",
       "    <tr>\n",
       "      <th>min</th>\n",
       "      <td>25734.00</td>\n",
       "      <td>60.00</td>\n",
       "      <td>2545.00</td>\n",
       "      <td>2024-01-01 00:00:00</td>\n",
       "      <td>-399.67</td>\n",
       "    </tr>\n",
       "    <tr>\n",
       "      <th>25%</th>\n",
       "      <td>175878.00</td>\n",
       "      <td>1372.00</td>\n",
       "      <td>312307.00</td>\n",
       "      <td>2024-03-26 00:00:00</td>\n",
       "      <td>1.00</td>\n",
       "    </tr>\n",
       "    <tr>\n",
       "      <th>50%</th>\n",
       "      <td>203661.00</td>\n",
       "      <td>33886.00</td>\n",
       "      <td>651109.00</td>\n",
       "      <td>2024-07-23 00:00:00</td>\n",
       "      <td>2.33</td>\n",
       "    </tr>\n",
       "    <tr>\n",
       "      <th>75%</th>\n",
       "      <td>212748.00</td>\n",
       "      <td>56714.00</td>\n",
       "      <td>967222.00</td>\n",
       "      <td>2024-10-23 00:00:00</td>\n",
       "      <td>3.67</td>\n",
       "    </tr>\n",
       "    <tr>\n",
       "      <th>max</th>\n",
       "      <td>2061063.00</td>\n",
       "      <td>63540.00</td>\n",
       "      <td>1248450.00</td>\n",
       "      <td>2024-12-31 00:00:00</td>\n",
       "      <td>1000.33</td>\n",
       "    </tr>\n",
       "    <tr>\n",
       "      <th>std</th>\n",
       "      <td>62817.00</td>\n",
       "      <td>24067.65</td>\n",
       "      <td>371004.07</td>\n",
       "      <td>NaN</td>\n",
       "      <td>12.10</td>\n",
       "    </tr>\n",
       "  </tbody>\n",
       "</table>\n",
       "</div>"
      ],
      "text/plain": [
       "       customer_id  product_id   order_id                  purchase_date  \\\n",
       "count    254936.00   254936.00  254936.00                         254936   \n",
       "mean     190423.88    30736.52  639982.96  2024-07-11 07:49:38.893526016   \n",
       "min       25734.00       60.00    2545.00            2024-01-01 00:00:00   \n",
       "25%      175878.00     1372.00  312307.00            2024-03-26 00:00:00   \n",
       "50%      203661.00    33886.00  651109.00            2024-07-23 00:00:00   \n",
       "75%      212748.00    56714.00  967222.00            2024-10-23 00:00:00   \n",
       "max     2061063.00    63540.00 1248450.00            2024-12-31 00:00:00   \n",
       "std       62817.00    24067.65  371004.07                            NaN   \n",
       "\n",
       "          items  \n",
       "count 254936.00  \n",
       "mean       4.38  \n",
       "min     -399.67  \n",
       "25%        1.00  \n",
       "50%        2.33  \n",
       "75%        3.67  \n",
       "max     1000.33  \n",
       "std       12.10  "
      ]
     },
     "execution_count": 7,
     "metadata": {},
     "output_type": "execute_result"
    }
   ],
   "source": [
    "df_transacciones.describe()"
   ]
  },
  {
   "cell_type": "code",
   "execution_count": 73,
   "metadata": {},
   "outputs": [
    {
     "data": {
      "image/png": "[encoded data removed]",
      "text/plain": [
       "<Figure size 1500x400 with 1 Axes>"
      ]
     },
     "metadata": {},
     "output_type": "display_data"
    }
   ],
   "source": [
    "bboxplot(df_transacciones['items'], \"Boxplot features\", k=1)"
   ]
  },
  {
   "cell_type": "code",
   "execution_count": null,
   "metadata": {},
   "outputs": [
    {
     "data": {
      "text/html": [
       "<div>\n",
       "<style scoped>\n",
       "    .dataframe tbody tr th:only-of-type {\n",
       "        vertical-align: middle;\n",
       "    }\n",
       "\n",
       "    .dataframe tbody tr th {\n",
       "        vertical-align: top;\n",
       "    }\n",
       "\n",
       "    .dataframe thead th {\n",
       "        text-align: right;\n",
       "    }\n",
       "</style>\n",
       "<table border=\"1\" class=\"dataframe\">\n",
       "  <thead>\n",
       "    <tr style=\"text-align: right;\">\n",
       "      <th></th>\n",
       "      <th>columna</th>\n",
       "      <th>outliers</th>\n",
       "      <th>porcentaje</th>\n",
       "    </tr>\n",
       "  </thead>\n",
       "  <tbody>\n",
       "    <tr>\n",
       "      <th>0</th>\n",
       "      <td>items</td>\n",
       "      <td>46810</td>\n",
       "      <td>18.36</td>\n",
       "    </tr>\n",
       "  </tbody>\n",
       "</table>\n",
       "</div>"
      ],
      "text/plain": [
       "  columna  outliers  porcentaje\n",
       "0   items     46810       18.36"
      ]
     },
     "execution_count": 70,
     "metadata": {},
     "output_type": "execute_result"
    }
   ],
   "source": [
    "# se consideran únicamente las variables numéricas relevantes, excluyendo identificadores y variables categóricas\n",
    "iqr_transformer = IQR(lambda_=1)\n",
    "iqr_transformer.fit(df_transacciones)\n",
    "count = iqr_transformer.count_outliers(df_transacciones.drop(columns=['customer_id', 'product_id', 'order_id', 'purchase_date']))\n",
    "count"
   ]
  },
  {
   "cell_type": "code",
   "execution_count": 72,
   "metadata": {},
   "outputs": [
    {
     "name": "stdout",
     "output_type": "stream",
     "text": [
      "Porcentaje de devoluciones: 3.29%, devolucion: 8384\n"
     ]
    }
   ],
   "source": [
    "dir_shopping = {\n",
    "    \"devolucion\": (df_transacciones['items'] < 0).sum(),\n",
    "    \"compra\": (df_transacciones['items'] >= 0).sum()\n",
    "}\n",
    "\n",
    "porcentaje_devoluciones = round(\n",
    "    dir_shopping['devolucion'] / (dir_shopping['compra'] + dir_shopping['devolucion']) * 100,\n",
    "    2\n",
    ")\n",
    "print(f\"Porcentaje de devoluciones: {porcentaje_devoluciones}%, devolucion: {dir_shopping['devolucion']}\")"
   ]
  },
  {
   "cell_type": "markdown",
   "metadata": {},
   "source": [
    "En el DataFrame ``transacciones``, los tipos de datos son consistentes con los valores ingresados, por lo que no es necesario realizar transformaciones adicionales de tipo. Al analizar la distribución de los datos, se observa que la feauture ``Items`` tiene con $\\lambda = 1$ tiene el 18.36% de los datos fuera del rango intercuratilico (IQR), lo cual implica la presentación de una cantidad de outliers significativos. Existen 8384 registros que han sido devueltos a la empresa que corresponden a un 3.28% de las ventas.\n",
    "\n",
    "Dado que la variable ``Items`` constituye la variable objetivo del modelo de predicción de demanda, no debe ser tratada como una variable descriptiva ni aplicar transformaciones que alteren su distribución. En cuanto al preprocesamiento, la única variable transformada es purchase_date. A través de un FunctionTransformer, se descompone esta variable en tres nuevas características: día, mes y año. Estas nuevas columnas se almacenan como variables categóricas utilizando el tipo category de pandas"
   ]
  },
  {
   "cell_type": "markdown",
   "metadata": {},
   "source": [
    "#### dataframe clientes"
   ]
  },
  {
   "cell_type": "code",
   "execution_count": 78,
   "metadata": {},
   "outputs": [
    {
     "data": {
      "text/html": [
       "<div>\n",
       "<style scoped>\n",
       "    .dataframe tbody tr th:only-of-type {\n",
       "        vertical-align: middle;\n",
       "    }\n",
       "\n",
       "    .dataframe tbody tr th {\n",
       "        vertical-align: top;\n",
       "    }\n",
       "\n",
       "    .dataframe thead th {\n",
       "        text-align: right;\n",
       "    }\n",
       "</style>\n",
       "<table border=\"1\" class=\"dataframe\">\n",
       "  <thead>\n",
       "    <tr style=\"text-align: right;\">\n",
       "      <th></th>\n",
       "      <th>customer_id</th>\n",
       "      <th>region_id</th>\n",
       "      <th>zone_id</th>\n",
       "      <th>customer_type</th>\n",
       "      <th>Y</th>\n",
       "      <th>X</th>\n",
       "      <th>num_deliver_per_week</th>\n",
       "      <th>num_visit_per_week</th>\n",
       "    </tr>\n",
       "  </thead>\n",
       "  <tbody>\n",
       "    <tr>\n",
       "      <th>10705</th>\n",
       "      <td>256017</td>\n",
       "      <td>80</td>\n",
       "      <td>5148</td>\n",
       "      <td>ABARROTES</td>\n",
       "      <td>-46.47</td>\n",
       "      <td>-108.05</td>\n",
       "      <td>1</td>\n",
       "      <td>1</td>\n",
       "    </tr>\n",
       "    <tr>\n",
       "      <th>10706</th>\n",
       "      <td>255780</td>\n",
       "      <td>80</td>\n",
       "      <td>5148</td>\n",
       "      <td>ABARROTES</td>\n",
       "      <td>-46.52</td>\n",
       "      <td>-107.96</td>\n",
       "      <td>1</td>\n",
       "      <td>1</td>\n",
       "    </tr>\n",
       "    <tr>\n",
       "      <th>10707</th>\n",
       "      <td>254655</td>\n",
       "      <td>80</td>\n",
       "      <td>5148</td>\n",
       "      <td>ABARROTES</td>\n",
       "      <td>-46.54</td>\n",
       "      <td>-107.91</td>\n",
       "      <td>1</td>\n",
       "      <td>1</td>\n",
       "    </tr>\n",
       "    <tr>\n",
       "      <th>10708</th>\n",
       "      <td>254445</td>\n",
       "      <td>80</td>\n",
       "      <td>5148</td>\n",
       "      <td>ABARROTES</td>\n",
       "      <td>-46.54</td>\n",
       "      <td>-107.92</td>\n",
       "      <td>2</td>\n",
       "      <td>1</td>\n",
       "    </tr>\n",
       "    <tr>\n",
       "      <th>10709</th>\n",
       "      <td>254403</td>\n",
       "      <td>80</td>\n",
       "      <td>5148</td>\n",
       "      <td>ABARROTES</td>\n",
       "      <td>-46.54</td>\n",
       "      <td>-107.91</td>\n",
       "      <td>3</td>\n",
       "      <td>1</td>\n",
       "    </tr>\n",
       "  </tbody>\n",
       "</table>\n",
       "</div>"
      ],
      "text/plain": [
       "       customer_id  region_id  zone_id customer_type      Y       X  \\\n",
       "10705       256017         80     5148     ABARROTES -46.47 -108.05   \n",
       "10706       255780         80     5148     ABARROTES -46.52 -107.96   \n",
       "10707       254655         80     5148     ABARROTES -46.54 -107.91   \n",
       "10708       254445         80     5148     ABARROTES -46.54 -107.92   \n",
       "10709       254403         80     5148     ABARROTES -46.54 -107.91   \n",
       "\n",
       "       num_deliver_per_week  num_visit_per_week  \n",
       "10705                     1                   1  \n",
       "10706                     1                   1  \n",
       "10707                     1                   1  \n",
       "10708                     2                   1  \n",
       "10709                     3                   1  "
      ]
     },
     "execution_count": 78,
     "metadata": {},
     "output_type": "execute_result"
    }
   ],
   "source": [
    "df_clientes.head()"
   ]
  },
  {
   "cell_type": "code",
   "execution_count": 79,
   "metadata": {},
   "outputs": [
    {
     "name": "stdout",
     "output_type": "stream",
     "text": [
      "<class 'pandas.core.frame.DataFrame'>\n",
      "Index: 1569 entries, 10705 to 12273\n",
      "Data columns (total 8 columns):\n",
      " #   Column                Non-Null Count  Dtype   \n",
      "---  ------                --------------  -----   \n",
      " 0   customer_id           1569 non-null   int64   \n",
      " 1   region_id             1569 non-null   int64   \n",
      " 2   zone_id               1569 non-null   int64   \n",
      " 3   customer_type         1569 non-null   category\n",
      " 4   Y                     1569 non-null   float64 \n",
      " 5   X                     1568 non-null   float64 \n",
      " 6   num_deliver_per_week  1569 non-null   int64   \n",
      " 7   num_visit_per_week    1569 non-null   int64   \n",
      "dtypes: category(1), float64(2), int64(5)\n",
      "memory usage: 99.9 KB\n"
     ]
    }
   ],
   "source": [
    "df_clientes.info()"
   ]
  },
  {
   "cell_type": "code",
   "execution_count": null,
   "metadata": {},
   "outputs": [
    {
     "data": {
      "text/plain": [
       "customer_id             0\n",
       "region_id               0\n",
       "zone_id                 0\n",
       "customer_type           0\n",
       "Y                       0\n",
       "X                       1\n",
       "num_deliver_per_week    0\n",
       "num_visit_per_week      0\n",
       "dtype: int64"
      ]
     },
     "execution_count": 104,
     "metadata": {},
     "output_type": "execute_result"
    }
   ],
   "source": [
    "# se tiene un valor nulo en X. Se debe realizar una amputación de datos como parte del preprocesamiento\n",
    "df_clientes.isnull().sum()"
   ]
  },
  {
   "cell_type": "code",
   "execution_count": null,
   "metadata": {},
   "outputs": [],
   "source": [
    "# se convierte la columna de tipo 'object' a 'category' para optimizar el uso de memoria\n",
    "df_clientes = df_clientes.apply(\n",
    "    lambda col: col.astype('category') if col.dtype == 'object' else col\n",
    ")"
   ]
  },
  {
   "cell_type": "code",
   "execution_count": 92,
   "metadata": {},
   "outputs": [],
   "source": [
    "import matplotlib.pyplot as plt\n",
    "\n",
    "def barplot(serie, titulo='Distribución de categorías', xlabel='Categoría', ylabel='Frecuencia', rot=45):\n",
    "    conteo = serie.value_counts().sort_index()\n",
    "    df_plot = pd.DataFrame({xlabel: conteo.index, ylabel: conteo.values})\n",
    "\n",
    "    plt.figure(figsize=(8, 5))\n",
    "    sns.barplot(data=df_plot, x=xlabel, y=ylabel)\n",
    "    plt.title(f\"{titulo}: {serie.name}\")\n",
    "    plt.xticks(rotation=rot)\n",
    "    plt.grid(axis='y', linestyle='--', alpha=0.7)\n",
    "    plt.tight_layout()\n",
    "    plt.show()"
   ]
  },
  {
   "cell_type": "code",
   "execution_count": null,
   "metadata": {},
   "outputs": [
    {
     "data": {
      "text/html": [
       "<div>\n",
       "<style scoped>\n",
       "    .dataframe tbody tr th:only-of-type {\n",
       "        vertical-align: middle;\n",
       "    }\n",
       "\n",
       "    .dataframe tbody tr th {\n",
       "        vertical-align: top;\n",
       "    }\n",
       "\n",
       "    .dataframe thead th {\n",
       "        text-align: right;\n",
       "    }\n",
       "</style>\n",
       "<table border=\"1\" class=\"dataframe\">\n",
       "  <thead>\n",
       "    <tr style=\"text-align: right;\">\n",
       "      <th></th>\n",
       "      <th>customer_id</th>\n",
       "      <th>region_id</th>\n",
       "      <th>zone_id</th>\n",
       "      <th>Y</th>\n",
       "      <th>X</th>\n",
       "      <th>num_deliver_per_week</th>\n",
       "      <th>num_visit_per_week</th>\n",
       "    </tr>\n",
       "  </thead>\n",
       "  <tbody>\n",
       "    <tr>\n",
       "      <th>count</th>\n",
       "      <td>1569.00</td>\n",
       "      <td>1569.00</td>\n",
       "      <td>1569.00</td>\n",
       "      <td>1569.00</td>\n",
       "      <td>1568.00</td>\n",
       "      <td>1569.00</td>\n",
       "      <td>1569.00</td>\n",
       "    </tr>\n",
       "    <tr>\n",
       "      <th>mean</th>\n",
       "      <td>198095.18</td>\n",
       "      <td>80.00</td>\n",
       "      <td>5148.00</td>\n",
       "      <td>-46.70</td>\n",
       "      <td>-107.74</td>\n",
       "      <td>3.10</td>\n",
       "      <td>1.00</td>\n",
       "    </tr>\n",
       "    <tr>\n",
       "      <th>std</th>\n",
       "      <td>66482.83</td>\n",
       "      <td>0.00</td>\n",
       "      <td>0.00</td>\n",
       "      <td>2.70</td>\n",
       "      <td>2.69</td>\n",
       "      <td>0.52</td>\n",
       "      <td>0.00</td>\n",
       "    </tr>\n",
       "    <tr>\n",
       "      <th>min</th>\n",
       "      <td>25734.00</td>\n",
       "      <td>80.00</td>\n",
       "      <td>5148.00</td>\n",
       "      <td>-109.00</td>\n",
       "      <td>-108.62</td>\n",
       "      <td>1.00</td>\n",
       "      <td>1.00</td>\n",
       "    </tr>\n",
       "    <tr>\n",
       "      <th>25%</th>\n",
       "      <td>178818.00</td>\n",
       "      <td>80.00</td>\n",
       "      <td>5148.00</td>\n",
       "      <td>-46.59</td>\n",
       "      <td>-107.93</td>\n",
       "      <td>3.00</td>\n",
       "      <td>1.00</td>\n",
       "    </tr>\n",
       "    <tr>\n",
       "      <th>50%</th>\n",
       "      <td>206697.00</td>\n",
       "      <td>80.00</td>\n",
       "      <td>5148.00</td>\n",
       "      <td>-46.56</td>\n",
       "      <td>-107.89</td>\n",
       "      <td>3.00</td>\n",
       "      <td>1.00</td>\n",
       "    </tr>\n",
       "    <tr>\n",
       "      <th>75%</th>\n",
       "      <td>227670.00</td>\n",
       "      <td>80.00</td>\n",
       "      <td>5148.00</td>\n",
       "      <td>-46.51</td>\n",
       "      <td>-107.86</td>\n",
       "      <td>3.00</td>\n",
       "      <td>1.00</td>\n",
       "    </tr>\n",
       "    <tr>\n",
       "      <th>max</th>\n",
       "      <td>2061063.00</td>\n",
       "      <td>80.00</td>\n",
       "      <td>5148.00</td>\n",
       "      <td>-46.16</td>\n",
       "      <td>-46.44</td>\n",
       "      <td>6.00</td>\n",
       "      <td>1.00</td>\n",
       "    </tr>\n",
       "  </tbody>\n",
       "</table>\n",
       "</div>"
      ],
      "text/plain": [
       "       customer_id  region_id  zone_id       Y       X  num_deliver_per_week  \\\n",
       "count      1569.00    1569.00  1569.00 1569.00 1568.00               1569.00   \n",
       "mean     198095.18      80.00  5148.00  -46.70 -107.74                  3.10   \n",
       "std       66482.83       0.00     0.00    2.70    2.69                  0.52   \n",
       "min       25734.00      80.00  5148.00 -109.00 -108.62                  1.00   \n",
       "25%      178818.00      80.00  5148.00  -46.59 -107.93                  3.00   \n",
       "50%      206697.00      80.00  5148.00  -46.56 -107.89                  3.00   \n",
       "75%      227670.00      80.00  5148.00  -46.51 -107.86                  3.00   \n",
       "max     2061063.00      80.00  5148.00  -46.16  -46.44                  6.00   \n",
       "\n",
       "       num_visit_per_week  \n",
       "count             1569.00  \n",
       "mean                 1.00  \n",
       "std                  0.00  \n",
       "min                  1.00  \n",
       "25%                  1.00  \n",
       "50%                  1.00  \n",
       "75%                  1.00  \n",
       "max                  1.00  "
      ]
     },
     "execution_count": 81,
     "metadata": {},
     "output_type": "execute_result"
    }
   ],
   "source": [
    "# las variables X, Y, num_Deliver_per_week, num_visit_per_week deben ser normalizadas\n",
    "df_clientes.describe()"
   ]
  },
  {
   "cell_type": "code",
   "execution_count": null,
   "metadata": {},
   "outputs": [
    {
     "data": {
      "text/html": [
       "<div>\n",
       "<style scoped>\n",
       "    .dataframe tbody tr th:only-of-type {\n",
       "        vertical-align: middle;\n",
       "    }\n",
       "\n",
       "    .dataframe tbody tr th {\n",
       "        vertical-align: top;\n",
       "    }\n",
       "\n",
       "    .dataframe thead th {\n",
       "        text-align: right;\n",
       "    }\n",
       "</style>\n",
       "<table border=\"1\" class=\"dataframe\">\n",
       "  <thead>\n",
       "    <tr style=\"text-align: right;\">\n",
       "      <th></th>\n",
       "      <th>columna</th>\n",
       "      <th>outliers</th>\n",
       "      <th>porcentaje</th>\n",
       "    </tr>\n",
       "  </thead>\n",
       "  <tbody>\n",
       "    <tr>\n",
       "      <th>0</th>\n",
       "      <td>num_deliver_per_week</td>\n",
       "      <td>330</td>\n",
       "      <td>21.03</td>\n",
       "    </tr>\n",
       "    <tr>\n",
       "      <th>1</th>\n",
       "      <td>num_visit_per_week</td>\n",
       "      <td>0</td>\n",
       "      <td>0.00</td>\n",
       "    </tr>\n",
       "  </tbody>\n",
       "</table>\n",
       "</div>"
      ],
      "text/plain": [
       "                columna  outliers  porcentaje\n",
       "0  num_deliver_per_week       330       21.03\n",
       "1    num_visit_per_week         0        0.00"
      ]
     },
     "execution_count": 95,
     "metadata": {},
     "output_type": "execute_result"
    }
   ],
   "source": [
    "# se consideran únicamente las variables numéricas relevantes, excluyendo identificadores y variables categóricas\n",
    "iqr_transformer = IQR(lambda_=1)\n",
    "iqr_transformer.fit(df_clientes.drop(columns=['customer_type', 'customer_id', 'region_id', 'zone_id', 'X', 'Y']))\n",
    "count = iqr_transformer.count_outliers(df_clientes)\n",
    "count"
   ]
  },
  {
   "cell_type": "code",
   "execution_count": 106,
   "metadata": {},
   "outputs": [
    {
     "data": {
      "image/png": "[encoded data removed]",
      "text/plain": [
       "<Figure size 800x500 with 1 Axes>"
      ]
     },
     "metadata": {},
     "output_type": "display_data"
    }
   ],
   "source": [
    "# todos los clientes son visitados por la \"fuerza de ventas\" una vez por semana\n",
    "barplot(df_clientes['num_visit_per_week'])\n"
   ]
  },
  {
   "cell_type": "code",
   "execution_count": null,
   "metadata": {},
   "outputs": [
    {
     "data": {
      "image/png": "[encoded data removed]",
      "text/plain": [
       "<Figure size 1500x400 with 1 Axes>"
      ]
     },
     "metadata": {},
     "output_type": "display_data"
    }
   ],
   "source": [
    "#existe un outlier significativo en las coordenadas del eje X\n",
    "bboxplot(df_clientes['X'])"
   ]
  },
  {
   "cell_type": "code",
   "execution_count": null,
   "metadata": {},
   "outputs": [
    {
     "data": {
      "image/png": "[encoded data removed]",
      "text/plain": [
       "<Figure size 1500x400 with 1 Axes>"
      ]
     },
     "metadata": {},
     "output_type": "display_data"
    }
   ],
   "source": [
    "# existen outliers significativos en las coordenadas del eje Y\n",
    "bboxplot(df_clientes['Y'])"
   ]
  },
  {
   "cell_type": "code",
   "execution_count": 99,
   "metadata": {},
   "outputs": [
    {
     "data": {
      "image/png": "[encoded data removed]",
      "text/plain": [
       "<Figure size 800x500 with 1 Axes>"
      ]
     },
     "metadata": {},
     "output_type": "display_data"
    },
    {
     "name": "stdout",
     "output_type": "stream",
     "text": [
      "customer_type\n",
      "ABARROTES                 1160\n",
      "MAYORISTA                  223\n",
      "CANAL FRIO                  85\n",
      "RESTAURANT                  60\n",
      "SUPERMERCADO                25\n",
      "MINIMARKET                   9\n",
      "TIENDA DE CONVENIENCIA       7\n",
      "Name: count, dtype: int64\n"
     ]
    }
   ],
   "source": [
    "# existe un sesgo hacia un tipo particular de comercio\n",
    "barplot(df_clientes['customer_type'])\n",
    "print(df_clientes['customer_type'].value_counts(dropna=False))\n"
   ]
  },
  {
   "cell_type": "code",
   "execution_count": null,
   "metadata": {},
   "outputs": [
    {
     "data": {
      "image/png": "[encoded data removed]",
      "text/plain": [
       "<Figure size 800x500 with 1 Axes>"
      ]
     },
     "metadata": {},
     "output_type": "display_data"
    },
    {
     "name": "stdout",
     "output_type": "stream",
     "text": [
      "num_deliver_per_week\n",
      "3    1239\n",
      "4     257\n",
      "2      40\n",
      "1      30\n",
      "5       2\n",
      "6       1\n",
      "Name: count, dtype: int64\n"
     ]
    }
   ],
   "source": [
    "# se entregan productos a los clientes por lo general 3 veces por semana\n",
    "barplot(df_clientes['num_deliver_per_week'])\n",
    "print(df_clientes['num_deliver_per_week'].value_counts(dropna=False))"
   ]
  },
  {
   "cell_type": "markdown",
   "metadata": {},
   "source": [
    "En el Dataframe `clientes`, existe un tipo de datos categórico que se transforma su tipo para ser mas desciptivo. Existe un valor nulo, se agrega un INputador de datos considerando remplazar el valor nulo por la media. Como parte del preprocesado se utiliza un OneHotEncoder para la variable ``customer_type``, mientras que se normalizan las variables númericas usando StandardScaler() para ``num_deliver_per_week`` y MinMaxScaler para las otras variables que no siguen (aparentemente) una distribución normal: ``X``, ``Y``, ``num_visir_per_week``."
   ]
  },
  {
   "cell_type": "code",
   "execution_count": null,
   "metadata": {},
   "outputs": [
    {
     "data": {
      "text/html": [
       "<div>\n",
       "<style scoped>\n",
       "    .dataframe tbody tr th:only-of-type {\n",
       "        vertical-align: middle;\n",
       "    }\n",
       "\n",
       "    .dataframe tbody tr th {\n",
       "        vertical-align: top;\n",
       "    }\n",
       "\n",
       "    .dataframe thead th {\n",
       "        text-align: right;\n",
       "    }\n",
       "</style>\n",
       "<table border=\"1\" class=\"dataframe\">\n",
       "  <thead>\n",
       "    <tr style=\"text-align: right;\">\n",
       "      <th></th>\n",
       "      <th>X</th>\n",
       "      <th>Y</th>\n",
       "      <th>num_visit_per_week</th>\n",
       "      <th>num_deliver_per_week</th>\n",
       "      <th>customer_type_ABARROTES</th>\n",
       "      <th>customer_type_CANAL FRIO</th>\n",
       "      <th>customer_type_MAYORISTA</th>\n",
       "      <th>customer_type_MINIMARKET</th>\n",
       "      <th>customer_type_RESTAURANT</th>\n",
       "      <th>customer_type_SUPERMERCADO</th>\n",
       "      <th>customer_type_TIENDA DE CONVENIENCIA</th>\n",
       "      <th>customer_id</th>\n",
       "      <th>region_id</th>\n",
       "      <th>zone_id</th>\n",
       "    </tr>\n",
       "  </thead>\n",
       "  <tbody>\n",
       "    <tr>\n",
       "      <th>10705</th>\n",
       "      <td>0.01</td>\n",
       "      <td>1.00</td>\n",
       "      <td>0.00</td>\n",
       "      <td>-4.09</td>\n",
       "      <td>1.00</td>\n",
       "      <td>0.00</td>\n",
       "      <td>0.00</td>\n",
       "      <td>0.00</td>\n",
       "      <td>0.00</td>\n",
       "      <td>0.00</td>\n",
       "      <td>0.00</td>\n",
       "      <td>256017</td>\n",
       "      <td>80</td>\n",
       "      <td>5148</td>\n",
       "    </tr>\n",
       "    <tr>\n",
       "      <th>10706</th>\n",
       "      <td>0.01</td>\n",
       "      <td>0.99</td>\n",
       "      <td>0.00</td>\n",
       "      <td>-4.09</td>\n",
       "      <td>1.00</td>\n",
       "      <td>0.00</td>\n",
       "      <td>0.00</td>\n",
       "      <td>0.00</td>\n",
       "      <td>0.00</td>\n",
       "      <td>0.00</td>\n",
       "      <td>0.00</td>\n",
       "      <td>255780</td>\n",
       "      <td>80</td>\n",
       "      <td>5148</td>\n",
       "    </tr>\n",
       "    <tr>\n",
       "      <th>10707</th>\n",
       "      <td>0.01</td>\n",
       "      <td>0.99</td>\n",
       "      <td>0.00</td>\n",
       "      <td>-4.09</td>\n",
       "      <td>1.00</td>\n",
       "      <td>0.00</td>\n",
       "      <td>0.00</td>\n",
       "      <td>0.00</td>\n",
       "      <td>0.00</td>\n",
       "      <td>0.00</td>\n",
       "      <td>0.00</td>\n",
       "      <td>254655</td>\n",
       "      <td>80</td>\n",
       "      <td>5148</td>\n",
       "    </tr>\n",
       "    <tr>\n",
       "      <th>10708</th>\n",
       "      <td>0.01</td>\n",
       "      <td>0.99</td>\n",
       "      <td>0.00</td>\n",
       "      <td>-2.15</td>\n",
       "      <td>1.00</td>\n",
       "      <td>0.00</td>\n",
       "      <td>0.00</td>\n",
       "      <td>0.00</td>\n",
       "      <td>0.00</td>\n",
       "      <td>0.00</td>\n",
       "      <td>0.00</td>\n",
       "      <td>254445</td>\n",
       "      <td>80</td>\n",
       "      <td>5148</td>\n",
       "    </tr>\n",
       "    <tr>\n",
       "      <th>10709</th>\n",
       "      <td>0.01</td>\n",
       "      <td>0.99</td>\n",
       "      <td>0.00</td>\n",
       "      <td>-0.20</td>\n",
       "      <td>1.00</td>\n",
       "      <td>0.00</td>\n",
       "      <td>0.00</td>\n",
       "      <td>0.00</td>\n",
       "      <td>0.00</td>\n",
       "      <td>0.00</td>\n",
       "      <td>0.00</td>\n",
       "      <td>254403</td>\n",
       "      <td>80</td>\n",
       "      <td>5148</td>\n",
       "    </tr>\n",
       "  </tbody>\n",
       "</table>\n",
       "</div>"
      ],
      "text/plain": [
       "         X    Y  num_visit_per_week  num_deliver_per_week  \\\n",
       "10705 0.01 1.00                0.00                 -4.09   \n",
       "10706 0.01 0.99                0.00                 -4.09   \n",
       "10707 0.01 0.99                0.00                 -4.09   \n",
       "10708 0.01 0.99                0.00                 -2.15   \n",
       "10709 0.01 0.99                0.00                 -0.20   \n",
       "\n",
       "       customer_type_ABARROTES  customer_type_CANAL FRIO  \\\n",
       "10705                     1.00                      0.00   \n",
       "10706                     1.00                      0.00   \n",
       "10707                     1.00                      0.00   \n",
       "10708                     1.00                      0.00   \n",
       "10709                     1.00                      0.00   \n",
       "\n",
       "       customer_type_MAYORISTA  customer_type_MINIMARKET  \\\n",
       "10705                     0.00                      0.00   \n",
       "10706                     0.00                      0.00   \n",
       "10707                     0.00                      0.00   \n",
       "10708                     0.00                      0.00   \n",
       "10709                     0.00                      0.00   \n",
       "\n",
       "       customer_type_RESTAURANT  customer_type_SUPERMERCADO  \\\n",
       "10705                      0.00                        0.00   \n",
       "10706                      0.00                        0.00   \n",
       "10707                      0.00                        0.00   \n",
       "10708                      0.00                        0.00   \n",
       "10709                      0.00                        0.00   \n",
       "\n",
       "       customer_type_TIENDA DE CONVENIENCIA  customer_id  region_id  zone_id  \n",
       "10705                                  0.00       256017         80     5148  \n",
       "10706                                  0.00       255780         80     5148  \n",
       "10707                                  0.00       254655         80     5148  \n",
       "10708                                  0.00       254445         80     5148  \n",
       "10709                                  0.00       254403         80     5148  "
      ]
     },
     "execution_count": 124,
     "metadata": {},
     "output_type": "execute_result"
    }
   ],
   "source": [
    "from sklearn.pipeline import Pipeline\n",
    "from sklearn.compose import ColumnTransformer\n",
    "from sklearn.impute import SimpleImputer\n",
    "from sklearn.preprocessing import MinMaxScaler, OneHotEncoder, StandardScaler\n",
    "import pandas as pd\n",
    "\n",
    "# Pipelines separados\n",
    "num_pipeline = Pipeline([\n",
    "    ('imputer', SimpleImputer(strategy='mean')),\n",
    "    ('scaler', MinMaxScaler())\n",
    "])\n",
    "\n",
    "num_norm_pipeline = Pipeline([\n",
    "    ('imputer', SimpleImputer(strategy='mean')),\n",
    "    ('scaler', StandardScaler())\n",
    "])\n",
    "\n",
    "cat_pipeline = Pipeline([\n",
    "    ('imputer', SimpleImputer(strategy='most_frequent')),\n",
    "    ('encoder', OneHotEncoder(handle_unknown='ignore', sparse_output=False))\n",
    "])\n",
    "\n",
    "# ColumnTransformer\n",
    "preprocessor = ColumnTransformer([\n",
    "    ('num', num_pipeline, ['X', 'Y', 'num_visit_per_week']),\n",
    "    ('num_norm', num_norm_pipeline, ['num_deliver_per_week']),\n",
    "    ('cat', cat_pipeline, ['customer_type']),\n",
    "], remainder='passthrough',\n",
    "   verbose_feature_names_out=False\n",
    ").set_output(transform='pandas')\n",
    "\n",
    "# Aplica el preprocesador\n",
    "X = df_clientes\n",
    "df_transformed_array = preprocessor.fit_transform(X)\n",
    "\n",
    "# Recuperar nombres de columnas transformadas\n",
    "feature_names = preprocessor.get_feature_names_out()\n",
    "df_clientes_transformed = pd.DataFrame(df_transformed_array, columns=feature_names)\n",
    "\n",
    "df_clientes_transformed.head()"
   ]
  },
  {
   "cell_type": "markdown",
   "metadata": {},
   "source": [
    "#### dataframe productos"
   ]
  },
  {
   "cell_type": "code",
   "execution_count": 83,
   "metadata": {},
   "outputs": [
    {
     "data": {
      "text/html": [
       "<div>\n",
       "<style scoped>\n",
       "    .dataframe tbody tr th:only-of-type {\n",
       "        vertical-align: middle;\n",
       "    }\n",
       "\n",
       "    .dataframe tbody tr th {\n",
       "        vertical-align: top;\n",
       "    }\n",
       "\n",
       "    .dataframe thead th {\n",
       "        text-align: right;\n",
       "    }\n",
       "</style>\n",
       "<table border=\"1\" class=\"dataframe\">\n",
       "  <thead>\n",
       "    <tr style=\"text-align: right;\">\n",
       "      <th></th>\n",
       "      <th>product_id</th>\n",
       "      <th>brand</th>\n",
       "      <th>category</th>\n",
       "      <th>sub_category</th>\n",
       "      <th>segment</th>\n",
       "      <th>package</th>\n",
       "      <th>size</th>\n",
       "    </tr>\n",
       "  </thead>\n",
       "  <tbody>\n",
       "    <tr>\n",
       "      <th>0</th>\n",
       "      <td>34092</td>\n",
       "      <td>Brand 31</td>\n",
       "      <td>BEBIDAS CARBONATADAS</td>\n",
       "      <td>GASEOSAS</td>\n",
       "      <td>PREMIUM</td>\n",
       "      <td>BOTELLA</td>\n",
       "      <td>0.66</td>\n",
       "    </tr>\n",
       "    <tr>\n",
       "      <th>1</th>\n",
       "      <td>57290</td>\n",
       "      <td>Brand 31</td>\n",
       "      <td>BEBIDAS CARBONATADAS</td>\n",
       "      <td>GASEOSAS</td>\n",
       "      <td>PREMIUM</td>\n",
       "      <td>BOTELLA</td>\n",
       "      <td>0.66</td>\n",
       "    </tr>\n",
       "    <tr>\n",
       "      <th>2</th>\n",
       "      <td>56714</td>\n",
       "      <td>Brand 31</td>\n",
       "      <td>BEBIDAS CARBONATADAS</td>\n",
       "      <td>GASEOSAS</td>\n",
       "      <td>PREMIUM</td>\n",
       "      <td>BOTELLA</td>\n",
       "      <td>0.66</td>\n",
       "    </tr>\n",
       "    <tr>\n",
       "      <th>3</th>\n",
       "      <td>296616</td>\n",
       "      <td>Brand 31</td>\n",
       "      <td>BEBIDAS CARBONATADAS</td>\n",
       "      <td>GASEOSAS</td>\n",
       "      <td>PREMIUM</td>\n",
       "      <td>BOTELLA</td>\n",
       "      <td>0.66</td>\n",
       "    </tr>\n",
       "    <tr>\n",
       "      <th>4</th>\n",
       "      <td>60854</td>\n",
       "      <td>Brand 31</td>\n",
       "      <td>BEBIDAS CARBONATADAS</td>\n",
       "      <td>GASEOSAS</td>\n",
       "      <td>PREMIUM</td>\n",
       "      <td>BOTELLA</td>\n",
       "      <td>0.25</td>\n",
       "    </tr>\n",
       "  </tbody>\n",
       "</table>\n",
       "</div>"
      ],
      "text/plain": [
       "   product_id     brand              category sub_category  segment  package  \\\n",
       "0       34092  Brand 31  BEBIDAS CARBONATADAS     GASEOSAS  PREMIUM  BOTELLA   \n",
       "1       57290  Brand 31  BEBIDAS CARBONATADAS     GASEOSAS  PREMIUM  BOTELLA   \n",
       "2       56714  Brand 31  BEBIDAS CARBONATADAS     GASEOSAS  PREMIUM  BOTELLA   \n",
       "3      296616  Brand 31  BEBIDAS CARBONATADAS     GASEOSAS  PREMIUM  BOTELLA   \n",
       "4       60854  Brand 31  BEBIDAS CARBONATADAS     GASEOSAS  PREMIUM  BOTELLA   \n",
       "\n",
       "   size  \n",
       "0  0.66  \n",
       "1  0.66  \n",
       "2  0.66  \n",
       "3  0.66  \n",
       "4  0.25  "
      ]
     },
     "execution_count": 83,
     "metadata": {},
     "output_type": "execute_result"
    }
   ],
   "source": [
    "df_productos.head()"
   ]
  },
  {
   "cell_type": "markdown",
   "metadata": {},
   "source": [
    "### **Transformación de datos**"
   ]
  },
  {
   "cell_type": "code",
   "execution_count": null,
   "metadata": {},
   "outputs": [],
   "source": [
    "# se decide normalziar los datos he imputar los outliers"
   ]
  },
  {
   "cell_type": "code",
   "execution_count": null,
   "metadata": {},
   "outputs": [],
   "source": [
    "import matplotlib.pyplot as plt\n",
    "import seaborn as sns\n",
    "from sklearn.pipeline import Pipeline\n",
    "from sklearn.compose import ColumnTransformer\n",
    "from sklearn.preprocessing import StandardScaler, MinMaxScaler\n",
    "from sklearn.impute import SimpleImputer\n",
    "from sklearn.preprocessing import OneHotEncoder\n",
    "\n",
    "\n",
    "def preprocessing_pipeline(df, numerical_columns, categorical_columns):\n",
    "    categorical_transformer = OneHotEncoder(handle_unknown='ignore', sparse_output=False)\n",
    "    numerical_transformer = Pipeline(steps=[\n",
    "        ('iqr', IQR(lambda_=2)),\n",
    "        ('imputer', SimpleImputer(strategy='mean')),\n",
    "        ('scaler', StandardScaler()),\n",
    "    ])\n",
    "\n",
    "    preprocessor = ColumnTransformer(\n",
    "        transformers=[\n",
    "            ('num', numerical_transformer, numerical_columns),\n",
    "            ('cat', categorical_transformer, categorical_columns)\n",
    "        ],\n",
    "        remainder='passthrough',\n",
    "        verbose_feature_names_out=False\n",
    "    ).set_output(transform='pandas')\n",
    "\n",
    "    return preprocessor.fit_transform(df)"
   ]
  },
  {
   "cell_type": "markdown",
   "metadata": {},
   "source": [
    "### **Cruce de información**"
   ]
  },
  {
   "cell_type": "code",
   "execution_count": 8,
   "metadata": {},
   "outputs": [
    {
     "data": {
      "text/html": [
       "<div>\n",
       "<style scoped>\n",
       "    .dataframe tbody tr th:only-of-type {\n",
       "        vertical-align: middle;\n",
       "    }\n",
       "\n",
       "    .dataframe tbody tr th {\n",
       "        vertical-align: top;\n",
       "    }\n",
       "\n",
       "    .dataframe thead th {\n",
       "        text-align: right;\n",
       "    }\n",
       "</style>\n",
       "<table border=\"1\" class=\"dataframe\">\n",
       "  <thead>\n",
       "    <tr style=\"text-align: right;\">\n",
       "      <th></th>\n",
       "      <th>customer_id</th>\n",
       "      <th>product_id</th>\n",
       "      <th>order_id</th>\n",
       "      <th>purchase_date</th>\n",
       "      <th>items</th>\n",
       "      <th>region_id</th>\n",
       "      <th>zone_id</th>\n",
       "      <th>customer_type</th>\n",
       "      <th>Y</th>\n",
       "      <th>X</th>\n",
       "      <th>num_deliver_per_week</th>\n",
       "      <th>num_visit_per_week</th>\n",
       "      <th>brand</th>\n",
       "      <th>category</th>\n",
       "      <th>sub_category</th>\n",
       "      <th>segment</th>\n",
       "      <th>package</th>\n",
       "      <th>size</th>\n",
       "    </tr>\n",
       "  </thead>\n",
       "  <tbody>\n",
       "    <tr>\n",
       "      <th>0</th>\n",
       "      <td>61353</td>\n",
       "      <td>61364</td>\n",
       "      <td>411145</td>\n",
       "      <td>2024-04-27</td>\n",
       "      <td>-0.333333</td>\n",
       "      <td>80</td>\n",
       "      <td>5148</td>\n",
       "      <td>ABARROTES</td>\n",
       "      <td>-46.558718</td>\n",
       "      <td>-107.860564</td>\n",
       "      <td>3</td>\n",
       "      <td>1</td>\n",
       "      <td>Brand 35</td>\n",
       "      <td>BEBIDAS CARBONATADAS</td>\n",
       "      <td>GASEOSAS</td>\n",
       "      <td>MEDIUM</td>\n",
       "      <td>BOTELLA</td>\n",
       "      <td>1.0</td>\n",
       "    </tr>\n",
       "    <tr>\n",
       "      <th>1</th>\n",
       "      <td>61353</td>\n",
       "      <td>61364</td>\n",
       "      <td>411145</td>\n",
       "      <td>2024-04-27</td>\n",
       "      <td>1.000000</td>\n",
       "      <td>80</td>\n",
       "      <td>5148</td>\n",
       "      <td>ABARROTES</td>\n",
       "      <td>-46.558718</td>\n",
       "      <td>-107.860564</td>\n",
       "      <td>3</td>\n",
       "      <td>1</td>\n",
       "      <td>Brand 35</td>\n",
       "      <td>BEBIDAS CARBONATADAS</td>\n",
       "      <td>GASEOSAS</td>\n",
       "      <td>MEDIUM</td>\n",
       "      <td>BOTELLA</td>\n",
       "      <td>1.0</td>\n",
       "    </tr>\n",
       "    <tr>\n",
       "      <th>2</th>\n",
       "      <td>61353</td>\n",
       "      <td>61364</td>\n",
       "      <td>434622</td>\n",
       "      <td>2024-05-04</td>\n",
       "      <td>1.000000</td>\n",
       "      <td>80</td>\n",
       "      <td>5148</td>\n",
       "      <td>ABARROTES</td>\n",
       "      <td>-46.558718</td>\n",
       "      <td>-107.860564</td>\n",
       "      <td>3</td>\n",
       "      <td>1</td>\n",
       "      <td>Brand 35</td>\n",
       "      <td>BEBIDAS CARBONATADAS</td>\n",
       "      <td>GASEOSAS</td>\n",
       "      <td>MEDIUM</td>\n",
       "      <td>BOTELLA</td>\n",
       "      <td>1.0</td>\n",
       "    </tr>\n",
       "    <tr>\n",
       "      <th>3</th>\n",
       "      <td>61899</td>\n",
       "      <td>61364</td>\n",
       "      <td>390574</td>\n",
       "      <td>2024-04-22</td>\n",
       "      <td>4.333333</td>\n",
       "      <td>80</td>\n",
       "      <td>5148</td>\n",
       "      <td>MAYORISTA</td>\n",
       "      <td>-46.557632</td>\n",
       "      <td>-107.896470</td>\n",
       "      <td>3</td>\n",
       "      <td>1</td>\n",
       "      <td>Brand 35</td>\n",
       "      <td>BEBIDAS CARBONATADAS</td>\n",
       "      <td>GASEOSAS</td>\n",
       "      <td>MEDIUM</td>\n",
       "      <td>BOTELLA</td>\n",
       "      <td>1.0</td>\n",
       "    </tr>\n",
       "    <tr>\n",
       "      <th>4</th>\n",
       "      <td>172056</td>\n",
       "      <td>61364</td>\n",
       "      <td>365343</td>\n",
       "      <td>2024-04-12</td>\n",
       "      <td>1.000000</td>\n",
       "      <td>80</td>\n",
       "      <td>5148</td>\n",
       "      <td>MAYORISTA</td>\n",
       "      <td>-46.564528</td>\n",
       "      <td>-107.927651</td>\n",
       "      <td>4</td>\n",
       "      <td>1</td>\n",
       "      <td>Brand 35</td>\n",
       "      <td>BEBIDAS CARBONATADAS</td>\n",
       "      <td>GASEOSAS</td>\n",
       "      <td>MEDIUM</td>\n",
       "      <td>BOTELLA</td>\n",
       "      <td>1.0</td>\n",
       "    </tr>\n",
       "  </tbody>\n",
       "</table>\n",
       "</div>"
      ],
      "text/plain": [
       "   customer_id  product_id  order_id purchase_date     items  region_id  \\\n",
       "0        61353       61364    411145    2024-04-27 -0.333333         80   \n",
       "1        61353       61364    411145    2024-04-27  1.000000         80   \n",
       "2        61353       61364    434622    2024-05-04  1.000000         80   \n",
       "3        61899       61364    390574    2024-04-22  4.333333         80   \n",
       "4       172056       61364    365343    2024-04-12  1.000000         80   \n",
       "\n",
       "   zone_id customer_type          Y           X  num_deliver_per_week  \\\n",
       "0     5148     ABARROTES -46.558718 -107.860564                     3   \n",
       "1     5148     ABARROTES -46.558718 -107.860564                     3   \n",
       "2     5148     ABARROTES -46.558718 -107.860564                     3   \n",
       "3     5148     MAYORISTA -46.557632 -107.896470                     3   \n",
       "4     5148     MAYORISTA -46.564528 -107.927651                     4   \n",
       "\n",
       "   num_visit_per_week     brand              category sub_category segment  \\\n",
       "0                   1  Brand 35  BEBIDAS CARBONATADAS     GASEOSAS  MEDIUM   \n",
       "1                   1  Brand 35  BEBIDAS CARBONATADAS     GASEOSAS  MEDIUM   \n",
       "2                   1  Brand 35  BEBIDAS CARBONATADAS     GASEOSAS  MEDIUM   \n",
       "3                   1  Brand 35  BEBIDAS CARBONATADAS     GASEOSAS  MEDIUM   \n",
       "4                   1  Brand 35  BEBIDAS CARBONATADAS     GASEOSAS  MEDIUM   \n",
       "\n",
       "   package  size  \n",
       "0  BOTELLA   1.0  \n",
       "1  BOTELLA   1.0  \n",
       "2  BOTELLA   1.0  \n",
       "3  BOTELLA   1.0  \n",
       "4  BOTELLA   1.0  "
      ]
     },
     "execution_count": 8,
     "metadata": {},
     "output_type": "execute_result"
    }
   ],
   "source": [
    "# Traer información de los dfs a transacciones\n",
    "df_ = pd.merge(df_transacciones, df_clientes, on='customer_id', how='inner')\n",
    "df_completo = pd.merge(df_, df_productos, on='product_id', how='inner')\n",
    "df_completo.head()\n",
    "#df_completo.info()"
   ]
  },
  {
   "cell_type": "code",
   "execution_count": 9,
   "metadata": {},
   "outputs": [
    {
     "data": {
      "text/plain": [
       "(254936, 18)"
      ]
     },
     "execution_count": 9,
     "metadata": {},
     "output_type": "execute_result"
    }
   ],
   "source": [
    "df_completo.shape # (254936, 18)"
   ]
  },
  {
   "cell_type": "markdown",
   "metadata": {},
   "source": [
    "### **Eliminación de duplicados**"
   ]
  },
  {
   "cell_type": "code",
   "execution_count": 10,
   "metadata": {},
   "outputs": [
    {
     "data": {
      "text/plain": [
       "(0, 0, 885)"
      ]
     },
     "execution_count": 10,
     "metadata": {},
     "output_type": "execute_result"
    }
   ],
   "source": [
    "df_clientes.duplicated().sum(), df_productos.duplicated().sum(), df_transacciones.duplicated().sum()\n",
    "# El dataframe transacciones es el que tiene duplicados, los eliminaremos"
   ]
  },
  {
   "cell_type": "code",
   "execution_count": 11,
   "metadata": {},
   "outputs": [],
   "source": [
    "df_transacciones = df_transacciones.drop_duplicates()\n",
    "#df_transacciones.shape[0], hay 254051 transacciones en total"
   ]
  },
  {
   "cell_type": "code",
   "execution_count": 12,
   "metadata": {},
   "outputs": [
    {
     "data": {
      "text/plain": [
       "885"
      ]
     },
     "execution_count": 12,
     "metadata": {},
     "output_type": "execute_result"
    }
   ],
   "source": [
    "df_completo.duplicated().sum()\n",
    "# Aquí están los duplicados"
   ]
  },
  {
   "cell_type": "code",
   "execution_count": 13,
   "metadata": {},
   "outputs": [
    {
     "data": {
      "text/plain": [
       "(254051, 18)"
      ]
     },
     "execution_count": 13,
     "metadata": {},
     "output_type": "execute_result"
    }
   ],
   "source": [
    "df_completo = df_completo.drop_duplicates()\n",
    "# df_completo.head()\n",
    "df_completo.shape # (254051, 18)\n",
    "# Se eliminaron 885 filas duplicadas"
   ]
  },
  {
   "cell_type": "markdown",
   "metadata": {},
   "source": [
    "### **Filtros de fila y/o columnas**"
   ]
  },
  {
   "cell_type": "code",
   "execution_count": 15,
   "metadata": {},
   "outputs": [
    {
     "data": {
      "text/html": [
       "<div>\n",
       "<style scoped>\n",
       "    .dataframe tbody tr th:only-of-type {\n",
       "        vertical-align: middle;\n",
       "    }\n",
       "\n",
       "    .dataframe tbody tr th {\n",
       "        vertical-align: top;\n",
       "    }\n",
       "\n",
       "    .dataframe thead th {\n",
       "        text-align: right;\n",
       "    }\n",
       "</style>\n",
       "<table border=\"1\" class=\"dataframe\">\n",
       "  <thead>\n",
       "    <tr style=\"text-align: right;\">\n",
       "      <th></th>\n",
       "      <th>purchase_date</th>\n",
       "      <th>items</th>\n",
       "      <th>customer_type</th>\n",
       "      <th>Y</th>\n",
       "      <th>X</th>\n",
       "      <th>num_deliver_per_week</th>\n",
       "      <th>num_visit_per_week</th>\n",
       "      <th>brand</th>\n",
       "      <th>category</th>\n",
       "      <th>sub_category</th>\n",
       "      <th>segment</th>\n",
       "      <th>package</th>\n",
       "      <th>size</th>\n",
       "    </tr>\n",
       "  </thead>\n",
       "  <tbody>\n",
       "    <tr>\n",
       "      <th>0</th>\n",
       "      <td>2024-04-27</td>\n",
       "      <td>-0.333333</td>\n",
       "      <td>ABARROTES</td>\n",
       "      <td>-46.558718</td>\n",
       "      <td>-107.860564</td>\n",
       "      <td>3</td>\n",
       "      <td>1</td>\n",
       "      <td>Brand 35</td>\n",
       "      <td>BEBIDAS CARBONATADAS</td>\n",
       "      <td>GASEOSAS</td>\n",
       "      <td>MEDIUM</td>\n",
       "      <td>BOTELLA</td>\n",
       "      <td>1.0</td>\n",
       "    </tr>\n",
       "    <tr>\n",
       "      <th>1</th>\n",
       "      <td>2024-04-27</td>\n",
       "      <td>1.000000</td>\n",
       "      <td>ABARROTES</td>\n",
       "      <td>-46.558718</td>\n",
       "      <td>-107.860564</td>\n",
       "      <td>3</td>\n",
       "      <td>1</td>\n",
       "      <td>Brand 35</td>\n",
       "      <td>BEBIDAS CARBONATADAS</td>\n",
       "      <td>GASEOSAS</td>\n",
       "      <td>MEDIUM</td>\n",
       "      <td>BOTELLA</td>\n",
       "      <td>1.0</td>\n",
       "    </tr>\n",
       "    <tr>\n",
       "      <th>2</th>\n",
       "      <td>2024-05-04</td>\n",
       "      <td>1.000000</td>\n",
       "      <td>ABARROTES</td>\n",
       "      <td>-46.558718</td>\n",
       "      <td>-107.860564</td>\n",
       "      <td>3</td>\n",
       "      <td>1</td>\n",
       "      <td>Brand 35</td>\n",
       "      <td>BEBIDAS CARBONATADAS</td>\n",
       "      <td>GASEOSAS</td>\n",
       "      <td>MEDIUM</td>\n",
       "      <td>BOTELLA</td>\n",
       "      <td>1.0</td>\n",
       "    </tr>\n",
       "    <tr>\n",
       "      <th>3</th>\n",
       "      <td>2024-04-22</td>\n",
       "      <td>4.333333</td>\n",
       "      <td>MAYORISTA</td>\n",
       "      <td>-46.557632</td>\n",
       "      <td>-107.896470</td>\n",
       "      <td>3</td>\n",
       "      <td>1</td>\n",
       "      <td>Brand 35</td>\n",
       "      <td>BEBIDAS CARBONATADAS</td>\n",
       "      <td>GASEOSAS</td>\n",
       "      <td>MEDIUM</td>\n",
       "      <td>BOTELLA</td>\n",
       "      <td>1.0</td>\n",
       "    </tr>\n",
       "    <tr>\n",
       "      <th>4</th>\n",
       "      <td>2024-04-12</td>\n",
       "      <td>1.000000</td>\n",
       "      <td>MAYORISTA</td>\n",
       "      <td>-46.564528</td>\n",
       "      <td>-107.927651</td>\n",
       "      <td>4</td>\n",
       "      <td>1</td>\n",
       "      <td>Brand 35</td>\n",
       "      <td>BEBIDAS CARBONATADAS</td>\n",
       "      <td>GASEOSAS</td>\n",
       "      <td>MEDIUM</td>\n",
       "      <td>BOTELLA</td>\n",
       "      <td>1.0</td>\n",
       "    </tr>\n",
       "  </tbody>\n",
       "</table>\n",
       "</div>"
      ],
      "text/plain": [
       "  purchase_date     items customer_type          Y           X  \\\n",
       "0    2024-04-27 -0.333333     ABARROTES -46.558718 -107.860564   \n",
       "1    2024-04-27  1.000000     ABARROTES -46.558718 -107.860564   \n",
       "2    2024-05-04  1.000000     ABARROTES -46.558718 -107.860564   \n",
       "3    2024-04-22  4.333333     MAYORISTA -46.557632 -107.896470   \n",
       "4    2024-04-12  1.000000     MAYORISTA -46.564528 -107.927651   \n",
       "\n",
       "   num_deliver_per_week  num_visit_per_week     brand              category  \\\n",
       "0                     3                   1  Brand 35  BEBIDAS CARBONATADAS   \n",
       "1                     3                   1  Brand 35  BEBIDAS CARBONATADAS   \n",
       "2                     3                   1  Brand 35  BEBIDAS CARBONATADAS   \n",
       "3                     3                   1  Brand 35  BEBIDAS CARBONATADAS   \n",
       "4                     4                   1  Brand 35  BEBIDAS CARBONATADAS   \n",
       "\n",
       "  sub_category segment  package  size  \n",
       "0     GASEOSAS  MEDIUM  BOTELLA   1.0  \n",
       "1     GASEOSAS  MEDIUM  BOTELLA   1.0  \n",
       "2     GASEOSAS  MEDIUM  BOTELLA   1.0  \n",
       "3     GASEOSAS  MEDIUM  BOTELLA   1.0  \n",
       "4     GASEOSAS  MEDIUM  BOTELLA   1.0  "
      ]
     },
     "execution_count": 15,
     "metadata": {},
     "output_type": "execute_result"
    }
   ],
   "source": [
    "# Eliminar customer_id, product_id, order_id, region_id, zone_id\n",
    "# ya que son llaves solamente, no aportan información relevante al momento de analizar.\n",
    "df_completo = df_completo.drop([\"customer_id\",\"product_id\",\"order_id\",\"region_id\",\"zone_id\"], axis=1)\n",
    "df_completo.head()\n",
    "\n",
    "# Variable objetivo es \"items\"\n",
    "# El dataset sería el dataframe sin la columna \"items\"\n",
    "# Y = \"items\""
   ]
  },
  {
   "cell_type": "code",
   "execution_count": 16,
   "metadata": {},
   "outputs": [],
   "source": [
    "# ¿Qué forma debería tener la data para resolver un problema de aprendizaje supervisado?\n",
    "# Deberíamos tener un dataset con distintas features, y que la variable objetivo tenga una etiqueta, en nuestro caso es \"items\""
   ]
  },
  {
   "cell_type": "markdown",
   "metadata": {
    "jp-MarkdownHeadingCollapsed": true
   },
   "source": [
    "## 📌 EDA [0.5 puntos]\n",
    "\n",
    "<center>\n",
    "<img src=\"https://media3.giphy.com/media/v1.Y2lkPTc5MGI3NjExbHZ6aGdkd21tYTI3cW8zYWhyYW5wdGlyb2s3MmRzeTV0dzQ1NWlueiZlcD12MV9pbnRlcm5hbF9naWZfYnlfaWQmY3Q9Zw/3k1hJubTtOAKPKx4k3/giphy.gif\" width=\"400\" height=\"200\">"
   ]
  },
  {
   "cell_type": "markdown",
   "metadata": {},
   "source": [
    "En esta sección, se debe realizar un análisis exploratorio de los datos para comprender su estructura, detectar posibles problemas y obtener información relevante para el entrenamiento de los modelos. La idea es que puedan detectar **patrones en los datos** que les permitan resolver el problema con mayor facilidad.\n",
    "\n",
    "Se deben responder preguntas a partir de lo que puedan visualizar/obtener, por ejemplo:\n",
    "\n",
    "- Clientes y productos\n",
    "\n",
    "    - ¿Cuántos clientes únicos hay en el dataset?\n",
    "\n",
    "    - ¿Cuántos productos únicos se encuentran en los datos?\n",
    "\n",
    "- Periodo y frecuencia\n",
    "\n",
    "    - ¿De qué periodo es la información disponible?\n",
    "\n",
    "    - ¿Cuál es la frecuencia de los registros (diaria, semanal, mensual, etc.)?\n",
    "\n",
    "- Calidad de los datos\n",
    "\n",
    "    - ¿Existen valores nulos en el dataset? ¿Cuántos? ¿Cómo se pueden tratar?\n",
    "\n",
    "    - ¿Hay datos raros, como cantidades negativas o inconsistencias? Genere tests de validación para identificar estos problemas.\n",
    "\n",
    "- Patrones de compra\n",
    "\n",
    "    - ¿Cuántos productos compra en promedio cada cliente semana a semana?\n",
    "\n",
    "    - ¿Cuántas transacciones ha realizado cada cliente?\n",
    "\n",
    "    - ¿Cuál es el periodo de recompra promedio de cada SKU?"
   ]
  },
  {
   "cell_type": "markdown",
   "metadata": {
    "jp-MarkdownHeadingCollapsed": true
   },
   "source": [
    "### - Clientes y productos\n",
    "\n",
    "    - ¿Cuántos clientes únicos hay en el dataset? Hay 1569 clientes en total, pero 1490 han realizado transacciones. Para nuestro caso práctico, son 1490 clientes.\n",
    "\n",
    "    - ¿Cuántos productos únicos se encuentran en los datos? Hay 971 productos en total, pero solo se han comercializado 114"
   ]
  },
  {
   "cell_type": "code",
   "execution_count": 17,
   "metadata": {},
   "outputs": [
    {
     "data": {
      "text/plain": [
       "1569"
      ]
     },
     "execution_count": 17,
     "metadata": {},
     "output_type": "execute_result"
    }
   ],
   "source": [
    "len(df_clientes[\"customer_id\"].unique()) # 1569\n",
    "# df_clientes.shape[0]\n",
    "# Hay 1569 clientes en total"
   ]
  },
  {
   "cell_type": "code",
   "execution_count": 18,
   "metadata": {},
   "outputs": [
    {
     "data": {
      "text/plain": [
       "(1569, 1490)"
      ]
     },
     "execution_count": 18,
     "metadata": {},
     "output_type": "execute_result"
    }
   ],
   "source": [
    "df_clientes[\"customer_id\"].shape[0], len(df_transacciones[\"customer_id\"].unique())\n",
    "# 1490 han realizado transacciones"
   ]
  },
  {
   "cell_type": "code",
   "execution_count": 19,
   "metadata": {},
   "outputs": [
    {
     "data": {
      "text/plain": [
       "971"
      ]
     },
     "execution_count": 19,
     "metadata": {},
     "output_type": "execute_result"
    }
   ],
   "source": [
    "#len(df_productos[\"product_id\"].unique()) # 971\n",
    "df_productos.shape[0]\n",
    "# Hay 971 productos únicos"
   ]
  },
  {
   "cell_type": "code",
   "execution_count": 20,
   "metadata": {},
   "outputs": [
    {
     "data": {
      "text/plain": [
       "(971, 114)"
      ]
     },
     "execution_count": 20,
     "metadata": {},
     "output_type": "execute_result"
    }
   ],
   "source": [
    "df_productos[\"product_id\"].shape[0], len(df_transacciones[\"product_id\"].unique())\n",
    "# Hay 971 productos en total, pero solo se han comercializado 114"
   ]
  },
  {
   "cell_type": "markdown",
   "metadata": {
    "jp-MarkdownHeadingCollapsed": true
   },
   "source": [
    "### - Periodo y frecuencia\n",
    "\n",
    "    - ¿De qué periodo es la información disponible? La información disponible es desde el 1ero de enero de 2024 hasta el 31 de diciembre de 2024, es decir, todo el año 2024 (en total 366 días por ser año bisiesto).\n",
    "\n",
    "    - ¿Cuál es la frecuencia de los registros (diaria, semanal, mensual, etc.)? El registro se realiza diariamente, ya que se tienen 366 registros únicos en \"purchase_date\", es decir, se hizo por lo menos un registro por día, en los 366 días. En total se realizaron 254.051 compras.\n",
    "\n"
   ]
  },
  {
   "cell_type": "code",
   "execution_count": 21,
   "metadata": {},
   "outputs": [
    {
     "name": "stdout",
     "output_type": "stream",
     "text": [
      "2024-01-01 00:00:00 2024-12-31 00:00:00 ---> 366 days 00:00:00\n"
     ]
    }
   ],
   "source": [
    "fecha_min = df_transacciones['purchase_date'].min()\n",
    "fecha_max = df_transacciones['purchase_date'].max()\n",
    "print(fecha_min, fecha_max, \"--->\", fecha_max-fecha_min+pd.Timedelta(days=1))\n",
    "# Al restar fechas, hay que sumar 1 para contar el total de días"
   ]
  },
  {
   "cell_type": "code",
   "execution_count": 22,
   "metadata": {},
   "outputs": [
    {
     "data": {
      "text/plain": [
       "366"
      ]
     },
     "execution_count": 22,
     "metadata": {},
     "output_type": "execute_result"
    }
   ],
   "source": [
    "len(df_transacciones[\"purchase_date\"].unique()) # 366 días\n",
    "#len(df_transacciones[\"purchase_date\"]) # 254051 compras"
   ]
  },
  {
   "cell_type": "markdown",
   "metadata": {
    "jp-MarkdownHeadingCollapsed": true
   },
   "source": [
    "### - Calidad de los datos\n",
    "\n",
    "    - ¿Existen valores nulos en el dataset? ¿Cuántos? ¿Cómo se pueden tratar? No existen valores nulos, podemos observar que en los 3 datasets, el conteo de nulos es 0, por lo que no nos preocupamos de este punto.\n",
    "\n",
    "    - ¿Hay datos raros, como cantidades negativas o inconsistencias? Genere tests de validación para identificar estos problemas. En el dataset \"Transacciones\", em la columna \"items\" que muestra la cantidad de bultos comprados por el cliente en esa transacción (existen valores negativos porque ciertas transacciones realizadas, luego se cancelan por algún motivo particular, como devolución del producto, producto no entregado, entre otras). Del total de 254.051 transacciones, 245.705 son transacciones \"válidas\", es decir, que no hubo devolución, no se entregó el producto o cualquier error asociado. Por lo tanto, el 3,3% de las transacciones fueron \"no válidas\"."
   ]
  },
  {
   "cell_type": "code",
   "execution_count": 23,
   "metadata": {},
   "outputs": [
    {
     "name": "stdout",
     "output_type": "stream",
     "text": [
      "<class 'pandas.core.frame.DataFrame'>\n",
      "Index: 254051 entries, 124 to 7712548\n",
      "Data columns (total 5 columns):\n",
      " #   Column         Non-Null Count   Dtype         \n",
      "---  ------         --------------   -----         \n",
      " 0   customer_id    254051 non-null  int64         \n",
      " 1   product_id     254051 non-null  int64         \n",
      " 2   order_id       254051 non-null  int64         \n",
      " 3   purchase_date  254051 non-null  datetime64[ns]\n",
      " 4   items          254051 non-null  float64       \n",
      "dtypes: datetime64[ns](1), float64(1), int64(3)\n",
      "memory usage: 11.6 MB\n",
      "<class 'pandas.core.frame.DataFrame'>\n",
      "Index: 1569 entries, 10705 to 12273\n",
      "Data columns (total 8 columns):\n",
      " #   Column                Non-Null Count  Dtype  \n",
      "---  ------                --------------  -----  \n",
      " 0   customer_id           1569 non-null   int64  \n",
      " 1   region_id             1569 non-null   int64  \n",
      " 2   zone_id               1569 non-null   int64  \n",
      " 3   customer_type         1569 non-null   string \n",
      " 4   Y                     1569 non-null   float64\n",
      " 5   X                     1568 non-null   float64\n",
      " 6   num_deliver_per_week  1569 non-null   int64  \n",
      " 7   num_visit_per_week    1569 non-null   int64  \n",
      "dtypes: float64(2), int64(5), string(1)\n",
      "memory usage: 110.3 KB\n",
      "<class 'pandas.core.frame.DataFrame'>\n",
      "RangeIndex: 971 entries, 0 to 970\n",
      "Data columns (total 7 columns):\n",
      " #   Column        Non-Null Count  Dtype  \n",
      "---  ------        --------------  -----  \n",
      " 0   product_id    971 non-null    int64  \n",
      " 1   brand         971 non-null    string \n",
      " 2   category      971 non-null    string \n",
      " 3   sub_category  971 non-null    string \n",
      " 4   segment       971 non-null    string \n",
      " 5   package       971 non-null    string \n",
      " 6   size          971 non-null    float64\n",
      "dtypes: float64(1), int64(1), string(5)\n",
      "memory usage: 53.2 KB\n"
     ]
    },
    {
     "data": {
      "text/plain": [
       "(None, None, None)"
      ]
     },
     "execution_count": 23,
     "metadata": {},
     "output_type": "execute_result"
    }
   ],
   "source": [
    "df_transacciones.info(), df_clientes.info(), df_productos.info()"
   ]
  },
  {
   "cell_type": "code",
   "execution_count": 24,
   "metadata": {},
   "outputs": [
    {
     "name": "stdout",
     "output_type": "stream",
     "text": [
      "3.285167151477459% de transacciones no válidas\n"
     ]
    }
   ],
   "source": [
    "sum(df_transacciones[\"items\"] >= 0) == 245705, df_transacciones.shape[0] == 254051\n",
    "transacciones_malas = df_transacciones.shape[0] - sum(df_transacciones[\"items\"] >= 0)\n",
    "transacciones_malas == 8346\n",
    "print(str(8346/254051*100)+\"% de transacciones no válidas\")"
   ]
  },
  {
   "cell_type": "markdown",
   "metadata": {
    "jp-MarkdownHeadingCollapsed": true
   },
   "source": [
    "### - Patrones de compra\n",
    "\n",
    "    - ¿Cuántos productos compra en promedio cada cliente semana a semana? Guardamos un array llamado \"avg_items\" que contiene la cantidad promedio de items que compra cada cliente semana a semana. Además, el promedio de productos comprados de todos los clientes, es 14,8 aproximadamente.\n",
    "\n",
    "    - ¿Cuántas transacciones ha realizado cada cliente? Guardamos un Dataframe llamado \"transacciones_por_cliente\" que contiene la cantidad total de transacciones que ha hecho cada cliente.\n",
    "\n",
    "    - ¿Cuál es el periodo de recompra promedio de cada SKU? Guardamos un Dataframe llamado \"recompra_promedio\" que contiene el promedio de recompra de cada SKU."
   ]
  },
  {
   "cell_type": "code",
   "execution_count": 25,
   "metadata": {},
   "outputs": [
    {
     "data": {
      "text/html": [
       "<div>\n",
       "<style scoped>\n",
       "    .dataframe tbody tr th:only-of-type {\n",
       "        vertical-align: middle;\n",
       "    }\n",
       "\n",
       "    .dataframe tbody tr th {\n",
       "        vertical-align: top;\n",
       "    }\n",
       "\n",
       "    .dataframe thead th {\n",
       "        text-align: right;\n",
       "    }\n",
       "</style>\n",
       "<table border=\"1\" class=\"dataframe\">\n",
       "  <thead>\n",
       "    <tr style=\"text-align: right;\">\n",
       "      <th></th>\n",
       "      <th>customer_id</th>\n",
       "      <th>product_id</th>\n",
       "      <th>order_id</th>\n",
       "      <th>items</th>\n",
       "      <th>year</th>\n",
       "      <th>month</th>\n",
       "      <th>day</th>\n",
       "      <th>week</th>\n",
       "    </tr>\n",
       "  </thead>\n",
       "  <tbody>\n",
       "    <tr>\n",
       "      <th>127</th>\n",
       "      <td>61899</td>\n",
       "      <td>1370</td>\n",
       "      <td>411156</td>\n",
       "      <td>3.666667</td>\n",
       "      <td>2024</td>\n",
       "      <td>4</td>\n",
       "      <td>27</td>\n",
       "      <td>17</td>\n",
       "    </tr>\n",
       "    <tr>\n",
       "      <th>344</th>\n",
       "      <td>154077</td>\n",
       "      <td>30500</td>\n",
       "      <td>417911</td>\n",
       "      <td>2.333333</td>\n",
       "      <td>2024</td>\n",
       "      <td>4</td>\n",
       "      <td>29</td>\n",
       "      <td>18</td>\n",
       "    </tr>\n",
       "    <tr>\n",
       "      <th>354</th>\n",
       "      <td>172056</td>\n",
       "      <td>61672</td>\n",
       "      <td>407162</td>\n",
       "      <td>1.000000</td>\n",
       "      <td>2024</td>\n",
       "      <td>4</td>\n",
       "      <td>26</td>\n",
       "      <td>17</td>\n",
       "    </tr>\n",
       "    <tr>\n",
       "      <th>372</th>\n",
       "      <td>187101</td>\n",
       "      <td>61542</td>\n",
       "      <td>411911</td>\n",
       "      <td>17.000000</td>\n",
       "      <td>2024</td>\n",
       "      <td>4</td>\n",
       "      <td>27</td>\n",
       "      <td>17</td>\n",
       "    </tr>\n",
       "    <tr>\n",
       "      <th>373</th>\n",
       "      <td>187806</td>\n",
       "      <td>50270</td>\n",
       "      <td>407286</td>\n",
       "      <td>3.666667</td>\n",
       "      <td>2024</td>\n",
       "      <td>4</td>\n",
       "      <td>26</td>\n",
       "      <td>17</td>\n",
       "    </tr>\n",
       "  </tbody>\n",
       "</table>\n",
       "</div>"
      ],
      "text/plain": [
       "     customer_id  product_id  order_id      items  year month day week\n",
       "127        61899        1370    411156   3.666667  2024     4  27   17\n",
       "344       154077       30500    417911   2.333333  2024     4  29   18\n",
       "354       172056       61672    407162   1.000000  2024     4  26   17\n",
       "372       187101       61542    411911  17.000000  2024     4  27   17\n",
       "373       187806       50270    407286   3.666667  2024     4  26   17"
      ]
     },
     "execution_count": 25,
     "metadata": {},
     "output_type": "execute_result"
    }
   ],
   "source": [
    "from sklearn.preprocessing import FunctionTransformer\n",
    "\n",
    "# Separar fecha en año, mes y día\n",
    "def extract_date_features(X):\n",
    "    X = X.copy()\n",
    "    X['purchase_date'] = pd.to_datetime(X['purchase_date'], format='%y/%m/%d')\n",
    "    X['year'] = X['purchase_date'].dt.year.astype('category')\n",
    "    X['month'] = X['purchase_date'].dt.month.astype('category')\n",
    "    X['day'] = X['purchase_date'].dt.day.astype('category')\n",
    "    \n",
    "    # Semana del año (ISO)\n",
    "    X['week'] = X['purchase_date'].dt.isocalendar().week.astype('category')\n",
    "\n",
    "    # Eliminar la columna date\n",
    "    X.drop(columns=['purchase_date'], inplace=True)\n",
    "    return X\n",
    "\n",
    "# Crear df copia de transacciones\n",
    "df_transacciones_prueba = extract_date_features(df_transacciones)\n",
    "df_transacciones_prueba.head()\n",
    "\n",
    "# Ahora filtramos por items >= 0, ya que hay devoluciones, errores, etc.\n",
    "df_transacciones_prueba = df_transacciones_prueba[df_transacciones_prueba[\"items\"]>=0]\n",
    "df_transacciones_prueba.shape[0] == 245705\n",
    "df_transacciones_prueba.head()"
   ]
  },
  {
   "cell_type": "code",
   "execution_count": 26,
   "metadata": {},
   "outputs": [
    {
     "data": {
      "text/html": [
       "<div>\n",
       "<style scoped>\n",
       "    .dataframe tbody tr th:only-of-type {\n",
       "        vertical-align: middle;\n",
       "    }\n",
       "\n",
       "    .dataframe tbody tr th {\n",
       "        vertical-align: top;\n",
       "    }\n",
       "\n",
       "    .dataframe thead th {\n",
       "        text-align: right;\n",
       "    }\n",
       "</style>\n",
       "<table border=\"1\" class=\"dataframe\">\n",
       "  <thead>\n",
       "    <tr style=\"text-align: right;\">\n",
       "      <th></th>\n",
       "      <th>customer_id</th>\n",
       "      <th>week</th>\n",
       "      <th>total_items_per_week</th>\n",
       "    </tr>\n",
       "  </thead>\n",
       "  <tbody>\n",
       "    <tr>\n",
       "      <th>0</th>\n",
       "      <td>25734</td>\n",
       "      <td>1</td>\n",
       "      <td>9.666667</td>\n",
       "    </tr>\n",
       "    <tr>\n",
       "      <th>1</th>\n",
       "      <td>25734</td>\n",
       "      <td>2</td>\n",
       "      <td>18.000000</td>\n",
       "    </tr>\n",
       "    <tr>\n",
       "      <th>2</th>\n",
       "      <td>25734</td>\n",
       "      <td>3</td>\n",
       "      <td>0.000000</td>\n",
       "    </tr>\n",
       "    <tr>\n",
       "      <th>3</th>\n",
       "      <td>25734</td>\n",
       "      <td>4</td>\n",
       "      <td>31.333333</td>\n",
       "    </tr>\n",
       "    <tr>\n",
       "      <th>4</th>\n",
       "      <td>25734</td>\n",
       "      <td>5</td>\n",
       "      <td>17.666667</td>\n",
       "    </tr>\n",
       "  </tbody>\n",
       "</table>\n",
       "</div>"
      ],
      "text/plain": [
       "   customer_id week  total_items_per_week\n",
       "0        25734    1              9.666667\n",
       "1        25734    2             18.000000\n",
       "2        25734    3              0.000000\n",
       "3        25734    4             31.333333\n",
       "4        25734    5             17.666667"
      ]
     },
     "execution_count": 26,
     "metadata": {},
     "output_type": "execute_result"
    }
   ],
   "source": [
    "# Agrupar por cliente, año y semana, y sumar la cantidad de items\n",
    "weekly_items = df_transacciones_prueba.groupby(['customer_id', 'week'])['items'].sum().reset_index(name='total_items_per_week')\n",
    "weekly_items.head()"
   ]
  },
  {
   "cell_type": "code",
   "execution_count": 27,
   "metadata": {},
   "outputs": [
    {
     "data": {
      "text/plain": [
       "52"
      ]
     },
     "execution_count": 27,
     "metadata": {},
     "output_type": "execute_result"
    }
   ],
   "source": [
    "# Contar la cantidad de semanas\n",
    "count_weeks = len(weekly_items[\"week\"].unique())\n",
    "count_weeks"
   ]
  },
  {
   "cell_type": "code",
   "execution_count": 28,
   "metadata": {},
   "outputs": [
    {
     "data": {
      "text/html": [
       "<div>\n",
       "<style scoped>\n",
       "    .dataframe tbody tr th:only-of-type {\n",
       "        vertical-align: middle;\n",
       "    }\n",
       "\n",
       "    .dataframe tbody tr th {\n",
       "        vertical-align: top;\n",
       "    }\n",
       "\n",
       "    .dataframe thead th {\n",
       "        text-align: right;\n",
       "    }\n",
       "</style>\n",
       "<table border=\"1\" class=\"dataframe\">\n",
       "  <thead>\n",
       "    <tr style=\"text-align: right;\">\n",
       "      <th></th>\n",
       "      <th>customer_id</th>\n",
       "      <th>total_items_per_week_2</th>\n",
       "    </tr>\n",
       "  </thead>\n",
       "  <tbody>\n",
       "    <tr>\n",
       "      <th>0</th>\n",
       "      <td>25734</td>\n",
       "      <td>132.000000</td>\n",
       "    </tr>\n",
       "    <tr>\n",
       "      <th>1</th>\n",
       "      <td>25743</td>\n",
       "      <td>4188.000000</td>\n",
       "    </tr>\n",
       "    <tr>\n",
       "      <th>2</th>\n",
       "      <td>25749</td>\n",
       "      <td>5602.666667</td>\n",
       "    </tr>\n",
       "    <tr>\n",
       "      <th>3</th>\n",
       "      <td>56868</td>\n",
       "      <td>136.666667</td>\n",
       "    </tr>\n",
       "    <tr>\n",
       "      <th>4</th>\n",
       "      <td>56871</td>\n",
       "      <td>191.333333</td>\n",
       "    </tr>\n",
       "  </tbody>\n",
       "</table>\n",
       "</div>"
      ],
      "text/plain": [
       "   customer_id  total_items_per_week_2\n",
       "0        25734              132.000000\n",
       "1        25743             4188.000000\n",
       "2        25749             5602.666667\n",
       "3        56868              136.666667\n",
       "4        56871              191.333333"
      ]
     },
     "execution_count": 28,
     "metadata": {},
     "output_type": "execute_result"
    }
   ],
   "source": [
    "# Sumar la cantidad total de items por cliente\n",
    "weekly_items = weekly_items.groupby(['customer_id'])['total_items_per_week'].sum().reset_index(name='total_items_per_week_2')\n",
    "weekly_items.head()"
   ]
  },
  {
   "cell_type": "code",
   "execution_count": 29,
   "metadata": {},
   "outputs": [
    {
     "data": {
      "text/plain": [
       "0         2.538462\n",
       "1        80.538462\n",
       "2       107.743590\n",
       "3         2.628205\n",
       "4         3.679487\n",
       "           ...    \n",
       "1485      0.269231\n",
       "1486      0.141026\n",
       "1487      1.019231\n",
       "1488      1.076923\n",
       "1489      6.685897\n",
       "Name: total_items_per_week_2, Length: 1490, dtype: float64"
      ]
     },
     "execution_count": 29,
     "metadata": {},
     "output_type": "execute_result"
    }
   ],
   "source": [
    "# Para el promedio, dividimos por cantidad de semanas\n",
    "avg_items = weekly_items[\"total_items_per_week_2\"]/count_weeks\n",
    "avg_items # Esto es el promedio de items que compra cada cliente\n",
    "# TO DO: GRAFICAR"
   ]
  },
  {
   "cell_type": "code",
   "execution_count": 30,
   "metadata": {},
   "outputs": [
    {
     "data": {
      "text/plain": [
       "14.793125967991754"
      ]
     },
     "execution_count": 30,
     "metadata": {},
     "output_type": "execute_result"
    }
   ],
   "source": [
    "avg = sum(avg_items)/len(avg_items)\n",
    "avg # Esto es el promedio de items que se compran por cliente"
   ]
  },
  {
   "cell_type": "code",
   "execution_count": 56,
   "metadata": {},
   "outputs": [
    {
     "data": {
      "text/html": [
       "<div>\n",
       "<style scoped>\n",
       "    .dataframe tbody tr th:only-of-type {\n",
       "        vertical-align: middle;\n",
       "    }\n",
       "\n",
       "    .dataframe tbody tr th {\n",
       "        vertical-align: top;\n",
       "    }\n",
       "\n",
       "    .dataframe thead th {\n",
       "        text-align: right;\n",
       "    }\n",
       "</style>\n",
       "<table border=\"1\" class=\"dataframe\">\n",
       "  <thead>\n",
       "    <tr style=\"text-align: right;\">\n",
       "      <th></th>\n",
       "      <th>product_id</th>\n",
       "      <th>avg_repurchase_days</th>\n",
       "    </tr>\n",
       "  </thead>\n",
       "  <tbody>\n",
       "    <tr>\n",
       "      <th>0</th>\n",
       "      <td>60</td>\n",
       "      <td>0.623711</td>\n",
       "    </tr>\n",
       "    <tr>\n",
       "      <th>1</th>\n",
       "      <td>124</td>\n",
       "      <td>0.277651</td>\n",
       "    </tr>\n",
       "    <tr>\n",
       "      <th>2</th>\n",
       "      <td>1206</td>\n",
       "      <td>112.500000</td>\n",
       "    </tr>\n",
       "    <tr>\n",
       "      <th>3</th>\n",
       "      <td>1304</td>\n",
       "      <td>0.016679</td>\n",
       "    </tr>\n",
       "    <tr>\n",
       "      <th>4</th>\n",
       "      <td>1370</td>\n",
       "      <td>0.009702</td>\n",
       "    </tr>\n",
       "  </tbody>\n",
       "</table>\n",
       "</div>"
      ],
      "text/plain": [
       "   product_id  avg_repurchase_days\n",
       "0          60             0.623711\n",
       "1         124             0.277651\n",
       "2        1206           112.500000\n",
       "3        1304             0.016679\n",
       "4        1370             0.009702"
      ]
     },
     "execution_count": 56,
     "metadata": {},
     "output_type": "execute_result"
    }
   ],
   "source": [
    "# Ordenar por product_id y purchase_date\n",
    "df_sorted = df_transacciones.sort_values(by=['product_id', 'purchase_date'])\n",
    "\n",
    "# Calcular diferencia entre compras sucesivas por producto\n",
    "df_sorted['days_since_last_purchase'] = df_sorted.groupby('product_id')['purchase_date'].diff().dt.days\n",
    "\n",
    "# Calcular el promedio del período de recompra por SKU (ignorando la primera compra que es NaN)\n",
    "recompra_promedio = df_sorted.groupby('product_id')['days_since_last_purchase'].mean().reset_index()\n",
    "recompra_promedio.rename(columns={'days_since_last_purchase': 'avg_repurchase_days'}, inplace=True)\n",
    "\n",
    "recompra_promedio.head()\n",
    "#recompra_promedio.shape[0]\n",
    "# TO DO: GRAFICAR"
   ]
  },
  {
   "cell_type": "markdown",
   "metadata": {},
   "source": [
    "## 📌 Holdout [0.25 puntos]\n",
    "\n",
    "Para evaluar correctamente el modelo y garantizar su capacidad de generalización, se deben dividir los datos en tres conjuntos: \n",
    "- `Entrenamiento` : Para ajustar los parámetros.\n",
    "- `Validación`: Para optimizar hiperparámetros y seleccionar el mejor modelo.\n",
    "- `Prueba` : Para evaluar el rendimiento final en datos no vistos.\n",
    "\n",
    "👀 **Hint**: *Recuerde que los datos tienen una temporalidad que debe considerarse al momento de separarlos, para evitar fugas de información. Es importante justificar la estrategia de partición elegida y visualizar la distribución temporal de los conjuntos generados*"
   ]
  },
  {
   "cell_type": "markdown",
   "metadata": {},
   "source": [
    "Recordemos nuestro objetivo: construir un modelo predictivo que, cada semana, pueda estimar la probabilidad de compra de cada producto del portafolio para cada cliente activo. La idea es, una vez construido el modelo, darle esta información al equipo de Marketing para que aprovechen negocios nuevos u ofertas a clientes. Enm base a esto, escogeremos el modelo más adecuado:\n",
    "\n",
    "Para esto, fijaremos una semilla para controlar la aleatoriedad y separaremos los datos en conjuntos de train (70%), validación (20%) y prueba (10%) aproximadamente."
   ]
  },
  {
   "cell_type": "markdown",
   "metadata": {},
   "source": [
    "TO DO: ELEGIR UN MÉTODO\n",
    "\n",
    "Prefiero la forma 0, ya que es aleatorio, mientras que la forma 1 y 2 solamente se enfoca en ciertos periodos y puede no entrenar al modelo en su totalidad al enfocarse en un subconjunto temporal."
   ]
  },
  {
   "cell_type": "code",
   "execution_count": 83,
   "metadata": {},
   "outputs": [
    {
     "name": "stdout",
     "output_type": "stream",
     "text": [
      "\n",
      "Proporciones finales:\n",
      "Train: 70.0%\n",
      "Validation: 20.0%\n",
      "Test: 10.0%\n"
     ]
    },
    {
     "data": {
      "image/png": "[encoded data removed]",
      "text/plain": [
       "<Figure size 1000x600 with 1 Axes>"
      ]
     },
     "metadata": {},
     "output_type": "display_data"
    }
   ],
   "source": [
    "# FORMA 0\n",
    "from sklearn.model_selection import train_test_split\n",
    "seed = 1\n",
    "\n",
    "X = df_completo.drop(columns=['items'])\n",
    "y = df_completo['items']\n",
    "\n",
    "# 10% para test y 90% restante train + validation\n",
    "X_temp, X_test, y_temp, y_test = train_test_split(X, y, test_size=0.1, random_state=seed)\n",
    "\n",
    "# 90% en train (70%) y validation (20%)\n",
    "restante = 0.2/0.9\n",
    "X_train, X_val, y_train, y_val = train_test_split(X_temp, y_temp, test_size= restante, random_state=seed)\n",
    "\n",
    "# Verificación de proporciones\n",
    "print(\"\\nProporciones finales:\")\n",
    "print(f\"Train: {len(X_train)/len(X):.1%}\")\n",
    "print(f\"Validation: {len(X_val)/len(X):.1%}\")\n",
    "print(f\"Test: {len(X_test)/len(X):.1%}\")\n",
    "\n",
    "# Visualizar la distribución temporal de los conjuntos\n",
    "\n",
    "# Crear una nueva columna con el conjunto de datos asignado\n",
    "df_completo['set'] = 'No asignado'\n",
    "df_completo.loc[X_train.index, 'set'] = 'Train'\n",
    "df_completo.loc[X_val.index, 'set'] = 'Validation'\n",
    "df_completo.loc[X_test.index, 'set'] = 'Test'\n",
    "\n",
    "# Graficar la distribución temporal de los conjuntos\n",
    "plt.figure(figsize=(10, 6))\n",
    "plt.scatter(df_completo['purchase_date'], df_completo['set'], alpha=0.5, label='Datos')\n",
    "plt.title('Distribución Temporal de los Conjuntos (Train, Validation, Test)')\n",
    "plt.xlabel('Fecha de Compra')\n",
    "plt.ylabel('Conjunto')\n",
    "plt.yticks(['Train', 'Validation', 'Test'])\n",
    "plt.grid(True)\n",
    "plt.show()"
   ]
  },
  {
   "cell_type": "code",
   "execution_count": 82,
   "metadata": {},
   "outputs": [
    {
     "data": {
      "image/png": "[encoded data removed]",
      "text/plain": [
       "<Figure size 1000x600 with 1 Axes>"
      ]
     },
     "metadata": {},
     "output_type": "display_data"
    }
   ],
   "source": [
    "# FORMA 1\n",
    "import pandas as pd\n",
    "import matplotlib.pyplot as plt\n",
    "from sklearn.model_selection import train_test_split\n",
    "\n",
    "# Asegúrate de que la columna 'purchase_date' esté en formato datetime\n",
    "df_completo['purchase_date'] = pd.to_datetime(df_completo['purchase_date'])\n",
    "\n",
    "# Ordenar el DataFrame por la fecha para respetar la temporalidad\n",
    "df_completo = df_completo.sort_values(by='purchase_date')\n",
    "\n",
    "# Separa las características y el objetivo\n",
    "X = df_completo.drop(columns=['items'])\n",
    "y = df_completo['items']\n",
    "\n",
    "# 10% para test y 90% restante para train + validation\n",
    "X_temp, X_test, y_temp, y_test = train_test_split(X, y, test_size=0.1, random_state=1, shuffle=False)\n",
    "\n",
    "# 90% en train (70%) y validation (20%)\n",
    "restante = 0.2 / 0.9\n",
    "X_train, X_val, y_train, y_val = train_test_split(X_temp, y_temp, test_size=restante, random_state=1, shuffle=False)\n",
    "\n",
    "# Visualizar la distribución temporal de los conjuntos\n",
    "\n",
    "# Crear una nueva columna con el conjunto de datos asignado\n",
    "df_completo['set'] = 'No asignado'\n",
    "df_completo.loc[X_train.index, 'set'] = 'Train'\n",
    "df_completo.loc[X_val.index, 'set'] = 'Validation'\n",
    "df_completo.loc[X_test.index, 'set'] = 'Test'\n",
    "\n",
    "# Graficar la distribución temporal de los conjuntos\n",
    "plt.figure(figsize=(10, 6))\n",
    "plt.scatter(df_completo['purchase_date'], df_completo['set'], alpha=0.5, label='Datos')\n",
    "plt.title('Distribución Temporal de los Conjuntos (Train, Validation, Test)')\n",
    "plt.xlabel('Fecha de Compra')\n",
    "plt.ylabel('Conjunto')\n",
    "plt.yticks(['Train', 'Validation', 'Test'])\n",
    "plt.grid(True)\n",
    "plt.show()"
   ]
  },
  {
   "cell_type": "code",
   "execution_count": 76,
   "metadata": {},
   "outputs": [
    {
     "name": "stdout",
     "output_type": "stream",
     "text": [
      "Tamaño Total: 254051\n",
      "Tamaño Entrenamiento: 173965, representa el 68%\n",
      "Tamaño Validación: 48651, representa el 19%\n",
      "Tamaño Prueba: 31435, representa el 12%\n"
     ]
    }
   ],
   "source": [
    "# FORMA 2\n",
    "# FALTA FILTRAR X, Y\n",
    "# Definir fechas de corte para partición\n",
    "fecha_entrenamiento = '2024-10-01'\n",
    "fecha_validacion = '2024-12-01'\n",
    "\n",
    "# Separar los conjuntos\n",
    "train = df_completo[df_completo['purchase_date'] < fecha_entrenamiento] # Antes del 1ero de octubre\n",
    "validation = df_completo[(df_completo['purchase_date'] >= fecha_entrenamiento) & (df_completo['purchase_date'] < fecha_validacion)] #Entre 1ero de octubre y 1ero de diciembre\n",
    "test = df_completo[df_completo['purchase_date'] >= fecha_validacion] #Posterior al 1ero de diciembre\n",
    "\n",
    "# Mostrar tamaños\n",
    "print(f\"Tamaño Total: {df_completo.shape[0]}\")\n",
    "print(f\"Tamaño Entrenamiento: {train.shape[0]}, representa el {int(train.shape[0]/df_completo.shape[0]*100)}%\")\n",
    "print(f\"Tamaño Validación: {validation.shape[0]}, representa el {int(validation.shape[0]/df_completo.shape[0]*100)}%\")\n",
    "print(f\"Tamaño Prueba: {test.shape[0]}, representa el {int(test.shape[0]/df_completo.shape[0]*100)}%\")"
   ]
  },
  {
   "cell_type": "markdown",
   "metadata": {},
   "source": [
    "## 📌 Feature Engineering [0.5 puntos]\n",
    "\n",
    "<center>\n",
    "<img src=\"https://i.imgur.com/CmXZSSC.gif\" width=\"300\" height=\"200\">"
   ]
  },
  {
   "cell_type": "markdown",
   "metadata": {},
   "source": [
    "En esta sección, se deben construir pipelines para automatizar el preprocesamiento de los datos, lo cual garantizará que el flujo de trabajo sea reproducible y eficiente para esta entrega y las futuras. El objetivo es aplicar una serie de transformaciones en un orden definido para asegurar que los datos estén listos para los modelos a entrenar. El pipeline final debe incluir las técnicas de pre-procesamiento que se deben aplicar a los distintos datos (según lo que consideren necesario para el problema). Por ejemplo:\n",
    "\n",
    "- **Imputación de valores nulos**: Manejo de datos faltantes mediante estrategias adecuadas (media, mediana, moda, interpolación, etc.). \n",
    "\n",
    "- **Transformaciones personalizadas**: Uso de ColumnTransformer para aplicar diferentes transformaciones a columnas específicas.\n",
    "\n",
    "- **Codificación de variables categóricas**: Convertir datos categóricos a un formato numérico adecuado (One-Hot Encoding, Label Encoding, etc.).\n",
    "\n",
    "- **Discretización de variables**: Conversión de variables numéricas continuas en categorías si son relevantes para el desempeño del modelo a entrenar.\n",
    "\n",
    "- **Estandarización o normalización** : Ajustar la escala de los datos para mejorar el rendimiento de los algoritmos sensibles a la magnitud de las variables.\n",
    "\n",
    "- **Eliminación o transformación de valores atípicos**: Identificar y tratar con datos outliers para mejorar la robustez del modelo.\n",
    "\n",
    "- **Nuevas características** : Creación de variables adicionales que puedan aportar información relevante al modelo.\n",
    "\n",
    "Cada una de estas transformaciones debe ser justificada en función de su relevancia para el problema y los datos, y es importante evaluar su impacto en el rendimiento del modelo. Además, el pipeline debe ser flexible y modular para poder probar diferentes configuraciones de preprocesamiento."
   ]
  },
  {
   "cell_type": "code",
   "execution_count": 35,
   "metadata": {},
   "outputs": [],
   "source": [
    "# Desarrolle aquí su código "
   ]
  },
  {
   "cell_type": "markdown",
   "metadata": {},
   "source": [
    "## 📌 Baseline [0.25 puntos]\n",
    "\n",
    "<center>\n",
    "<img src=\"https://media1.giphy.com/media/v1.Y2lkPTc5MGI3NjExN3lzeGFqZmU3NzJrZHllNjRmaHVzczJpZ29rdHdlMzVpZnQwNXo1diZlcD12MV9pbnRlcm5hbF9naWZfYnlfaWQmY3Q9Zw/qAtZM2gvjWhPjmclZE/giphy.gif\" width=\"300\" height=\"200\">"
   ]
  },
  {
   "cell_type": "markdown",
   "metadata": {},
   "source": [
    "En esta sección se debe construir el modelo más sencillo posible que pueda resolver el problema planteado, conocido como **Modelo baseline**. Su propósito es servir como referencia para comparar el rendimiento de los modelos más avanzados desarrollados en etapas posteriores.  \n",
    "\n",
    "Pasos requeridos:  \n",
    "- Implemente, entrene y evalúe un modelo básico utilizando un pipeline.  \n",
    "- Asegúrese de incluir en el pipeline las transformaciones del preprocesamiento realizadas previamente junto con un clasificador básico.  \n",
    "- Evalúe el modelo y presente el informe de métricas utilizando **`classification_report`**.  \n",
    "\n",
    "Documente claramente cómo se creó el modelo, las decisiones tomadas y los resultados obtenidos. Este modelo será la base comparativa en las secciones posteriores."
   ]
  },
  {
   "cell_type": "code",
   "execution_count": 36,
   "metadata": {},
   "outputs": [],
   "source": [
    "# Desarrolle aquí su código "
   ]
  },
  {
   "cell_type": "markdown",
   "metadata": {},
   "source": [
    "## 📌 Elección de modelo [0.75 puntos]\n",
    "\n",
    "En esta sección deben escoger un modelo que se adapte a las necesidades del negocio. Para esto, pruebe al menos 3 modelos y desarrolle los siguientes aspectos para cada uno:\n",
    "\n",
    "- **Estructura y diferencias entre los modelos**: Explicar brevemente cada uno y sus hipérparámetros de mayor importancia.\n",
    "- **Clasificadores recomendados**:\n",
    "  - `LogisticRegression`\n",
    "  - `KNeighborsClassifier`\n",
    "  - `DecisionTreeClassifier`\n",
    "  - `SVC`\n",
    "  - `RandomForestClassifier`\n",
    "  - `LightGBMClassifier` (del paquete `lightgbm`)\n",
    "  - `XGBClassifier` (del paquete `xgboost`)\n",
    "  - Otro (según lo que se estime adecuado)\n",
    "  \n",
    "- **Evaluación de resultados**: Se utilizará el **`classification_report`** para evaluar el rendimiento de cada modelo, destacando métricas clave como precisión, recall y F1-score. **Importante: No optimicen hiperparámetros, la idea es hacer una selección rápida del modelo.**\n",
    "\n",
    "**Nota:** Pueden ocupar mas de 1 **instancia** de modelo para resolver el problema (e.g: (modelo_1, grupo_1), (modelo_2, grupo_2), ...).\n",
    "  \n",
    "A continuación, se deben responder las siguientes preguntas para evaluar el rendimiento de los modelos entrenados:\n",
    "\n",
    "1. ¿Hay algún clasificador que supere al modelo baseline?  \n",
    "2. ¿Cuál es el mejor clasificador entrenado y por qué?  \n",
    "3. ¿Qué factores hacen que el mejor clasificador sea superior a los otros?  \n",
    "4. En términos de `tiempo de entrenamiento`, ¿Qué modelo considera más adecuado para experimentar con grillas de optimización?"
   ]
  },
  {
   "cell_type": "code",
   "execution_count": 37,
   "metadata": {},
   "outputs": [],
   "source": [
    "# Desarrolle aquí su código "
   ]
  },
  {
   "cell_type": "markdown",
   "metadata": {},
   "source": [
    "## 📌 Optimización de Hiperparámetros [1.0 puntos]\n",
    "\n",
    "<center>\n",
    "<img src=\"https://media1.giphy.com/media/v1.Y2lkPTc5MGI3NjExcXJkNzdhYjlneHplaGpsbnVkdzh5dnY3Y2VyaTIzamszdGR1czJ2diZlcD12MV9pbnRlcm5hbF9naWZfYnlfaWQmY3Q9Zw/2rqEdFfkMzXmo/giphy.gif\" width=\"300\" height=\"200\">"
   ]
  },
  {
   "cell_type": "markdown",
   "metadata": {},
   "source": [
    "A partir de su análisis anterior, se debe proceder a optimizar el rendimiento del modelo seleccionado mediante la optimización de sus hiperparámetros. Para ello, se espera que implementen `Optuna` para optimizar no solo los hiperparámetros del modelo, sino también los de los preprocesadores utilizados (por ejemplo, OneHot Encoding, Scalers, etc.).\n",
    "\n",
    "Al desarrollar este proceso, deberán responder las siguientes preguntas clave como mínimo:\n",
    "\n",
    "- ¿Qué métrica decidieron optimizar y por qué?\n",
    "\n",
    "- ¿Qué hiperparámetro tuvo un mayor impacto en el rendimiento de su modelo?\n",
    "\n",
    "- ¿Cuánto mejoró el rendimiento del modelo después de la optimización de hiperparámetros?"
   ]
  },
  {
   "cell_type": "code",
   "execution_count": 38,
   "metadata": {},
   "outputs": [],
   "source": [
    "# Desarrolle aquí su código"
   ]
  },
  {
   "cell_type": "markdown",
   "metadata": {},
   "source": [
    "## 📌 Interpretabilidad [1.0 puntos]\n",
    "\n",
    "En esta sección, deben explicar el funcionamiento de su modelo utilizando las técnicas de interpretabilidad vistas en clase, como `SHAP`. Se espera que sean capaces de descomponer las predicciones y evaluar la importancia de los atributos y las interacciones entre ellos, con el fin de obtener una comprensión más profunda de cómo el modelo toma decisiones. \n",
    "\n",
    "Al desarrollar esta parte, deberán responder las siguientes preguntas clave como mínimo:\n",
    "\n",
    "- ¿Podría explicar el funcionamiento de su modelo para una predicción en particular? Si es así, proporcione al menos tres ejemplos específicos, describiendo cómo el modelo llegó a sus decisiones y qué factores fueron más relevantes en cada caso.\n",
    "\n",
    "- ¿Qué atributo tiene una mayor importancia en la salida de su modelo? Analice si esto tiene sentido con el problema planteado y justifique la relevancia de dicho atributo en el contexto de las predicciones que se realizan.\n",
    "\n",
    "- ¿Existe alguna interacción entre atributos que sea relevante para el modelo? Investigue si la combinación de ciertos atributos tiene un impacto significativo en las predicciones y explíquela en **detalle**.\n",
    "\n",
    "- ¿Podría existir sesgo hacia algún atributo en particular? Reflexione sobre la posibilidad de que el modelo esté favoreciendo ciertos atributos. Si es así, ¿cuál podría ser la causa y qué impacto podría tener esto en la predicción?"
   ]
  },
  {
   "cell_type": "code",
   "execution_count": 39,
   "metadata": {},
   "outputs": [],
   "source": [
    "# Desarrolle aquí su código"
   ]
  },
  {
   "cell_type": "markdown",
   "metadata": {},
   "source": [
    "## 📌 Resultados y Conclusiones [1.0 puntos]\n",
    "\n",
    "Para finalizar, se deben explicar los desarrollos y resultados obtenidos a lo largo de todo el proceso, desde la selección de las variables hasta la optimización de hiperparámetros e interpretación. Se espera una reflexión crítica sobre el desempeño de los modelos entrenados y una comparación entre los diferentes enfoques. Además, deberán abordar los siguientes puntos clave:\n",
    "\n",
    "- **Análisis de métricas**: Comenten sobre las métricas obtenidas en cada etapa del modelo, destacando las más relevantes como precisión, recall, F1-score, etc. ¿Cuáles fueron los modelos más efectivos? ¿Qué diferencias notables encontró entre ellos?\n",
    "\n",
    "- **Impacto de las decisiones tomadas**: Reflexionen sobre cómo las decisiones relacionadas con el preprocesamiento, selección de atributos y optimización de hiperparámetros influyeron en los resultados finales. ¿Hubo alguna decisión que haya tenido un impacto notable en el rendimiento?\n",
    "\n",
    "- **Lecciones aprendidas**: Concluyan sobre las lecciones más importantes que aprendieron durante el proceso y cómo estas pueden influir en futuras iteraciones del modelo. ¿Qué se podría mejorar si se repitiera el proceso? Si tuvieran más recursos y tiempo, ¿qué otras técnicas/herramientas habrían utilizado?"
   ]
  },
  {
   "cell_type": "markdown",
   "metadata": {},
   "source": [
    "> [Escriba aquí sus resultados]"
   ]
  },
  {
   "cell_type": "markdown",
   "metadata": {},
   "source": [
    "Mucho éxito!\n",
    "\n",
    "<center>\n",
    "<img src=\"https://media3.giphy.com/media/v1.Y2lkPTc5MGI3NjExaHpvOTY5Z3hpdHI3aDBpdGRueXRqamZncXp2emFrbjJ5M2s5eTR1dSZlcD12MV9pbnRlcm5hbF9naWZfYnlfaWQmY3Q9Zw/1PMVNNKVIL8Ig/giphy.gif\" width=\"300\" height=\"200\">\n"
   ]
  }
 ],
 "metadata": {
  "kernelspec": {
   "display_name": "labmds",
   "language": "python",
   "name": "python3"
  },
  "language_info": {
   "codemirror_mode": {
    "name": "ipython",
    "version": 3
   },
   "file_extension": ".py",
   "mimetype": "text/x-python",
   "name": "python",
   "nbconvert_exporter": "python",
   "pygments_lexer": "ipython3",
   "version": "3.10.16"
  }
 },
 "nbformat": 4,
 "nbformat_minor": 4
}
