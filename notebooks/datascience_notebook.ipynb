{
 "cells": [
  {
   "cell_type": "markdown",
   "metadata": {},
   "source": [
    "![](https://www.dii.uchile.cl/wp-content/uploads/2021/06/Magi%CC%81ster-en-Ciencia-de-Datos.png)"
   ]
  },
  {
   "cell_type": "markdown",
   "metadata": {},
   "source": [
    "**MDS7202: Laboratorio de Programación Científica para Ciencia de Datos**\n",
    "\n",
    "### 👨‍🏫👩‍🏫 Cuerpo Docente:\n",
    "\n",
    "- Profesor: Sebastián Tinoco, Stefano Schiappacasse\n",
    "- Auxiliar: Melanie Peña Torres, Valentina Rojas Osorio\n",
    "- Ayudante: Valentina Zuñiga, Ángelo Muñoz \n",
    "\n",
    "### 👨‍💻👩‍💻 Estudiantes:\n",
    "- Estudiante n°1: Marcos Ignacio Huenchumil Illanes\n",
    "- Estudiante n°2: Nicolas Fuenzalida Saez"
   ]
  },
  {
   "cell_type": "markdown",
   "metadata": {},
   "source": [
    "---\n",
    "\n",
    "## 📖 Enunciado "
   ]
  },
  {
   "cell_type": "markdown",
   "metadata": {},
   "source": [
    "<div align=\"center\">\n",
    "    <img src='proyecto.png' style=\"border-radius: 12px\"> \n",
    "</div>"
   ]
  },
  {
   "cell_type": "markdown",
   "metadata": {},
   "source": [
    "En el competitivo universo de las bebidas gaseosas, la empresa **SodAI Drinks 🥤** ha logrado destacarse por su creatividad, diversidad de productos y enfoque centrado en el cliente. Ofrece una extensa gama de bebidas carbonatadas que abarca distintos segmentos del mercado: desde productos premium en presentaciones sofisticadas, hasta gaseosas accesibles para el consumo masivo, disponibles en diversos tamaños y tipos de envases. \n",
    "\n",
    "La compañía opera en múltiples regiones y zonas, sirviendo a una variedad de puntos de venta que incluyen desde tiendas de conveniencia y minimarkets hasta el canal frío tradicional. Cada tipo de cliente tiene sus particularidades: algunos reciben entregas hasta 4 veces por semana, mientras que otros son visitados por la fuerza de ventas solo una vez semanalmente. Esta diversidad de perfiles representa tanto una oportunidad como un desafío comercial: \n",
    "\n",
    "\t\t¿cómo saber qué productos tienen más chances de ser comprados por cada cliente en un momento dado?\n",
    "\n",
    "Con el objetivo de aumentar la facturación de forma inteligente y mejorar la eficiencia de su estrategia de ventas, **SodAI Drinks** decide crear una nueva célula interna de innovación: el equipo **Deep Drinkers 🤖**, cuyo propósito es aplicar ciencia de datos para anticiparse a las necesidades del cliente y potenciar el negocio desde una perspectiva basada en información.\n",
    "\n",
    "El corazón de esta iniciativa es el desarrollo de un sistema predictivo personalizado para cada cliente. Para ello, **Deep Drinkers** convoca a un equipo de Data Scientists y especialistas en *machine learning* con una misión clara: ``construir un modelo predictivo que, cada semana, pueda estimar la probabilidad de compra de cada producto del portafolio para cada cliente activo.``\n",
    "\n",
    "El modelo deberá tener en cuenta múltiples factores, incluyendo:\n",
    "- **Tipo de cliente**, ej. \"TIENDA DE CONVENIENCIA\", \"MINIMARKET\".\n",
    "- **Frecuencia de entregas y visitas**, indicadores del nivel de actividad comercial.\n",
    "- **Ubicación geográfica** (por región y zona).\n",
    "- **Preferencias históricas de consumo**, inferidas por patrones de compra anteriores.\n",
    "- **Características del producto**, como marca, categoría, segmento, tipo de envase y tamaño\n",
    "\n",
    "El objetivo final es que, **cada semana**, se genere una tabla de productos priorizados: para cada cliente, un listado de productos ordenado por su probabilidad estimada de compra. Esta información será enviada al equipo comercial, que podrá usarla en call center, para incrementar las chances de concretar ventas al ofrecer justo lo que el cliente probablemente quiere comprar.\n",
    "\n",
    "Este proyecto representa un cambio de paradigma en la forma en que **SodAI Drinks** gestiona su fuerza de ventas: de un enfoque reactivo y generalista, a uno proactivo, basado en datos y profundamente personalizado. Así, la empresa no solo espera aumentar su rentabilidad, sino también construir relaciones más sólidas con sus clientes, ofreciéndoles recomendaciones más relevantes y oportunas.\n",
    "\n",
    "Para lograr lo anterior, el equipo **Deep Drinkers** contará con los siguientes conjuntos de datos, junto a sus respectivos atributos:\n",
    "\n",
    "- **Datos transaccionales** (`transacciones.parquet`): contiene el historial de compras realizadas por los clientes.\n",
    "\t- `customer_id`: identificador único del cliente que realizó la compra.\n",
    "\t- `product_id`: identificador único del producto comprado.\n",
    "\t- `purchase_date`: fecha en que se realizó la transacción.\n",
    "\t- `order_id`: identificar de la orden de su pedido.\n",
    "\t- `payment`\tmonto total pagado por la transacción.\n",
    "\n",
    "- **Datos de clientes** (`clientes.parquet`): incluye las características de cada cliente.\n",
    "\t- `customer_id`: identificador único del cliente.\n",
    "\t- `region_id`: identificador de la región geográfica donde se encuentra el cliente.\n",
    "\t- `customer_type`: tipo de cliente según el canal comercial, por ejemplo, “TIENDA DE CONVENIENCIA”.\n",
    "\t- `Y`: coordenada geográfica de latitud.\n",
    "\t- `X`: coordenada geográfica de longitud.\n",
    "\t- `num_deliver_per_week`: cantidad de entregas semanales que recibe el cliente.\n",
    "\t- `num_visit_per_week`: frecuencia de visitas de la fuerza de ventas por semana.\n",
    "\n",
    "- **Datos de productos** (`productos.parquet`): describe las características de los productos del portafolio.\n",
    "\t- `product_id`: identificador único del producto.\n",
    "\t- `brand`: marca comercial del producto.\n",
    "\t- `category`: categoría general del producto, como “BEBIDAS CARBONATADAS”.\n",
    "\t- `sub_category`: subcategoría dentro de la categoría principal, por ejemplo, “GASEOSAS”.\n",
    "\t- `segment`: segmento de mercado al que pertenece el producto, como “PREMIUM”.\n",
    "\t- `package`: tipo de envase del producto.\n",
    "\t- `size`: tamaño del producto en litros."
   ]
  },
  {
   "cell_type": "markdown",
   "metadata": {},
   "source": [
    "## 📚 Reglas"
   ]
  },
  {
   "cell_type": "markdown",
   "metadata": {},
   "source": [
    "<center>\n",
    "<img src=\"https://media1.tenor.com/m/0Qtv_cQ4ITsAAAAd/necohaus-grey-name.gif\" width=\"450\">"
   ]
  },
  {
   "cell_type": "markdown",
   "metadata": {},
   "source": [
    "\n",
    "\n",
    "El proyecto consta de **dos entregas parciales** y una **entrega final** en donde la primera entrega la idea es poder reflejar lo aprendido durante la primera mitad del curso, que será sobre los contenidos relacionados a *machine learning*, la segunda será sobre los contenidos de la segunda mitad del curso relacionados a *MLOps* y por último la entrega final constará de dos partes, donde la primera será relacionada con experimentación sobre nuevos datasets que serán disponibilizados durante las últimas semanas del curso de manera incremental y una segunda parte que será el informe final escrito que deberá explicar el desarrollo del proyecto completo, como tambien los resultados y análisis de los experimentos realizados sobre los datasets incrementales. La idea es que todo el código esté desarrollado durante las primeras dos entregas y luego en la entrega final sólo se ejecute el código sobre nuevos conjuntos de datos.\n",
    "\n",
    "La idea de generar el proyecto por etapas es poder aliviar la carga de trabajo en las últimas semanas del semestre donde sabemos que están muy cargado con entregas, pruebas y exámenes de otros ramos, y así garantizamos que habiendo la desarrollado las dos primeras entregas parciales, tendrán el grueso del proyecto listo para luego experimentar y documentar.\n",
    "\n",
    "---\n",
    "### **Fechas de entrega**\n",
    "- **Entrega parcial 1**: 14 de Mayo\n",
    "- **Entrega parcial 2**: Por definir\n",
    "- **Entrega final**: Por definir\n",
    "\n",
    "---\n",
    "\n",
    "### **Requisitos del proyecto**\n",
    "- **Grupos**: Formar equipos de **2 personas**. No se aceptarán trabajos individuales o grupos con más integrantes.\n",
    "- **Consultas**: Cualquier duda fuera del horario de clases debe ser planteada en el foro correspondiente. Los mensajes enviados al equipo docente serán respondidos únicamente por este medio. Por favor, revisen las respuestas anteriores en el foro antes de realizar nuevas consultas.\n",
    "- **Plagio**: La copia o reutilización no autorizada de trabajos de otros grupos está **estrictamente prohibida**. El incumplimiento de esta norma implicará la anulación inmediata del proyecto y una posible sanción académica.\n",
    "- **Material permitido**: Pueden usar cualquier material del curso, ya sea notas, lecturas, códigos, o referencias proporcionadas por los docentes, que consideren útil para el desarrollo del proyecto.\n",
    "\n",
    "---\n",
    "\n",
    "### **Entregables y etapas**\n",
    "\n",
    "#### **1. Entrega Parcial 1**  \n",
    "- Dispondrán de los archivos de datos **productos.parquet**, **clientes.parquet** y **transacciones.parquet** para el modelamiento inicial.  \n",
    "- Utilizarán estos archivos para desarrollar lo solicitado para la entrega 1. \n",
    "- En esta etapa, se espera que apliquen todos los conocimientos aprendidos durante la primera parte del curso relacionados con *machine learning*.\n",
    "- **Informe**: No se exige un avance del informe en esta etapa, sólo un notebook con su desarrollo actual, pero se **recomienda comenzar** a redactar el informe final en paralelo para disminuir la carga académica en las etapas posteriores.  \n",
    "\n",
    "#### **2. Entrega Parcial 2**  \n",
    "- En esta entrega, deberán aplicar los conocimientos aprendidos durante la segunda mitad del curso sobre *MLOps*  \n",
    "- Se espera que implementen estos conocimientos para desplegar su modelo elegido en la primera entrega y crear *pipelines* automatizados que simulen un entorno productivo.\n",
    "- **Informe**: similar a la primera etapa, no se exige un avance del informe, pero se **recomienda avanzar con su redacción** para evitar una acumulación de trabajo en la etapa final.  \n",
    "\n",
    "#### **3. Entrega Final**  \n",
    "- En la entrega final, deberán realizar dos etapas:\n",
    "\t- La primera etapa es sobre experimentación utilizando datasets incrementales que se irán disponibilizando de manera parcial, para que vayan generando predicciones con su modelo ya desplegado. El objetivo de esta etapa es poder testear su solución *end-to-end* y que vayan analizando los resultados obtenidos a medida que se van agregando más datos.\n",
    "\t- La segunda etapa consiste en redactar un informe final que deberá explicar el desarrollo completo de tu proyecto y un análisis profundo de sus resultados de experimentación. Este informe debera incluir a lo menos las siguientes secciones:\n",
    "\t\t- Análisis exploratorio de datos  \n",
    "\t\t- Metodología aplicada  \n",
    "\t\t- Selección y entrenamiento de modelos  \n",
    "\t\t- Evaluación de resultados  \n",
    "\t\t- Optimización de modelos\n",
    "\t\t- Interpretabilidad\n",
    "\t\t- Re-entrenamiento\n",
    "\t\t- Tracking con MLFlow\n",
    "\t\t- Creación de la aplicación web con Gradio y FastAPI\n",
    "\n",
    "Es **altamente recomendable** ir redactando el informe en paralelo al desarrollo de los modelos para garantizar que toda la información relevante quede documentada adecuadamente.  \n",
    "\n",
    "### Nota Final\n",
    "\n",
    "La calificación final de su proyecto se calculará utilizando la siguiente ponderación: \n",
    "\n",
    "$$Nota Final = 0.30 * EntregaParcial1 + 0.40 * EntregaParcial2 + 0.30 * EntregaFinal$$\n",
    "\n",
    "---\n",
    "\n",
    "### **Instrucciones importantes**\n",
    "\n",
    "1. **Formato del informe**:  \n",
    "   - El informe debe estar integrado dentro de un **Jupyter Notebook**. No es necesario subirlo a una plataforma externa, pero debe cumplir con los siguientes requisitos:  \n",
    "     - Estructura clara y ordenada.  \n",
    "     - Código acompañado de explicaciones detalladas.  \n",
    "     - Resultados presentados de forma visual y analítica.  \n",
    "\n",
    "2. **Descuento por informes deficientes**:  \n",
    "   - Cualquier sección del informe que no tenga una explicación adecuada o no respete el formato será penalizada con un descuento en la nota. Esto incluye código sin comentarios o análisis que no sean coherentes con los resultados presentados.\n",
    "   - Comentarios sin formatear de ChatGPT o herramientas similares serán penalizados (e.g: \"Inserta tu modelo acá\", etc.)"
   ]
  },
  {
   "cell_type": "markdown",
   "metadata": {},
   "source": [
    "# 📬 Entrega Parcial 1 (30% del Proyecto)"
   ]
  },
  {
   "cell_type": "markdown",
   "metadata": {},
   "source": [
    "## 📌 Abstract [0.25 puntos]\n",
    "\n",
    "<center>\n",
    "<img src=\"https://i.redd.it/h5ptnsyabqvd1.gif\" width=\"400\" height=\"300\">"
   ]
  },
  {
   "cell_type": "markdown",
   "metadata": {},
   "source": [
    "En esta sección, deben redactar un Abstract claro y conciso para su proyecto. El Abstract debe responder a las siguientes preguntas clave:\n",
    "\n",
    "- **Descripción del problema**: ¿Cuál es el objetivo del proyecto? ¿Qué se intenta predecir o analizar?\n",
    "- **Datos de entrada**: ¿Qué datos tienen disponibles? ¿Cuáles son sus principales características?\n",
    "- **Métrica de evaluación**: ¿Cómo medirán el desempeño de sus modelos? Expliquen por qué eligieron esta métrica basándose en el análisis exploratorio de los datos.\n",
    "- **Modelos y transformaciones**: ¿Qué modelos utilizarán y por qué? ¿Qué transformaciones o preprocesamientos aplicaron a los datos?\n",
    "- **Resultados generales**: ¿El modelo final cumplió con los objetivos del proyecto? ¿Cuáles fueron las conclusiones más importantes?\n",
    "\n",
    "**Importante**: Escriban esto despues de haber resuelto el resto de la tarea."
   ]
  },
  {
   "cell_type": "markdown",
   "metadata": {},
   "source": [
    "## Abstract"
   ]
  },
  {
   "cell_type": "markdown",
   "metadata": {},
   "source": [
    "1. **Descripción del problema**\n",
    "- ¿Cuál es el objetivo del proyecto? El objetivo del proyecto, como se mencionó anteriormente es: construir un modelo predictivo que, cada semana, pueda estimar la probabilidad de compra de cada producto del portafolio para cada cliente activo. La idea es, una vez construido el modelo, darle esta información al equipo de Marketing para que aprovechen negocios nuevos u ofertas a clientes.\n",
    "- ¿Qué se intenta predecir o analizar? Se intenta predecir el comportamiento que tienen los clientes activos con la información de los 3 datasets para predecir qué son más propensos a comprar, dado su historial de compras y comportamientos anteriores.\n",
    "\n",
    "2. **Datos de entrada**\n",
    "- ¿Qué datos tienen disponibles? Según se nos menciona anteriormente, los datos que tenemos disponibles son de 3 datasets: Datos transaccionales (transacciones.parquet): contiene el historial de compras realizadas por los clientes, Datos de clientes (clientes.parquet): incluye las características de cada cliente y Datos de productos (productos.parquet): describe las características de los productos del portafolio.\n",
    "- ¿Cuáles son sus principales características? Importando los datasets, se puede observar que el dataset:\n",
    "\n",
    "    a. \"Transacciones\" tiene 5 columnas: \"customer_id\" que es la llave para cada cliente, \"product_id\" que es la llave de cada producto, \"order_id\" que es la llave de cada orden realizada, \"purchase_date\" que muestra la fecha de la compra y \"items\" que muestra la cantidad de bultos comprados por el cliente en esa transacción (existen valores negativos porque ciertas transacciones realizadas, luego se cancelan por algún motivo particular), además no existe la columna \"payment\".\n",
    "\n",
    "    b. \"Clientes\" tiene 8 columnas: \"customer_id\" ya explicada, \"region_id\" la llave de la region, \"zone_id\" llave de la zona (una región puede contener varias zonas), \"customer_type\" que tiene 7 tipos de clientes (abarrotes, restaurant, supermercado, etc.), \"Y\" y \"X\" presentan las coordenadas, \"num_deliver_per_week\" y \"num_visit_per_week\" la cantidad de entregas y visitas semanalmente. \n",
    "\n",
    "    c. \"Productos tiene 7 columnas: \"product_id\" visto antes, \"brand\" es la marca del producto, \"category\" es categoría general de producto (carbonatada o no carbonatada), \"sub_category\" puede ser gaseosas, aguas saborizadas o jugos, \"segment\" es el segmento al que pertenece el producto, \"package\" es botella, lata, tetra o keg y \"size\" es el tamaño del producto en litros.\n",
    "\n",
    "3. **Métrica de evaluación**\n",
    "- ¿Cómo medirán el desempeño de sus modelos? Expliquen por qué eligieron esta métrica basándose en el análisis exploratorio de los datos.\n",
    "\n",
    "4. **Modelos y transformaciones**\n",
    "- ¿Qué modelos utilizarán y por qué?\n",
    "- ¿Qué transformaciones o preprocesamientos aplicaron a los datos?\n",
    "\n",
    "5. **Resultados generales**\n",
    "- ¿El modelo final cumplió con los objetivos del proyecto?\n",
    "- ¿Cuáles fueron las conclusiones más importantes?"
   ]
  },
  {
   "cell_type": "markdown",
   "metadata": {},
   "source": [
    "## 📌 Pre-procesamiento [0.5 puntos]\n",
    "\n",
    "<center>\n",
    "<img src=\"https://media0.giphy.com/media/10zsjaH4g0GgmY/giphy.gif?cid=6c09b9523xtlunksc9amikw09zk1bmiqwjqnt70ae82rk877&ep=v1_gifs_search&rid=giphy.gif&ct=g\" width=\"400\" height=\"300\">"
   ]
  },
  {
   "cell_type": "markdown",
   "metadata": {},
   "source": [
    "Tal como en muchos otros problemas de negocio, los datos probablemente deben ser pre procesados antes de aplicar cualquier técnica de analítica. Bajo esa premisa, en esta sección deben desarrollar código que les permita **preparar los datos** de tal forma que les permita resolver el problema planteado. Para esto, pueden aplicar procesamientos como:\n",
    "\n",
    "- Transformaciones de tipo de dato (str, int, etc)\n",
    "- Cruce de información\n",
    "- Eliminación de duplicados\n",
    "- Filtros de fila y/o columnas\n",
    "\n",
    "*Hint: ¿Qué forma debería tener la data para resolver un problema de aprendizaje supervisado?*\n",
    "\n",
    "Todo proceso llevado a cabo debe estar bien documentado y justificado en el informe, explicando el por qué se decidió realizar en funcion de los datos presentados y los objetivos planteados del proyecto."
   ]
  },
  {
   "cell_type": "code",
   "execution_count": 1,
   "metadata": {},
   "outputs": [],
   "source": [
    "import pandas as pd\n",
    "from sklearn import set_config\n",
    "\n",
    "# se configura el modo de salida de los DataFrames\n",
    "set_config(transform_output=\"pandas\")\n",
    "pd.options.display.float_format = '{:.2f}'.format"
   ]
  },
  {
   "cell_type": "code",
   "execution_count": 2,
   "metadata": {},
   "outputs": [],
   "source": [
    "# se cargan los datos\n",
    "df_transacciones = pd.read_parquet(\"data/transacciones.parquet\")\n",
    "df_clientes = pd.read_parquet(\"data/clientes.parquet\")\n",
    "df_productos =  pd.read_parquet(\"data/productos.parquet\")"
   ]
  },
  {
   "cell_type": "code",
   "execution_count": 3,
   "metadata": {},
   "outputs": [],
   "source": [
    "from sklearn.base import BaseEstimator, TransformerMixin\n",
    "import numpy as np\n",
    "\n",
    "#funcion auxiliar para el preprocesamiento\n",
    "class IQR(BaseEstimator, TransformerMixin):\n",
    "    def __init__(self, lambda_=1.5):\n",
    "        self.lambda_ = lambda_\n",
    "\n",
    "    def fit(self, X, y=None):\n",
    "        q1 = X.quantile(0.25)\n",
    "        q3 = X.quantile(0.75)\n",
    "        iqr = q3 - q1\n",
    "        self.lower_bound_ = q1 - self.lambda_ * iqr\n",
    "        self.upper_bound_ = q3 + self.lambda_ * iqr\n",
    "        return self\n",
    "\n",
    "    def transform(self, X):\n",
    "        X_transformed = X.copy()\n",
    "        for col in X.columns:\n",
    "            X_transformed.loc[(X[col] < self.lower_bound_[col]) | (X[col] > self.upper_bound_[col]), col] = np.nan\n",
    "        return X_transformed\n",
    "\n",
    "    def count_outliers(self, X):\n",
    "        if isinstance(X, pd.Series):\n",
    "            X = X.to_frame()\n",
    "        resumen = []\n",
    "        for col in X.columns:\n",
    "            if col in self.lower_bound_:\n",
    "                outliers = (X[col] < self.lower_bound_[col]) | (X[col] > self.upper_bound_[col])\n",
    "                resumen.append({\n",
    "                    'columna': col,\n",
    "                    'outliers': outliers.sum(),\n",
    "                    'porcentaje': 100 * outliers.sum() / len(X)\n",
    "                })\n",
    "        return pd.DataFrame(resumen).sort_values(by='porcentaje', ascending=False)\n",
    "\n",
    "    def get_feature_names_out(self, input_features=None):\n",
    "        return input_features\n"
   ]
  },
  {
   "cell_type": "code",
   "execution_count": 4,
   "metadata": {},
   "outputs": [],
   "source": [
    "import matplotlib.pyplot as plt\n",
    "import seaborn as sns\n",
    "import pandas as pd\n",
    "\n",
    "# funcion auxiliar para graficar boxplots\n",
    "def bboxplot(series: pd.Series, title: str = \"\", use_deciles: bool = False, k: float = 1.5):\n",
    "    \"\"\"\n",
    "    Genera un boxplot usando seaborn a partir de una pd.Series.\n",
    "    Puede usar deciles (D1, D9) en lugar del IQR clásico.\n",
    "\n",
    "    Parámetros:\n",
    "    - series: pd.Series con los datos numéricos.\n",
    "    - title: str, título del gráfico.\n",
    "    - use_deciles: bool, si True usa D1 y D9 en vez de Q1 y Q3.\n",
    "    - k: float, coeficiente para definir outliers con deciles.\n",
    "    \"\"\"\n",
    "    if not isinstance(series, pd.Series):\n",
    "        raise TypeError(\"El parámetro debe ser una pd.Series.\")\n",
    "\n",
    "    if use_deciles:\n",
    "        d1 = series.quantile(0.25) # primer decil\n",
    "        d9 = series.quantile(0.75) # noveno decil\n",
    "        spread = d9 - d1\n",
    "        lower_bound = d1 - k * spread\n",
    "        upper_bound = d9 + k * spread\n",
    "        outliers = series[(series < lower_bound) | (series > upper_bound)].count()\n",
    "        computed_title = (\n",
    "            f\"{series.name} \"\n",
    "            f\"D1={d1:.2f}, D9={d9:.2f}, Rango={spread:.2f}, Outliers={outliers}\"\n",
    "        )\n",
    "    else:\n",
    "        q1 = series.quantile(0.25)\n",
    "        q3 = series.quantile(0.75)\n",
    "        iqr = q3 - q1\n",
    "        lower_bound = q1 - k * iqr\n",
    "        upper_bound = q3 + k * iqr\n",
    "        outliers = series[(series < lower_bound) | (series > upper_bound)].count()\n",
    "       \n",
    "        computed_title = (\n",
    "            f\"{series.name} \"\n",
    "            f\"Q1={q1:.2f}, Q3={q3:.2f}, IQR={iqr:.2f}, Outliers={outliers}\"\n",
    "        )\n",
    "\n",
    "    porcentage = f\" ({outliers / len(series) * 100:.2f}%)\" if outliers else \"\"\n",
    "    plt.figure(figsize=(15, 4))\n",
    "    sns.boxplot(x=series, color='blue')\n",
    "    plt.axvline(lower_bound, color='blue', linestyle='--', label='Límite inferior', linewidth=1)\n",
    "    plt.axvline(upper_bound, color='blue', linestyle='--', label='Límite superior', linewidth=1)\n",
    "    plt.title(title + '\\n' + computed_title + porcentage or computed_title)\n",
    "    plt.xlabel(series.name or \"Valor\")\n",
    "    plt.grid(True, axis='x', linestyle='--', alpha=0.5)\n",
    "    plt.tight_layout()\n",
    "    plt.legend()\n",
    "    plt.show()\n",
    "\n",
    "# función auxiliar para graficar barplots\n",
    "def barplot(serie, titulo='Distribución de categorías', xlabel='Categoría', ylabel='Frecuencia', rot=45):\n",
    "    conteo = serie.value_counts().sort_index()\n",
    "    df_plot = pd.DataFrame({xlabel: conteo.index, ylabel: conteo.values})\n",
    "\n",
    "    plt.figure(figsize=(8, 5))\n",
    "    sns.barplot(data=df_plot, x=xlabel, y=ylabel)\n",
    "    plt.title(f\"{titulo}: {serie.name}\")\n",
    "    plt.xticks(rotation=rot)\n",
    "    plt.grid(axis='y', linestyle='--', alpha=0.7)\n",
    "    plt.tight_layout()\n",
    "    plt.show()"
   ]
  },
  {
   "cell_type": "markdown",
   "metadata": {},
   "source": [
    "#### dataframe transacciones"
   ]
  },
  {
   "cell_type": "code",
   "execution_count": 5,
   "metadata": {},
   "outputs": [
    {
     "data": {
      "text/html": [
       "<div>\n",
       "<style scoped>\n",
       "    .dataframe tbody tr th:only-of-type {\n",
       "        vertical-align: middle;\n",
       "    }\n",
       "\n",
       "    .dataframe tbody tr th {\n",
       "        vertical-align: top;\n",
       "    }\n",
       "\n",
       "    .dataframe thead th {\n",
       "        text-align: right;\n",
       "    }\n",
       "</style>\n",
       "<table border=\"1\" class=\"dataframe\">\n",
       "  <thead>\n",
       "    <tr style=\"text-align: right;\">\n",
       "      <th></th>\n",
       "      <th>customer_id</th>\n",
       "      <th>product_id</th>\n",
       "      <th>order_id</th>\n",
       "      <th>purchase_date</th>\n",
       "      <th>items</th>\n",
       "    </tr>\n",
       "  </thead>\n",
       "  <tbody>\n",
       "    <tr>\n",
       "      <th>124</th>\n",
       "      <td>61353</td>\n",
       "      <td>61364</td>\n",
       "      <td>411145</td>\n",
       "      <td>2024-04-27</td>\n",
       "      <td>-0.33</td>\n",
       "    </tr>\n",
       "    <tr>\n",
       "      <th>127</th>\n",
       "      <td>61899</td>\n",
       "      <td>1370</td>\n",
       "      <td>411156</td>\n",
       "      <td>2024-04-27</td>\n",
       "      <td>3.67</td>\n",
       "    </tr>\n",
       "    <tr>\n",
       "      <th>344</th>\n",
       "      <td>154077</td>\n",
       "      <td>30500</td>\n",
       "      <td>417911</td>\n",
       "      <td>2024-04-29</td>\n",
       "      <td>2.33</td>\n",
       "    </tr>\n",
       "    <tr>\n",
       "      <th>349</th>\n",
       "      <td>164337</td>\n",
       "      <td>56714</td>\n",
       "      <td>418100</td>\n",
       "      <td>2024-04-29</td>\n",
       "      <td>-2.33</td>\n",
       "    </tr>\n",
       "    <tr>\n",
       "      <th>354</th>\n",
       "      <td>172056</td>\n",
       "      <td>61672</td>\n",
       "      <td>407162</td>\n",
       "      <td>2024-04-26</td>\n",
       "      <td>1.00</td>\n",
       "    </tr>\n",
       "  </tbody>\n",
       "</table>\n",
       "</div>"
      ],
      "text/plain": [
       "     customer_id  product_id  order_id purchase_date  items\n",
       "124        61353       61364    411145    2024-04-27  -0.33\n",
       "127        61899        1370    411156    2024-04-27   3.67\n",
       "344       154077       30500    417911    2024-04-29   2.33\n",
       "349       164337       56714    418100    2024-04-29  -2.33\n",
       "354       172056       61672    407162    2024-04-26   1.00"
      ]
     },
     "execution_count": 5,
     "metadata": {},
     "output_type": "execute_result"
    }
   ],
   "source": [
    "# se visualizan algunos datos\n",
    "df_transacciones.head()"
   ]
  },
  {
   "cell_type": "code",
   "execution_count": 6,
   "metadata": {},
   "outputs": [
    {
     "name": "stdout",
     "output_type": "stream",
     "text": [
      "<class 'pandas.core.frame.DataFrame'>\n",
      "Index: 254936 entries, 124 to 7712548\n",
      "Data columns (total 5 columns):\n",
      " #   Column         Non-Null Count   Dtype         \n",
      "---  ------         --------------   -----         \n",
      " 0   customer_id    254936 non-null  int64         \n",
      " 1   product_id     254936 non-null  int64         \n",
      " 2   order_id       254936 non-null  int64         \n",
      " 3   purchase_date  254936 non-null  datetime64[ns]\n",
      " 4   items          254936 non-null  float64       \n",
      "dtypes: datetime64[ns](1), float64(1), int64(3)\n",
      "memory usage: 11.7 MB\n"
     ]
    }
   ],
   "source": [
    "# se verifica el tipo de datos y la existencia de valores nulos -> sin valores nulos\n",
    "df_transacciones.info()"
   ]
  },
  {
   "cell_type": "code",
   "execution_count": 7,
   "metadata": {},
   "outputs": [
    {
     "data": {
      "text/html": [
       "<div>\n",
       "<style scoped>\n",
       "    .dataframe tbody tr th:only-of-type {\n",
       "        vertical-align: middle;\n",
       "    }\n",
       "\n",
       "    .dataframe tbody tr th {\n",
       "        vertical-align: top;\n",
       "    }\n",
       "\n",
       "    .dataframe thead th {\n",
       "        text-align: right;\n",
       "    }\n",
       "</style>\n",
       "<table border=\"1\" class=\"dataframe\">\n",
       "  <thead>\n",
       "    <tr style=\"text-align: right;\">\n",
       "      <th></th>\n",
       "      <th>customer_id</th>\n",
       "      <th>product_id</th>\n",
       "      <th>order_id</th>\n",
       "      <th>purchase_date</th>\n",
       "      <th>items</th>\n",
       "    </tr>\n",
       "  </thead>\n",
       "  <tbody>\n",
       "    <tr>\n",
       "      <th>count</th>\n",
       "      <td>254936.00</td>\n",
       "      <td>254936.00</td>\n",
       "      <td>254936.00</td>\n",
       "      <td>254936</td>\n",
       "      <td>254936.00</td>\n",
       "    </tr>\n",
       "    <tr>\n",
       "      <th>mean</th>\n",
       "      <td>190423.88</td>\n",
       "      <td>30736.52</td>\n",
       "      <td>639982.96</td>\n",
       "      <td>2024-07-11 07:49:38.893526016</td>\n",
       "      <td>4.38</td>\n",
       "    </tr>\n",
       "    <tr>\n",
       "      <th>min</th>\n",
       "      <td>25734.00</td>\n",
       "      <td>60.00</td>\n",
       "      <td>2545.00</td>\n",
       "      <td>2024-01-01 00:00:00</td>\n",
       "      <td>-399.67</td>\n",
       "    </tr>\n",
       "    <tr>\n",
       "      <th>25%</th>\n",
       "      <td>175878.00</td>\n",
       "      <td>1372.00</td>\n",
       "      <td>312307.00</td>\n",
       "      <td>2024-03-26 00:00:00</td>\n",
       "      <td>1.00</td>\n",
       "    </tr>\n",
       "    <tr>\n",
       "      <th>50%</th>\n",
       "      <td>203661.00</td>\n",
       "      <td>33886.00</td>\n",
       "      <td>651109.00</td>\n",
       "      <td>2024-07-23 00:00:00</td>\n",
       "      <td>2.33</td>\n",
       "    </tr>\n",
       "    <tr>\n",
       "      <th>75%</th>\n",
       "      <td>212748.00</td>\n",
       "      <td>56714.00</td>\n",
       "      <td>967222.00</td>\n",
       "      <td>2024-10-23 00:00:00</td>\n",
       "      <td>3.67</td>\n",
       "    </tr>\n",
       "    <tr>\n",
       "      <th>max</th>\n",
       "      <td>2061063.00</td>\n",
       "      <td>63540.00</td>\n",
       "      <td>1248450.00</td>\n",
       "      <td>2024-12-31 00:00:00</td>\n",
       "      <td>1000.33</td>\n",
       "    </tr>\n",
       "    <tr>\n",
       "      <th>std</th>\n",
       "      <td>62817.00</td>\n",
       "      <td>24067.65</td>\n",
       "      <td>371004.07</td>\n",
       "      <td>NaN</td>\n",
       "      <td>12.10</td>\n",
       "    </tr>\n",
       "  </tbody>\n",
       "</table>\n",
       "</div>"
      ],
      "text/plain": [
       "       customer_id  product_id   order_id                  purchase_date  \\\n",
       "count    254936.00   254936.00  254936.00                         254936   \n",
       "mean     190423.88    30736.52  639982.96  2024-07-11 07:49:38.893526016   \n",
       "min       25734.00       60.00    2545.00            2024-01-01 00:00:00   \n",
       "25%      175878.00     1372.00  312307.00            2024-03-26 00:00:00   \n",
       "50%      203661.00    33886.00  651109.00            2024-07-23 00:00:00   \n",
       "75%      212748.00    56714.00  967222.00            2024-10-23 00:00:00   \n",
       "max     2061063.00    63540.00 1248450.00            2024-12-31 00:00:00   \n",
       "std       62817.00    24067.65  371004.07                            NaN   \n",
       "\n",
       "          items  \n",
       "count 254936.00  \n",
       "mean       4.38  \n",
       "min     -399.67  \n",
       "25%        1.00  \n",
       "50%        2.33  \n",
       "75%        3.67  \n",
       "max     1000.33  \n",
       "std       12.10  "
      ]
     },
     "execution_count": 7,
     "metadata": {},
     "output_type": "execute_result"
    }
   ],
   "source": [
    "# resumen estadístico de las variables numéricas. sirve para ver si hay outliers\n",
    "df_transacciones.describe()"
   ]
  },
  {
   "cell_type": "code",
   "execution_count": 8,
   "metadata": {},
   "outputs": [
    {
     "name": "stdout",
     "output_type": "stream",
     "text": [
      "<class 'pandas.core.frame.DataFrame'>\n",
      "Index: 254936 entries, 124 to 7712548\n",
      "Data columns (total 5 columns):\n",
      " #   Column         Non-Null Count   Dtype         \n",
      "---  ------         --------------   -----         \n",
      " 0   customer_id    254936 non-null  int64         \n",
      " 1   product_id     254936 non-null  int64         \n",
      " 2   order_id       254936 non-null  int64         \n",
      " 3   purchase_date  254936 non-null  datetime64[ns]\n",
      " 4   items          254936 non-null  float64       \n",
      "dtypes: datetime64[ns](1), float64(1), int64(3)\n",
      "memory usage: 11.7 MB\n"
     ]
    }
   ],
   "source": [
    "# transformaciones de tipo de datos: los tipos de datos estan bien definidos\n",
    "df_transacciones.info()"
   ]
  },
  {
   "cell_type": "code",
   "execution_count": 9,
   "metadata": {},
   "outputs": [
    {
     "name": "stdout",
     "output_type": "stream",
     "text": [
      "se eliminan registro duplicados: 885\n",
      "porcentaje: 0.35%\n"
     ]
    }
   ],
   "source": [
    "#duplicados\n",
    "df_transacciones_without_duplicated = df_transacciones.drop_duplicates(subset=['customer_id', 'product_id', 'purchase_date', 'items'])\n",
    "print(f\"se eliminan registro duplicados: {df_transacciones.shape[0] - df_transacciones_without_duplicated.shape[0]}\")\n",
    "print(f\"porcentaje: {(100 * (df_transacciones.shape[0] - df_transacciones_without_duplicated.shape[0]) / df_transacciones.shape[0]):.2f}%\")"
   ]
  },
  {
   "cell_type": "markdown",
   "metadata": {},
   "source": [
    "En el dataframe ``transacciones`` los tipos de datos son consistentes con los valores ingresados, por lo que no fue necesario realizar transformación a los tipos. \n",
    "\n",
    "Para analizar la existencia de registros duplicados, se eliminó la clave primaria `order_id` del conjunto de columnas, permitiendo así detectar registros que son idénticos en todos los demás atributos. Se encuentran 885 registros duplicados, lo que representa aproximadamente el 0.35% del total de transacciones. Al ser una cantidad no significativa se decide precindir de estos datos.\n",
    "\n",
    "En cuanto a la utilidad de las features:\n",
    "- `order_id`: indetificador único de cada transacción (por eliminar en el df_completed)\n",
    "- `customer_id`, `product_id`: permiten realizar el cruce de información con las otras dataframes\n",
    "- `purchase_date`: aporta información temporal que puede ser útil para identificar patrones de comportamiento o estacionalidades\n",
    "- `items`: indica la cantidad de productos comprados en cada transacciones \n"
   ]
  },
  {
   "cell_type": "code",
   "execution_count": 10,
   "metadata": {},
   "outputs": [
    {
     "data": {
      "text/html": [
       "<div>\n",
       "<style scoped>\n",
       "    .dataframe tbody tr th:only-of-type {\n",
       "        vertical-align: middle;\n",
       "    }\n",
       "\n",
       "    .dataframe tbody tr th {\n",
       "        vertical-align: top;\n",
       "    }\n",
       "\n",
       "    .dataframe thead th {\n",
       "        text-align: right;\n",
       "    }\n",
       "</style>\n",
       "<table border=\"1\" class=\"dataframe\">\n",
       "  <thead>\n",
       "    <tr style=\"text-align: right;\">\n",
       "      <th></th>\n",
       "      <th>customer_id</th>\n",
       "      <th>product_id</th>\n",
       "      <th>order_id</th>\n",
       "      <th>purchase_date</th>\n",
       "      <th>items</th>\n",
       "    </tr>\n",
       "  </thead>\n",
       "  <tbody>\n",
       "    <tr>\n",
       "      <th>124</th>\n",
       "      <td>61353</td>\n",
       "      <td>61364</td>\n",
       "      <td>411145</td>\n",
       "      <td>2024-04-27</td>\n",
       "      <td>-0.33</td>\n",
       "    </tr>\n",
       "    <tr>\n",
       "      <th>127</th>\n",
       "      <td>61899</td>\n",
       "      <td>1370</td>\n",
       "      <td>411156</td>\n",
       "      <td>2024-04-27</td>\n",
       "      <td>3.67</td>\n",
       "    </tr>\n",
       "    <tr>\n",
       "      <th>344</th>\n",
       "      <td>154077</td>\n",
       "      <td>30500</td>\n",
       "      <td>417911</td>\n",
       "      <td>2024-04-29</td>\n",
       "      <td>2.33</td>\n",
       "    </tr>\n",
       "    <tr>\n",
       "      <th>349</th>\n",
       "      <td>164337</td>\n",
       "      <td>56714</td>\n",
       "      <td>418100</td>\n",
       "      <td>2024-04-29</td>\n",
       "      <td>-2.33</td>\n",
       "    </tr>\n",
       "    <tr>\n",
       "      <th>354</th>\n",
       "      <td>172056</td>\n",
       "      <td>61672</td>\n",
       "      <td>407162</td>\n",
       "      <td>2024-04-26</td>\n",
       "      <td>1.00</td>\n",
       "    </tr>\n",
       "  </tbody>\n",
       "</table>\n",
       "</div>"
      ],
      "text/plain": [
       "     customer_id  product_id  order_id purchase_date  items\n",
       "124        61353       61364    411145    2024-04-27  -0.33\n",
       "127        61899        1370    411156    2024-04-27   3.67\n",
       "344       154077       30500    417911    2024-04-29   2.33\n",
       "349       164337       56714    418100    2024-04-29  -2.33\n",
       "354       172056       61672    407162    2024-04-26   1.00"
      ]
     },
     "execution_count": 10,
     "metadata": {},
     "output_type": "execute_result"
    }
   ],
   "source": [
    "df_transacciones_cleaned = df_transacciones_without_duplicated.copy()\n",
    "df_transacciones_cleaned.head()"
   ]
  },
  {
   "cell_type": "code",
   "execution_count": 11,
   "metadata": {},
   "outputs": [
    {
     "data": {
      "image/png": "[encoded data removed]",
      "text/plain": [
       "<Figure size 1500x400 with 1 Axes>"
      ]
     },
     "metadata": {},
     "output_type": "display_data"
    }
   ],
   "source": [
    "# outliers\n",
    "bboxplot(df_transacciones_cleaned['items'], title='Distribución de items', use_deciles=False, k=5)"
   ]
  },
  {
   "cell_type": "code",
   "execution_count": 12,
   "metadata": {},
   "outputs": [
    {
     "name": "stdout",
     "output_type": "stream",
     "text": [
      "Porcentaje de devoluciones: 3.29%, devolucion: 8346\n"
     ]
    }
   ],
   "source": [
    "dir_shopping = {\n",
    "    \"devolucion\": (df_transacciones_without_duplicated['items'] < 0).sum(),\n",
    "    \"compra\": (df_transacciones_without_duplicated['items'] >= 0).sum()\n",
    "}\n",
    "\n",
    "porcentaje_devoluciones = round(\n",
    "    dir_shopping['devolucion'] / (dir_shopping['compra'] + dir_shopping['devolucion']) * 100,\n",
    "    2\n",
    ")\n",
    "print(f\"Porcentaje de devoluciones: {porcentaje_devoluciones}%, devolucion: {dir_shopping['devolucion']}\")"
   ]
  },
  {
   "cell_type": "code",
   "execution_count": 13,
   "metadata": {},
   "outputs": [],
   "source": [
    "# eliminar row con items negativos\n",
    "df_transacciones_cleaned = df_transacciones_cleaned[df_transacciones_cleaned['items'] >= 0]"
   ]
  },
  {
   "cell_type": "markdown",
   "metadata": {},
   "source": [
    "#### dataframe clientes"
   ]
  },
  {
   "cell_type": "code",
   "execution_count": 14,
   "metadata": {},
   "outputs": [
    {
     "data": {
      "text/html": [
       "<div>\n",
       "<style scoped>\n",
       "    .dataframe tbody tr th:only-of-type {\n",
       "        vertical-align: middle;\n",
       "    }\n",
       "\n",
       "    .dataframe tbody tr th {\n",
       "        vertical-align: top;\n",
       "    }\n",
       "\n",
       "    .dataframe thead th {\n",
       "        text-align: right;\n",
       "    }\n",
       "</style>\n",
       "<table border=\"1\" class=\"dataframe\">\n",
       "  <thead>\n",
       "    <tr style=\"text-align: right;\">\n",
       "      <th></th>\n",
       "      <th>customer_id</th>\n",
       "      <th>region_id</th>\n",
       "      <th>zone_id</th>\n",
       "      <th>customer_type</th>\n",
       "      <th>Y</th>\n",
       "      <th>X</th>\n",
       "      <th>num_deliver_per_week</th>\n",
       "      <th>num_visit_per_week</th>\n",
       "    </tr>\n",
       "  </thead>\n",
       "  <tbody>\n",
       "    <tr>\n",
       "      <th>10705</th>\n",
       "      <td>256017</td>\n",
       "      <td>80</td>\n",
       "      <td>5148</td>\n",
       "      <td>ABARROTES</td>\n",
       "      <td>-46.47</td>\n",
       "      <td>-108.05</td>\n",
       "      <td>1</td>\n",
       "      <td>1</td>\n",
       "    </tr>\n",
       "    <tr>\n",
       "      <th>10706</th>\n",
       "      <td>255780</td>\n",
       "      <td>80</td>\n",
       "      <td>5148</td>\n",
       "      <td>ABARROTES</td>\n",
       "      <td>-46.52</td>\n",
       "      <td>-107.96</td>\n",
       "      <td>1</td>\n",
       "      <td>1</td>\n",
       "    </tr>\n",
       "    <tr>\n",
       "      <th>10707</th>\n",
       "      <td>254655</td>\n",
       "      <td>80</td>\n",
       "      <td>5148</td>\n",
       "      <td>ABARROTES</td>\n",
       "      <td>-46.54</td>\n",
       "      <td>-107.91</td>\n",
       "      <td>1</td>\n",
       "      <td>1</td>\n",
       "    </tr>\n",
       "    <tr>\n",
       "      <th>10708</th>\n",
       "      <td>254445</td>\n",
       "      <td>80</td>\n",
       "      <td>5148</td>\n",
       "      <td>ABARROTES</td>\n",
       "      <td>-46.54</td>\n",
       "      <td>-107.92</td>\n",
       "      <td>2</td>\n",
       "      <td>1</td>\n",
       "    </tr>\n",
       "    <tr>\n",
       "      <th>10709</th>\n",
       "      <td>254403</td>\n",
       "      <td>80</td>\n",
       "      <td>5148</td>\n",
       "      <td>ABARROTES</td>\n",
       "      <td>-46.54</td>\n",
       "      <td>-107.91</td>\n",
       "      <td>3</td>\n",
       "      <td>1</td>\n",
       "    </tr>\n",
       "  </tbody>\n",
       "</table>\n",
       "</div>"
      ],
      "text/plain": [
       "       customer_id  region_id  zone_id customer_type      Y       X  \\\n",
       "10705       256017         80     5148     ABARROTES -46.47 -108.05   \n",
       "10706       255780         80     5148     ABARROTES -46.52 -107.96   \n",
       "10707       254655         80     5148     ABARROTES -46.54 -107.91   \n",
       "10708       254445         80     5148     ABARROTES -46.54 -107.92   \n",
       "10709       254403         80     5148     ABARROTES -46.54 -107.91   \n",
       "\n",
       "       num_deliver_per_week  num_visit_per_week  \n",
       "10705                     1                   1  \n",
       "10706                     1                   1  \n",
       "10707                     1                   1  \n",
       "10708                     2                   1  \n",
       "10709                     3                   1  "
      ]
     },
     "execution_count": 14,
     "metadata": {},
     "output_type": "execute_result"
    }
   ],
   "source": [
    "df_clientes.head()"
   ]
  },
  {
   "cell_type": "code",
   "execution_count": 15,
   "metadata": {},
   "outputs": [
    {
     "name": "stdout",
     "output_type": "stream",
     "text": [
      "<class 'pandas.core.frame.DataFrame'>\n",
      "Index: 1569 entries, 10705 to 12273\n",
      "Data columns (total 8 columns):\n",
      " #   Column                Non-Null Count  Dtype  \n",
      "---  ------                --------------  -----  \n",
      " 0   customer_id           1569 non-null   int64  \n",
      " 1   region_id             1569 non-null   int64  \n",
      " 2   zone_id               1569 non-null   int64  \n",
      " 3   customer_type         1569 non-null   object \n",
      " 4   Y                     1569 non-null   float64\n",
      " 5   X                     1568 non-null   float64\n",
      " 6   num_deliver_per_week  1569 non-null   int64  \n",
      " 7   num_visit_per_week    1569 non-null   int64  \n",
      "dtypes: float64(2), int64(5), object(1)\n",
      "memory usage: 110.3+ KB\n"
     ]
    }
   ],
   "source": [
    "# se verifica el tipo de datos y la existencia de valores nulos -> existe un valor nulo para la variable 'X'\n",
    "df_clientes.info()"
   ]
  },
  {
   "cell_type": "code",
   "execution_count": 16,
   "metadata": {},
   "outputs": [
    {
     "data": {
      "text/plain": [
       "customer_id             0\n",
       "region_id               0\n",
       "zone_id                 0\n",
       "customer_type           0\n",
       "Y                       0\n",
       "X                       1\n",
       "num_deliver_per_week    0\n",
       "num_visit_per_week      0\n",
       "dtype: int64"
      ]
     },
     "execution_count": 16,
     "metadata": {},
     "output_type": "execute_result"
    }
   ],
   "source": [
    "# se corrobora la existencia de valores nulos\n",
    "df_clientes.isnull().sum()"
   ]
  },
  {
   "cell_type": "code",
   "execution_count": 17,
   "metadata": {},
   "outputs": [],
   "source": [
    "# se elimina el registor con X nulo\n",
    "df_clientes = df_clientes[df_clientes['X'].notna()]"
   ]
  },
  {
   "cell_type": "code",
   "execution_count": 18,
   "metadata": {},
   "outputs": [],
   "source": [
    "# se convierte la columna de tipo 'object' a 'category' para optimizar el uso de memoria\n",
    "df_clientes = df_clientes.apply(\n",
    "    lambda col: col.astype('category') if col.dtype == 'object' else col\n",
    ")\n",
    "\n",
    "# se tienen las variables region_id y zone_id como foreign_keys de una tabla que no se tiene, pero su naturaleza es categórica\n",
    "df_clientes['region_id'] = df_clientes['region_id'].astype('category')\n",
    "df_clientes['zone_id'] = df_clientes['zone_id'].astype('category')"
   ]
  },
  {
   "cell_type": "code",
   "execution_count": 19,
   "metadata": {},
   "outputs": [
    {
     "data": {
      "text/html": [
       "<div>\n",
       "<style scoped>\n",
       "    .dataframe tbody tr th:only-of-type {\n",
       "        vertical-align: middle;\n",
       "    }\n",
       "\n",
       "    .dataframe tbody tr th {\n",
       "        vertical-align: top;\n",
       "    }\n",
       "\n",
       "    .dataframe thead th {\n",
       "        text-align: right;\n",
       "    }\n",
       "</style>\n",
       "<table border=\"1\" class=\"dataframe\">\n",
       "  <thead>\n",
       "    <tr style=\"text-align: right;\">\n",
       "      <th></th>\n",
       "      <th>customer_id</th>\n",
       "      <th>Y</th>\n",
       "      <th>X</th>\n",
       "      <th>num_deliver_per_week</th>\n",
       "      <th>num_visit_per_week</th>\n",
       "    </tr>\n",
       "  </thead>\n",
       "  <tbody>\n",
       "    <tr>\n",
       "      <th>count</th>\n",
       "      <td>1568.00</td>\n",
       "      <td>1568.00</td>\n",
       "      <td>1568.00</td>\n",
       "      <td>1568.00</td>\n",
       "      <td>1568.00</td>\n",
       "    </tr>\n",
       "    <tr>\n",
       "      <th>mean</th>\n",
       "      <td>198091.43</td>\n",
       "      <td>-46.70</td>\n",
       "      <td>-107.74</td>\n",
       "      <td>3.11</td>\n",
       "      <td>1.00</td>\n",
       "    </tr>\n",
       "    <tr>\n",
       "      <th>std</th>\n",
       "      <td>66503.87</td>\n",
       "      <td>2.70</td>\n",
       "      <td>2.69</td>\n",
       "      <td>0.52</td>\n",
       "      <td>0.00</td>\n",
       "    </tr>\n",
       "    <tr>\n",
       "      <th>min</th>\n",
       "      <td>25734.00</td>\n",
       "      <td>-109.00</td>\n",
       "      <td>-108.62</td>\n",
       "      <td>1.00</td>\n",
       "      <td>1.00</td>\n",
       "    </tr>\n",
       "    <tr>\n",
       "      <th>25%</th>\n",
       "      <td>178803.75</td>\n",
       "      <td>-46.59</td>\n",
       "      <td>-107.93</td>\n",
       "      <td>3.00</td>\n",
       "      <td>1.00</td>\n",
       "    </tr>\n",
       "    <tr>\n",
       "      <th>50%</th>\n",
       "      <td>206721.00</td>\n",
       "      <td>-46.56</td>\n",
       "      <td>-107.89</td>\n",
       "      <td>3.00</td>\n",
       "      <td>1.00</td>\n",
       "    </tr>\n",
       "    <tr>\n",
       "      <th>75%</th>\n",
       "      <td>227709.75</td>\n",
       "      <td>-46.51</td>\n",
       "      <td>-107.86</td>\n",
       "      <td>3.00</td>\n",
       "      <td>1.00</td>\n",
       "    </tr>\n",
       "    <tr>\n",
       "      <th>max</th>\n",
       "      <td>2061063.00</td>\n",
       "      <td>-46.16</td>\n",
       "      <td>-46.44</td>\n",
       "      <td>6.00</td>\n",
       "      <td>1.00</td>\n",
       "    </tr>\n",
       "  </tbody>\n",
       "</table>\n",
       "</div>"
      ],
      "text/plain": [
       "       customer_id       Y       X  num_deliver_per_week  num_visit_per_week\n",
       "count      1568.00 1568.00 1568.00               1568.00             1568.00\n",
       "mean     198091.43  -46.70 -107.74                  3.11                1.00\n",
       "std       66503.87    2.70    2.69                  0.52                0.00\n",
       "min       25734.00 -109.00 -108.62                  1.00                1.00\n",
       "25%      178803.75  -46.59 -107.93                  3.00                1.00\n",
       "50%      206721.00  -46.56 -107.89                  3.00                1.00\n",
       "75%      227709.75  -46.51 -107.86                  3.00                1.00\n",
       "max     2061063.00  -46.16  -46.44                  6.00                1.00"
      ]
     },
     "execution_count": 19,
     "metadata": {},
     "output_type": "execute_result"
    }
   ],
   "source": [
    "# las variables X, Y, num_Deliver_per_week, num_visit_per_week deben serr normalizadas\n",
    "df_clientes.describe()"
   ]
  },
  {
   "cell_type": "code",
   "execution_count": 20,
   "metadata": {},
   "outputs": [
    {
     "data": {
      "text/html": [
       "<div>\n",
       "<style scoped>\n",
       "    .dataframe tbody tr th:only-of-type {\n",
       "        vertical-align: middle;\n",
       "    }\n",
       "\n",
       "    .dataframe tbody tr th {\n",
       "        vertical-align: top;\n",
       "    }\n",
       "\n",
       "    .dataframe thead th {\n",
       "        text-align: right;\n",
       "    }\n",
       "</style>\n",
       "<table border=\"1\" class=\"dataframe\">\n",
       "  <thead>\n",
       "    <tr style=\"text-align: right;\">\n",
       "      <th></th>\n",
       "      <th>customer_id</th>\n",
       "      <th>region_id</th>\n",
       "      <th>zone_id</th>\n",
       "      <th>customer_type</th>\n",
       "      <th>Y</th>\n",
       "      <th>X</th>\n",
       "      <th>num_deliver_per_week</th>\n",
       "      <th>num_visit_per_week</th>\n",
       "    </tr>\n",
       "  </thead>\n",
       "  <tbody>\n",
       "    <tr>\n",
       "      <th>10705</th>\n",
       "      <td>256017</td>\n",
       "      <td>80</td>\n",
       "      <td>5148</td>\n",
       "      <td>ABARROTES</td>\n",
       "      <td>-46.47</td>\n",
       "      <td>-108.05</td>\n",
       "      <td>1</td>\n",
       "      <td>1</td>\n",
       "    </tr>\n",
       "    <tr>\n",
       "      <th>10706</th>\n",
       "      <td>255780</td>\n",
       "      <td>80</td>\n",
       "      <td>5148</td>\n",
       "      <td>ABARROTES</td>\n",
       "      <td>-46.52</td>\n",
       "      <td>-107.96</td>\n",
       "      <td>1</td>\n",
       "      <td>1</td>\n",
       "    </tr>\n",
       "    <tr>\n",
       "      <th>10707</th>\n",
       "      <td>254655</td>\n",
       "      <td>80</td>\n",
       "      <td>5148</td>\n",
       "      <td>ABARROTES</td>\n",
       "      <td>-46.54</td>\n",
       "      <td>-107.91</td>\n",
       "      <td>1</td>\n",
       "      <td>1</td>\n",
       "    </tr>\n",
       "    <tr>\n",
       "      <th>10708</th>\n",
       "      <td>254445</td>\n",
       "      <td>80</td>\n",
       "      <td>5148</td>\n",
       "      <td>ABARROTES</td>\n",
       "      <td>-46.54</td>\n",
       "      <td>-107.92</td>\n",
       "      <td>2</td>\n",
       "      <td>1</td>\n",
       "    </tr>\n",
       "    <tr>\n",
       "      <th>10709</th>\n",
       "      <td>254403</td>\n",
       "      <td>80</td>\n",
       "      <td>5148</td>\n",
       "      <td>ABARROTES</td>\n",
       "      <td>-46.54</td>\n",
       "      <td>-107.91</td>\n",
       "      <td>3</td>\n",
       "      <td>1</td>\n",
       "    </tr>\n",
       "    <tr>\n",
       "      <th>...</th>\n",
       "      <td>...</td>\n",
       "      <td>...</td>\n",
       "      <td>...</td>\n",
       "      <td>...</td>\n",
       "      <td>...</td>\n",
       "      <td>...</td>\n",
       "      <td>...</td>\n",
       "      <td>...</td>\n",
       "    </tr>\n",
       "    <tr>\n",
       "      <th>12269</th>\n",
       "      <td>64218</td>\n",
       "      <td>80</td>\n",
       "      <td>5148</td>\n",
       "      <td>ABARROTES</td>\n",
       "      <td>-46.52</td>\n",
       "      <td>-107.88</td>\n",
       "      <td>3</td>\n",
       "      <td>1</td>\n",
       "    </tr>\n",
       "    <tr>\n",
       "      <th>12270</th>\n",
       "      <td>61353</td>\n",
       "      <td>80</td>\n",
       "      <td>5148</td>\n",
       "      <td>ABARROTES</td>\n",
       "      <td>-46.56</td>\n",
       "      <td>-107.86</td>\n",
       "      <td>3</td>\n",
       "      <td>1</td>\n",
       "    </tr>\n",
       "    <tr>\n",
       "      <th>12271</th>\n",
       "      <td>59700</td>\n",
       "      <td>80</td>\n",
       "      <td>5148</td>\n",
       "      <td>ABARROTES</td>\n",
       "      <td>-46.56</td>\n",
       "      <td>-107.86</td>\n",
       "      <td>3</td>\n",
       "      <td>1</td>\n",
       "    </tr>\n",
       "    <tr>\n",
       "      <th>12272</th>\n",
       "      <td>56871</td>\n",
       "      <td>80</td>\n",
       "      <td>5148</td>\n",
       "      <td>ABARROTES</td>\n",
       "      <td>-46.56</td>\n",
       "      <td>-107.92</td>\n",
       "      <td>4</td>\n",
       "      <td>1</td>\n",
       "    </tr>\n",
       "    <tr>\n",
       "      <th>12273</th>\n",
       "      <td>56868</td>\n",
       "      <td>80</td>\n",
       "      <td>5148</td>\n",
       "      <td>MAYORISTA</td>\n",
       "      <td>-46.56</td>\n",
       "      <td>-107.92</td>\n",
       "      <td>4</td>\n",
       "      <td>1</td>\n",
       "    </tr>\n",
       "  </tbody>\n",
       "</table>\n",
       "<p>1568 rows × 8 columns</p>\n",
       "</div>"
      ],
      "text/plain": [
       "       customer_id region_id zone_id customer_type      Y       X  \\\n",
       "10705       256017        80    5148     ABARROTES -46.47 -108.05   \n",
       "10706       255780        80    5148     ABARROTES -46.52 -107.96   \n",
       "10707       254655        80    5148     ABARROTES -46.54 -107.91   \n",
       "10708       254445        80    5148     ABARROTES -46.54 -107.92   \n",
       "10709       254403        80    5148     ABARROTES -46.54 -107.91   \n",
       "...            ...       ...     ...           ...    ...     ...   \n",
       "12269        64218        80    5148     ABARROTES -46.52 -107.88   \n",
       "12270        61353        80    5148     ABARROTES -46.56 -107.86   \n",
       "12271        59700        80    5148     ABARROTES -46.56 -107.86   \n",
       "12272        56871        80    5148     ABARROTES -46.56 -107.92   \n",
       "12273        56868        80    5148     MAYORISTA -46.56 -107.92   \n",
       "\n",
       "       num_deliver_per_week  num_visit_per_week  \n",
       "10705                     1                   1  \n",
       "10706                     1                   1  \n",
       "10707                     1                   1  \n",
       "10708                     2                   1  \n",
       "10709                     3                   1  \n",
       "...                     ...                 ...  \n",
       "12269                     3                   1  \n",
       "12270                     3                   1  \n",
       "12271                     3                   1  \n",
       "12272                     4                   1  \n",
       "12273                     4                   1  \n",
       "\n",
       "[1568 rows x 8 columns]"
      ]
     },
     "execution_count": 20,
     "metadata": {},
     "output_type": "execute_result"
    }
   ],
   "source": [
    "df_clientes"
   ]
  },
  {
   "cell_type": "code",
   "execution_count": 21,
   "metadata": {},
   "outputs": [
    {
     "name": "stdout",
     "output_type": "stream",
     "text": [
      "Se eliminan registros duplicados: 0\n",
      "Porcentaje: 0.00%\n"
     ]
    }
   ],
   "source": [
    "# duplicados\n",
    "df_clientes_without_duplicated = df_clientes.drop_duplicates(\n",
    "    subset=df_clientes.drop(columns=['customer_id']).columns\n",
    ")\n",
    "\n",
    "# Calcular y mostrar resultados\n",
    "num_duplicados = df_clientes.shape[0] - df_clientes_without_duplicated.shape[0]\n",
    "porcentaje_duplicados = 100 * num_duplicados / df_clientes.shape[0]\n",
    "\n",
    "print(f\"Se eliminan registros duplicados: {num_duplicados}\")\n",
    "print(f\"Porcentaje: {porcentaje_duplicados:.2f}%\")\n"
   ]
  },
  {
   "cell_type": "markdown",
   "metadata": {},
   "source": [
    "En el dataframe ``clientes`` la feature ``customer_type`` se convierte desde tipo object a category, este cambio mejora el rendimiento en el uso de memoria. Se tiene las variables `region_id`, `zone_id` que son foreign_key de una tabla no disponible, aunque por su naturaleza estos deben corresponder a datos categóricos.\n",
    "\n",
    "Para analizar la existencia de registros duplicados, se eliminó la clave primaria `customer_id` del conjunto de columnas, permitiendo así detectar registros que son idénticos en todos los demás atributos. Existen registros que solo varian levemente en los decimales de las coordenadas X e Y, apesar de esto no se puede asegurar que corresponde a un mismo cliente, por tanto no se encuentran registros duplicados. Se encuentra que existe un valor nulo en la feauture `X`, al ser poco significativo se elimna dicho registro.\n",
    "\n",
    "En cuanto a la utilidad de las features se menciona:\n",
    "- `region_id`, `zone_id`: se utilizan como parte de la información geografica requerida en el enunciado. (\"Ubicación geográfica\")\n",
    "- `customer_type`: aporta información útil sobre el tipo de cliente (\"Tipo de Cliente\")\n",
    "- `X`, `Y`: puede ser información útil para diferenciar clientes en diferentes localidades (\"Ubicación geográfica\") \n",
    "- `num_deliver_per_week`, `num_visit_per_week`: Ambas variables cuantifican la frecuencia de interacción con el cliente (entregas y visitas, respectivamente) y se consideran esenciales para el análisis. (\"Frecuencia de entregas y visitas\")\n"
   ]
  },
  {
   "cell_type": "code",
   "execution_count": 22,
   "metadata": {},
   "outputs": [
    {
     "data": {
      "text/plain": [
       "(1568, 8)"
      ]
     },
     "execution_count": 22,
     "metadata": {},
     "output_type": "execute_result"
    }
   ],
   "source": [
    "df_clientes_cleaned = df_clientes_without_duplicated.copy()\n",
    "df_clientes_cleaned.shape"
   ]
  },
  {
   "cell_type": "markdown",
   "metadata": {},
   "source": [
    "#### dataframe productos"
   ]
  },
  {
   "cell_type": "code",
   "execution_count": 23,
   "metadata": {},
   "outputs": [
    {
     "data": {
      "text/html": [
       "<div>\n",
       "<style scoped>\n",
       "    .dataframe tbody tr th:only-of-type {\n",
       "        vertical-align: middle;\n",
       "    }\n",
       "\n",
       "    .dataframe tbody tr th {\n",
       "        vertical-align: top;\n",
       "    }\n",
       "\n",
       "    .dataframe thead th {\n",
       "        text-align: right;\n",
       "    }\n",
       "</style>\n",
       "<table border=\"1\" class=\"dataframe\">\n",
       "  <thead>\n",
       "    <tr style=\"text-align: right;\">\n",
       "      <th></th>\n",
       "      <th>product_id</th>\n",
       "      <th>brand</th>\n",
       "      <th>category</th>\n",
       "      <th>sub_category</th>\n",
       "      <th>segment</th>\n",
       "      <th>package</th>\n",
       "      <th>size</th>\n",
       "    </tr>\n",
       "  </thead>\n",
       "  <tbody>\n",
       "    <tr>\n",
       "      <th>0</th>\n",
       "      <td>34092</td>\n",
       "      <td>Brand 31</td>\n",
       "      <td>BEBIDAS CARBONATADAS</td>\n",
       "      <td>GASEOSAS</td>\n",
       "      <td>PREMIUM</td>\n",
       "      <td>BOTELLA</td>\n",
       "      <td>0.66</td>\n",
       "    </tr>\n",
       "    <tr>\n",
       "      <th>1</th>\n",
       "      <td>57290</td>\n",
       "      <td>Brand 31</td>\n",
       "      <td>BEBIDAS CARBONATADAS</td>\n",
       "      <td>GASEOSAS</td>\n",
       "      <td>PREMIUM</td>\n",
       "      <td>BOTELLA</td>\n",
       "      <td>0.66</td>\n",
       "    </tr>\n",
       "    <tr>\n",
       "      <th>2</th>\n",
       "      <td>56714</td>\n",
       "      <td>Brand 31</td>\n",
       "      <td>BEBIDAS CARBONATADAS</td>\n",
       "      <td>GASEOSAS</td>\n",
       "      <td>PREMIUM</td>\n",
       "      <td>BOTELLA</td>\n",
       "      <td>0.66</td>\n",
       "    </tr>\n",
       "    <tr>\n",
       "      <th>3</th>\n",
       "      <td>296616</td>\n",
       "      <td>Brand 31</td>\n",
       "      <td>BEBIDAS CARBONATADAS</td>\n",
       "      <td>GASEOSAS</td>\n",
       "      <td>PREMIUM</td>\n",
       "      <td>BOTELLA</td>\n",
       "      <td>0.66</td>\n",
       "    </tr>\n",
       "    <tr>\n",
       "      <th>4</th>\n",
       "      <td>60854</td>\n",
       "      <td>Brand 31</td>\n",
       "      <td>BEBIDAS CARBONATADAS</td>\n",
       "      <td>GASEOSAS</td>\n",
       "      <td>PREMIUM</td>\n",
       "      <td>BOTELLA</td>\n",
       "      <td>0.25</td>\n",
       "    </tr>\n",
       "  </tbody>\n",
       "</table>\n",
       "</div>"
      ],
      "text/plain": [
       "   product_id     brand              category sub_category  segment  package  \\\n",
       "0       34092  Brand 31  BEBIDAS CARBONATADAS     GASEOSAS  PREMIUM  BOTELLA   \n",
       "1       57290  Brand 31  BEBIDAS CARBONATADAS     GASEOSAS  PREMIUM  BOTELLA   \n",
       "2       56714  Brand 31  BEBIDAS CARBONATADAS     GASEOSAS  PREMIUM  BOTELLA   \n",
       "3      296616  Brand 31  BEBIDAS CARBONATADAS     GASEOSAS  PREMIUM  BOTELLA   \n",
       "4       60854  Brand 31  BEBIDAS CARBONATADAS     GASEOSAS  PREMIUM  BOTELLA   \n",
       "\n",
       "   size  \n",
       "0  0.66  \n",
       "1  0.66  \n",
       "2  0.66  \n",
       "3  0.66  \n",
       "4  0.25  "
      ]
     },
     "execution_count": 23,
     "metadata": {},
     "output_type": "execute_result"
    }
   ],
   "source": [
    "df_productos.head()"
   ]
  },
  {
   "cell_type": "code",
   "execution_count": 24,
   "metadata": {},
   "outputs": [
    {
     "name": "stdout",
     "output_type": "stream",
     "text": [
      "<class 'pandas.core.frame.DataFrame'>\n",
      "RangeIndex: 971 entries, 0 to 970\n",
      "Data columns (total 7 columns):\n",
      " #   Column        Non-Null Count  Dtype  \n",
      "---  ------        --------------  -----  \n",
      " 0   product_id    971 non-null    int64  \n",
      " 1   brand         971 non-null    object \n",
      " 2   category      971 non-null    object \n",
      " 3   sub_category  971 non-null    object \n",
      " 4   segment       971 non-null    object \n",
      " 5   package       971 non-null    object \n",
      " 6   size          971 non-null    float64\n",
      "dtypes: float64(1), int64(1), object(5)\n",
      "memory usage: 53.2+ KB\n"
     ]
    }
   ],
   "source": [
    "# se verifica el tipo de datos y la existencia de valores nulos -> sin valores nulos\n",
    "df_productos.info()"
   ]
  },
  {
   "cell_type": "code",
   "execution_count": 25,
   "metadata": {},
   "outputs": [],
   "source": [
    "# se convierte la columna de tipo 'object' a 'category' para optimizar el uso de memoria\n",
    "df_productos = df_productos.apply(\n",
    "    lambda col: col.astype('category') if col.dtype == 'object' else col\n",
    ")"
   ]
  },
  {
   "cell_type": "code",
   "execution_count": 26,
   "metadata": {},
   "outputs": [
    {
     "data": {
      "text/html": [
       "<div>\n",
       "<style scoped>\n",
       "    .dataframe tbody tr th:only-of-type {\n",
       "        vertical-align: middle;\n",
       "    }\n",
       "\n",
       "    .dataframe tbody tr th {\n",
       "        vertical-align: top;\n",
       "    }\n",
       "\n",
       "    .dataframe thead th {\n",
       "        text-align: right;\n",
       "    }\n",
       "</style>\n",
       "<table border=\"1\" class=\"dataframe\">\n",
       "  <thead>\n",
       "    <tr style=\"text-align: right;\">\n",
       "      <th></th>\n",
       "      <th>product_id</th>\n",
       "      <th>size</th>\n",
       "    </tr>\n",
       "  </thead>\n",
       "  <tbody>\n",
       "    <tr>\n",
       "      <th>count</th>\n",
       "      <td>971.00</td>\n",
       "      <td>971.00</td>\n",
       "    </tr>\n",
       "    <tr>\n",
       "      <th>mean</th>\n",
       "      <td>88451.05</td>\n",
       "      <td>1.42</td>\n",
       "    </tr>\n",
       "    <tr>\n",
       "      <th>std</th>\n",
       "      <td>97083.93</td>\n",
       "      <td>3.90</td>\n",
       "    </tr>\n",
       "    <tr>\n",
       "      <th>min</th>\n",
       "      <td>8.00</td>\n",
       "      <td>0.12</td>\n",
       "    </tr>\n",
       "    <tr>\n",
       "      <th>25%</th>\n",
       "      <td>41557.00</td>\n",
       "      <td>0.31</td>\n",
       "    </tr>\n",
       "    <tr>\n",
       "      <th>50%</th>\n",
       "      <td>56142.00</td>\n",
       "      <td>0.50</td>\n",
       "    </tr>\n",
       "    <tr>\n",
       "      <th>75%</th>\n",
       "      <td>62222.00</td>\n",
       "      <td>1.00</td>\n",
       "    </tr>\n",
       "    <tr>\n",
       "      <th>max</th>\n",
       "      <td>297994.00</td>\n",
       "      <td>20.00</td>\n",
       "    </tr>\n",
       "  </tbody>\n",
       "</table>\n",
       "</div>"
      ],
      "text/plain": [
       "       product_id   size\n",
       "count      971.00 971.00\n",
       "mean     88451.05   1.42\n",
       "std      97083.93   3.90\n",
       "min          8.00   0.12\n",
       "25%      41557.00   0.31\n",
       "50%      56142.00   0.50\n",
       "75%      62222.00   1.00\n",
       "max     297994.00  20.00"
      ]
     },
     "execution_count": 26,
     "metadata": {},
     "output_type": "execute_result"
    }
   ],
   "source": [
    "df_productos.describe()"
   ]
  },
  {
   "cell_type": "code",
   "execution_count": 27,
   "metadata": {},
   "outputs": [
    {
     "data": {
      "text/html": [
       "<div>\n",
       "<style scoped>\n",
       "    .dataframe tbody tr th:only-of-type {\n",
       "        vertical-align: middle;\n",
       "    }\n",
       "\n",
       "    .dataframe tbody tr th {\n",
       "        vertical-align: top;\n",
       "    }\n",
       "\n",
       "    .dataframe thead th {\n",
       "        text-align: right;\n",
       "    }\n",
       "</style>\n",
       "<table border=\"1\" class=\"dataframe\">\n",
       "  <thead>\n",
       "    <tr style=\"text-align: right;\">\n",
       "      <th></th>\n",
       "      <th>product_id</th>\n",
       "      <th>brand</th>\n",
       "      <th>category</th>\n",
       "      <th>sub_category</th>\n",
       "      <th>segment</th>\n",
       "      <th>package</th>\n",
       "      <th>size</th>\n",
       "    </tr>\n",
       "  </thead>\n",
       "  <tbody>\n",
       "    <tr>\n",
       "      <th>0</th>\n",
       "      <td>34092</td>\n",
       "      <td>Brand 31</td>\n",
       "      <td>BEBIDAS CARBONATADAS</td>\n",
       "      <td>GASEOSAS</td>\n",
       "      <td>PREMIUM</td>\n",
       "      <td>BOTELLA</td>\n",
       "      <td>0.66</td>\n",
       "    </tr>\n",
       "    <tr>\n",
       "      <th>1</th>\n",
       "      <td>57290</td>\n",
       "      <td>Brand 31</td>\n",
       "      <td>BEBIDAS CARBONATADAS</td>\n",
       "      <td>GASEOSAS</td>\n",
       "      <td>PREMIUM</td>\n",
       "      <td>BOTELLA</td>\n",
       "      <td>0.66</td>\n",
       "    </tr>\n",
       "    <tr>\n",
       "      <th>2</th>\n",
       "      <td>56714</td>\n",
       "      <td>Brand 31</td>\n",
       "      <td>BEBIDAS CARBONATADAS</td>\n",
       "      <td>GASEOSAS</td>\n",
       "      <td>PREMIUM</td>\n",
       "      <td>BOTELLA</td>\n",
       "      <td>0.66</td>\n",
       "    </tr>\n",
       "    <tr>\n",
       "      <th>3</th>\n",
       "      <td>296616</td>\n",
       "      <td>Brand 31</td>\n",
       "      <td>BEBIDAS CARBONATADAS</td>\n",
       "      <td>GASEOSAS</td>\n",
       "      <td>PREMIUM</td>\n",
       "      <td>BOTELLA</td>\n",
       "      <td>0.66</td>\n",
       "    </tr>\n",
       "    <tr>\n",
       "      <th>4</th>\n",
       "      <td>60854</td>\n",
       "      <td>Brand 31</td>\n",
       "      <td>BEBIDAS CARBONATADAS</td>\n",
       "      <td>GASEOSAS</td>\n",
       "      <td>PREMIUM</td>\n",
       "      <td>BOTELLA</td>\n",
       "      <td>0.25</td>\n",
       "    </tr>\n",
       "  </tbody>\n",
       "</table>\n",
       "</div>"
      ],
      "text/plain": [
       "   product_id     brand              category sub_category  segment  package  \\\n",
       "0       34092  Brand 31  BEBIDAS CARBONATADAS     GASEOSAS  PREMIUM  BOTELLA   \n",
       "1       57290  Brand 31  BEBIDAS CARBONATADAS     GASEOSAS  PREMIUM  BOTELLA   \n",
       "2       56714  Brand 31  BEBIDAS CARBONATADAS     GASEOSAS  PREMIUM  BOTELLA   \n",
       "3      296616  Brand 31  BEBIDAS CARBONATADAS     GASEOSAS  PREMIUM  BOTELLA   \n",
       "4       60854  Brand 31  BEBIDAS CARBONATADAS     GASEOSAS  PREMIUM  BOTELLA   \n",
       "\n",
       "   size  \n",
       "0  0.66  \n",
       "1  0.66  \n",
       "2  0.66  \n",
       "3  0.66  \n",
       "4  0.25  "
      ]
     },
     "execution_count": 27,
     "metadata": {},
     "output_type": "execute_result"
    }
   ],
   "source": [
    "df_productos.head()"
   ]
  },
  {
   "cell_type": "code",
   "execution_count": 28,
   "metadata": {},
   "outputs": [
    {
     "name": "stdout",
     "output_type": "stream",
     "text": [
      "se eliminan registro duplicados: 776. porcentaje: 79.92%.\n",
      "cantidad de productos finales: 195\n"
     ]
    }
   ],
   "source": [
    "df_productos_without_duplicated = df_productos.drop_duplicates(subset=df_productos.drop(columns=['product_id']).columns)\n",
    "print(f\"se eliminan registro duplicados: {df_productos.shape[0] - df_productos_without_duplicated.shape[0]}. porcentaje: {(100 * (df_productos.shape[0] - df_productos_without_duplicated.shape[0]) / df_productos.shape[0]):.2f}%.\")\n",
    "print(f\"cantidad de productos finales: {df_productos_without_duplicated.shape[0]}\")"
   ]
  },
  {
   "cell_type": "code",
   "execution_count": 29,
   "metadata": {},
   "outputs": [
    {
     "data": {
      "text/plain": [
       "Index(['product_id', 'brand', 'category', 'sub_category', 'segment', 'package',\n",
       "       'size'],\n",
       "      dtype='object')"
      ]
     },
     "execution_count": 29,
     "metadata": {},
     "output_type": "execute_result"
    }
   ],
   "source": [
    "df_productos.columns"
   ]
  },
  {
   "cell_type": "markdown",
   "metadata": {},
   "source": [
    "En el dataframe ``productos`` la feature `brand`, `category`, `sub_category`, `segment`, `package` se convierte desde tipo object a category, este cambio mejora el rendimiento en el uso de memoria.\n",
    "\n",
    "Para analizar la existencia de registros duplicados, se eliminó la clave primaria `product_id` del conjunto de columnas, permitiendo así detectar registros que son idénticos en todos los demás atributos. Se encuentran 776 registros duplicados, lo que equivale a aproximadamente un 80% de los registros de productos. No se encuentras valores nulos.\n",
    "\n",
    "En cuanto a la utilidad de las features se menciona:\n",
    "- product_id: Es una clave primaria y se utiliza para enlazar este DataFrame con otros, como transacciones. Aunque muchos IDs están duplicados en términos de atributos, deben conservarse para mantener integridad referencial.\n",
    "\n",
    "- brand, category, sub_category, segment, package: Estas variables categóricas describen distintas dimensiones del producto. Son relevantes para análisis de mercado, segmentación, y modelado de comportamiento de compra.\n",
    "\n",
    "- size: Representa una medida física o de presentación del producto. Es útil para agrupar productos similares, ajustar precios o analizar logística de distribución\n"
   ]
  },
  {
   "cell_type": "code",
   "execution_count": 30,
   "metadata": {},
   "outputs": [
    {
     "data": {
      "text/plain": [
       "195"
      ]
     },
     "execution_count": 30,
     "metadata": {},
     "output_type": "execute_result"
    }
   ],
   "source": [
    "df_productos_cleaned = df_productos_without_duplicated.copy()\n",
    "len(df_productos_cleaned['product_id'].unique())"
   ]
  },
  {
   "cell_type": "code",
   "execution_count": 31,
   "metadata": {},
   "outputs": [
    {
     "name": "stdout",
     "output_type": "stream",
     "text": [
      "cantidad de productos unicos: 195\n"
     ]
    }
   ],
   "source": [
    "# mapear los ids de productos duplicados a un id único\n",
    "cols_without_id = df_productos.columns.difference(['product_id'])\n",
    "df_productos['_dedup_key'] = df_productos[cols_without_id.tolist()].apply(lambda row: tuple(row), axis=1)\n",
    "\n",
    "dedup_reference = (\n",
    "    df_productos.drop_duplicates(subset='_dedup_key')[['_dedup_key', 'product_id']]\n",
    "    .rename(columns={'product_id': 'kept_product_id'})\n",
    ")\n",
    "\n",
    "df_mapeo_ids = df_productos.merge(dedup_reference, on='_dedup_key', how='left')\n",
    "df_mapeo_ids = df_mapeo_ids[['product_id', 'kept_product_id']]\n",
    "print(f\"cantidad de productos unicos: {df_mapeo_ids['kept_product_id'].nunique()}\")\n",
    "# de los 971 productos originales, existen 195 productos diferentes"
   ]
  },
  {
   "cell_type": "markdown",
   "metadata": {},
   "source": [
    "Existe 195 productos identificados de forma unica en el dataset"
   ]
  },
  {
   "cell_type": "markdown",
   "metadata": {},
   "source": [
    "### Cruce de información"
   ]
  },
  {
   "cell_type": "code",
   "execution_count": 32,
   "metadata": {},
   "outputs": [
    {
     "data": {
      "text/plain": [
       "195"
      ]
     },
     "execution_count": 32,
     "metadata": {},
     "output_type": "execute_result"
    }
   ],
   "source": [
    "len(df_productos_cleaned['product_id'].unique()) # si bien hay 195 ids de productos diferentes\n",
    "# existen ids diferentes que hacen referencia al mismo producto. Por lo que la cantidad de productos realmente unicos es menor a 195"
   ]
  },
  {
   "cell_type": "code",
   "execution_count": 33,
   "metadata": {},
   "outputs": [
    {
     "data": {
      "text/plain": [
       "245        56\n",
       "494        60\n",
       "842       124\n",
       "480       174\n",
       "339       190\n",
       "        ...  \n",
       "969    297724\n",
       "778    297792\n",
       "140    297958\n",
       "189    297990\n",
       "142    297994\n",
       "Name: product_id, Length: 195, dtype: int64"
      ]
     },
     "execution_count": 33,
     "metadata": {},
     "output_type": "execute_result"
    }
   ],
   "source": [
    "#sort\n",
    "df_productos_cleaned['product_id'].sort_values(ascending=True)"
   ]
  },
  {
   "cell_type": "code",
   "execution_count": 34,
   "metadata": {},
   "outputs": [
    {
     "data": {
      "text/plain": [
       "114"
      ]
     },
     "execution_count": 34,
     "metadata": {},
     "output_type": "execute_result"
    }
   ],
   "source": [
    "df_transacciones_cleaned['product_id'].nunique() # la tabla de transacciones considera 114 product_id unicos"
   ]
  },
  {
   "cell_type": "code",
   "execution_count": 35,
   "metadata": {},
   "outputs": [
    {
     "data": {
      "text/html": [
       "<div>\n",
       "<style scoped>\n",
       "    .dataframe tbody tr th:only-of-type {\n",
       "        vertical-align: middle;\n",
       "    }\n",
       "\n",
       "    .dataframe tbody tr th {\n",
       "        vertical-align: top;\n",
       "    }\n",
       "\n",
       "    .dataframe thead th {\n",
       "        text-align: right;\n",
       "    }\n",
       "</style>\n",
       "<table border=\"1\" class=\"dataframe\">\n",
       "  <thead>\n",
       "    <tr style=\"text-align: right;\">\n",
       "      <th></th>\n",
       "      <th>product_id</th>\n",
       "      <th>kept_product_id</th>\n",
       "    </tr>\n",
       "  </thead>\n",
       "  <tbody>\n",
       "    <tr>\n",
       "      <th>0</th>\n",
       "      <td>34092</td>\n",
       "      <td>34092</td>\n",
       "    </tr>\n",
       "    <tr>\n",
       "      <th>1</th>\n",
       "      <td>57290</td>\n",
       "      <td>34092</td>\n",
       "    </tr>\n",
       "    <tr>\n",
       "      <th>2</th>\n",
       "      <td>56714</td>\n",
       "      <td>34092</td>\n",
       "    </tr>\n",
       "    <tr>\n",
       "      <th>3</th>\n",
       "      <td>296616</td>\n",
       "      <td>34092</td>\n",
       "    </tr>\n",
       "    <tr>\n",
       "      <th>4</th>\n",
       "      <td>60854</td>\n",
       "      <td>60854</td>\n",
       "    </tr>\n",
       "    <tr>\n",
       "      <th>...</th>\n",
       "      <td>...</td>\n",
       "      <td>...</td>\n",
       "    </tr>\n",
       "    <tr>\n",
       "      <th>966</th>\n",
       "      <td>33570</td>\n",
       "      <td>1310</td>\n",
       "    </tr>\n",
       "    <tr>\n",
       "      <th>967</th>\n",
       "      <td>297428</td>\n",
       "      <td>297428</td>\n",
       "    </tr>\n",
       "    <tr>\n",
       "      <th>968</th>\n",
       "      <td>51974</td>\n",
       "      <td>297428</td>\n",
       "    </tr>\n",
       "    <tr>\n",
       "      <th>969</th>\n",
       "      <td>297724</td>\n",
       "      <td>297724</td>\n",
       "    </tr>\n",
       "    <tr>\n",
       "      <th>970</th>\n",
       "      <td>62482</td>\n",
       "      <td>297724</td>\n",
       "    </tr>\n",
       "  </tbody>\n",
       "</table>\n",
       "<p>971 rows × 2 columns</p>\n",
       "</div>"
      ],
      "text/plain": [
       "     product_id  kept_product_id\n",
       "0         34092            34092\n",
       "1         57290            34092\n",
       "2         56714            34092\n",
       "3        296616            34092\n",
       "4         60854            60854\n",
       "..          ...              ...\n",
       "966       33570             1310\n",
       "967      297428           297428\n",
       "968       51974           297428\n",
       "969      297724           297724\n",
       "970       62482           297724\n",
       "\n",
       "[971 rows x 2 columns]"
      ]
     },
     "execution_count": 35,
     "metadata": {},
     "output_type": "execute_result"
    }
   ],
   "source": [
    "df_mapeo_ids"
   ]
  },
  {
   "cell_type": "code",
   "execution_count": 36,
   "metadata": {},
   "outputs": [
    {
     "name": "stdout",
     "output_type": "stream",
     "text": [
      "df_completed: (245705, 18), cantidad de productos unicos: 56\n"
     ]
    }
   ],
   "source": [
    "# merge productos\n",
    "df_merge_transacciones_productos = pd.merge(df_transacciones_cleaned, df_productos, on='product_id', how='left')\n",
    "# mapear los ids de productos de transacciones a un id único\n",
    "df_merge_transacciones_productos = df_merge_transacciones_productos.merge(df_mapeo_ids, left_on='product_id', right_on='product_id', how='left')\n",
    "# merge con los clientes\n",
    "df_merge_transacciones_productos_clientes = pd.merge(\n",
    "    df_merge_transacciones_productos,\n",
    "    df_clientes_cleaned,\n",
    "    left_on='customer_id',\n",
    "    right_on='customer_id',\n",
    "    how='left'\n",
    ")\n",
    "\n",
    "df_completed_true = df_merge_transacciones_productos_clientes.drop(columns=['_dedup_key'])\n",
    "\n",
    "#cambiar nombre variable\n",
    "df_completed_true = df_completed_true.drop(columns=['product_id']) # se elimina la columna original de prodcutos disponibles\n",
    "df_completed_true = df_completed_true.rename(columns={'kept_product_id': 'product_id'}) # se mapea el id de producto a un id único\n",
    "\n",
    "print(f\"df_completed: {df_completed_true.shape}, cantidad de productos unicos: {df_completed_true['product_id'].nunique()}\")"
   ]
  },
  {
   "cell_type": "markdown",
   "metadata": {},
   "source": [
    "Si bien existen 195 productos únicos en el dataframe `df_productos` desde los 971 productos registrados, existe un conjunto de 114 product_id en el dataframe `df_transacciones` que pertecenen dentor de los 971 productos posibles, pero no necesariamente estan mapeados dentro de los cantidad de ids unicso registrados (en los 195). Pueden existir por ejemplo dos IDs entre los 114 que correspondan a dos elementos entre los 971 productos, pero que correspondan a registro duplicados.\n",
    "\n",
    "Por lo anterior se realiza el cruce con la tabla `df_mapeo_ids` que para todos los elementos duplicados los lleva hacia un mismo ID. De esta forma, la cantidad total de productos registrados de forma unica  son 56."
   ]
  },
  {
   "cell_type": "code",
   "execution_count": 37,
   "metadata": {},
   "outputs": [
    {
     "data": {
      "text/html": [
       "<div>\n",
       "<style scoped>\n",
       "    .dataframe tbody tr th:only-of-type {\n",
       "        vertical-align: middle;\n",
       "    }\n",
       "\n",
       "    .dataframe tbody tr th {\n",
       "        vertical-align: top;\n",
       "    }\n",
       "\n",
       "    .dataframe thead th {\n",
       "        text-align: right;\n",
       "    }\n",
       "</style>\n",
       "<table border=\"1\" class=\"dataframe\">\n",
       "  <thead>\n",
       "    <tr style=\"text-align: right;\">\n",
       "      <th></th>\n",
       "      <th>customer_id</th>\n",
       "      <th>order_id</th>\n",
       "      <th>purchase_date</th>\n",
       "      <th>items</th>\n",
       "      <th>brand</th>\n",
       "      <th>category</th>\n",
       "      <th>sub_category</th>\n",
       "      <th>segment</th>\n",
       "      <th>package</th>\n",
       "      <th>size</th>\n",
       "      <th>product_id</th>\n",
       "      <th>region_id</th>\n",
       "      <th>zone_id</th>\n",
       "      <th>customer_type</th>\n",
       "      <th>Y</th>\n",
       "      <th>X</th>\n",
       "      <th>num_deliver_per_week</th>\n",
       "      <th>num_visit_per_week</th>\n",
       "    </tr>\n",
       "  </thead>\n",
       "  <tbody>\n",
       "    <tr>\n",
       "      <th>0</th>\n",
       "      <td>61899</td>\n",
       "      <td>411156</td>\n",
       "      <td>2024-04-27</td>\n",
       "      <td>3.67</td>\n",
       "      <td>Brand 34</td>\n",
       "      <td>BEBIDAS CARBONATADAS</td>\n",
       "      <td>GASEOSAS</td>\n",
       "      <td>MEDIUM</td>\n",
       "      <td>BOTELLA</td>\n",
       "      <td>1.00</td>\n",
       "      <td>297060</td>\n",
       "      <td>80</td>\n",
       "      <td>5148</td>\n",
       "      <td>MAYORISTA</td>\n",
       "      <td>-46.56</td>\n",
       "      <td>-107.90</td>\n",
       "      <td>3</td>\n",
       "      <td>1</td>\n",
       "    </tr>\n",
       "    <tr>\n",
       "      <th>1</th>\n",
       "      <td>154077</td>\n",
       "      <td>417911</td>\n",
       "      <td>2024-04-29</td>\n",
       "      <td>2.33</td>\n",
       "      <td>Brand 31</td>\n",
       "      <td>BEBIDAS CARBONATADAS</td>\n",
       "      <td>GASEOSAS</td>\n",
       "      <td>PREMIUM</td>\n",
       "      <td>LATA</td>\n",
       "      <td>0.31</td>\n",
       "      <td>296284</td>\n",
       "      <td>80</td>\n",
       "      <td>5148</td>\n",
       "      <td>ABARROTES</td>\n",
       "      <td>-46.54</td>\n",
       "      <td>-107.87</td>\n",
       "      <td>3</td>\n",
       "      <td>1</td>\n",
       "    </tr>\n",
       "    <tr>\n",
       "      <th>2</th>\n",
       "      <td>172056</td>\n",
       "      <td>407162</td>\n",
       "      <td>2024-04-26</td>\n",
       "      <td>1.00</td>\n",
       "      <td>Brand 34</td>\n",
       "      <td>BEBIDAS CARBONATADAS</td>\n",
       "      <td>GASEOSAS</td>\n",
       "      <td>MEDIUM</td>\n",
       "      <td>LATA</td>\n",
       "      <td>0.25</td>\n",
       "      <td>10652</td>\n",
       "      <td>80</td>\n",
       "      <td>5148</td>\n",
       "      <td>MAYORISTA</td>\n",
       "      <td>-46.56</td>\n",
       "      <td>-107.93</td>\n",
       "      <td>4</td>\n",
       "      <td>1</td>\n",
       "    </tr>\n",
       "    <tr>\n",
       "      <th>3</th>\n",
       "      <td>187101</td>\n",
       "      <td>411911</td>\n",
       "      <td>2024-04-27</td>\n",
       "      <td>17.00</td>\n",
       "      <td>Brand 3</td>\n",
       "      <td>BEBIDAS CARBONATADAS</td>\n",
       "      <td>GASEOSAS</td>\n",
       "      <td>MEDIUM</td>\n",
       "      <td>BOTELLA</td>\n",
       "      <td>1.00</td>\n",
       "      <td>297542</td>\n",
       "      <td>80</td>\n",
       "      <td>5148</td>\n",
       "      <td>RESTAURANT</td>\n",
       "      <td>-46.55</td>\n",
       "      <td>-107.92</td>\n",
       "      <td>3</td>\n",
       "      <td>1</td>\n",
       "    </tr>\n",
       "    <tr>\n",
       "      <th>4</th>\n",
       "      <td>187806</td>\n",
       "      <td>407286</td>\n",
       "      <td>2024-04-26</td>\n",
       "      <td>3.67</td>\n",
       "      <td>Brand 1</td>\n",
       "      <td>BEBIDAS CARBONATADAS</td>\n",
       "      <td>GASEOSAS</td>\n",
       "      <td>PREMIUM</td>\n",
       "      <td>BOTELLA</td>\n",
       "      <td>0.25</td>\n",
       "      <td>297958</td>\n",
       "      <td>80</td>\n",
       "      <td>5148</td>\n",
       "      <td>MAYORISTA</td>\n",
       "      <td>-46.56</td>\n",
       "      <td>-107.89</td>\n",
       "      <td>3</td>\n",
       "      <td>1</td>\n",
       "    </tr>\n",
       "    <tr>\n",
       "      <th>...</th>\n",
       "      <td>...</td>\n",
       "      <td>...</td>\n",
       "      <td>...</td>\n",
       "      <td>...</td>\n",
       "      <td>...</td>\n",
       "      <td>...</td>\n",
       "      <td>...</td>\n",
       "      <td>...</td>\n",
       "      <td>...</td>\n",
       "      <td>...</td>\n",
       "      <td>...</td>\n",
       "      <td>...</td>\n",
       "      <td>...</td>\n",
       "      <td>...</td>\n",
       "      <td>...</td>\n",
       "      <td>...</td>\n",
       "      <td>...</td>\n",
       "      <td>...</td>\n",
       "    </tr>\n",
       "    <tr>\n",
       "      <th>245700</th>\n",
       "      <td>207330</td>\n",
       "      <td>489755</td>\n",
       "      <td>2024-05-27</td>\n",
       "      <td>1.67</td>\n",
       "      <td>Brand 35</td>\n",
       "      <td>BEBIDAS CARBONATADAS</td>\n",
       "      <td>GASEOSAS</td>\n",
       "      <td>MEDIUM</td>\n",
       "      <td>BOTELLA</td>\n",
       "      <td>1.00</td>\n",
       "      <td>10638</td>\n",
       "      <td>80</td>\n",
       "      <td>5148</td>\n",
       "      <td>ABARROTES</td>\n",
       "      <td>-46.37</td>\n",
       "      <td>-107.92</td>\n",
       "      <td>3</td>\n",
       "      <td>1</td>\n",
       "    </tr>\n",
       "    <tr>\n",
       "      <th>245701</th>\n",
       "      <td>244971</td>\n",
       "      <td>488047</td>\n",
       "      <td>2024-05-25</td>\n",
       "      <td>3.67</td>\n",
       "      <td>Brand 1</td>\n",
       "      <td>BEBIDAS CARBONATADAS</td>\n",
       "      <td>GASEOSAS</td>\n",
       "      <td>PREMIUM</td>\n",
       "      <td>BOTELLA</td>\n",
       "      <td>0.25</td>\n",
       "      <td>297958</td>\n",
       "      <td>80</td>\n",
       "      <td>5148</td>\n",
       "      <td>CANAL FRIO</td>\n",
       "      <td>-46.55</td>\n",
       "      <td>-107.89</td>\n",
       "      <td>3</td>\n",
       "      <td>1</td>\n",
       "    </tr>\n",
       "    <tr>\n",
       "      <th>245702</th>\n",
       "      <td>186657</td>\n",
       "      <td>489529</td>\n",
       "      <td>2024-05-27</td>\n",
       "      <td>3.00</td>\n",
       "      <td>Brand 44</td>\n",
       "      <td>BEBIDAS CARBONATADAS</td>\n",
       "      <td>GASEOSAS</td>\n",
       "      <td>HIGH</td>\n",
       "      <td>LATA</td>\n",
       "      <td>0.25</td>\n",
       "      <td>297510</td>\n",
       "      <td>80</td>\n",
       "      <td>5148</td>\n",
       "      <td>ABARROTES</td>\n",
       "      <td>-46.59</td>\n",
       "      <td>-107.87</td>\n",
       "      <td>3</td>\n",
       "      <td>1</td>\n",
       "    </tr>\n",
       "    <tr>\n",
       "      <th>245703</th>\n",
       "      <td>204243</td>\n",
       "      <td>489725</td>\n",
       "      <td>2024-05-27</td>\n",
       "      <td>1.00</td>\n",
       "      <td>Brand 44</td>\n",
       "      <td>BEBIDAS CARBONATADAS</td>\n",
       "      <td>GASEOSAS</td>\n",
       "      <td>HIGH</td>\n",
       "      <td>BOTELLA</td>\n",
       "      <td>1.00</td>\n",
       "      <td>297076</td>\n",
       "      <td>80</td>\n",
       "      <td>5148</td>\n",
       "      <td>ABARROTES</td>\n",
       "      <td>-46.59</td>\n",
       "      <td>-107.91</td>\n",
       "      <td>3</td>\n",
       "      <td>1</td>\n",
       "    </tr>\n",
       "    <tr>\n",
       "      <th>245704</th>\n",
       "      <td>206748</td>\n",
       "      <td>489748</td>\n",
       "      <td>2024-05-27</td>\n",
       "      <td>3.67</td>\n",
       "      <td>Brand 7</td>\n",
       "      <td>BEBIDAS CARBONATADAS</td>\n",
       "      <td>GASEOSAS</td>\n",
       "      <td>PREMIUM</td>\n",
       "      <td>BOTELLA</td>\n",
       "      <td>0.66</td>\n",
       "      <td>42536</td>\n",
       "      <td>80</td>\n",
       "      <td>5148</td>\n",
       "      <td>MAYORISTA</td>\n",
       "      <td>-46.44</td>\n",
       "      <td>-107.48</td>\n",
       "      <td>3</td>\n",
       "      <td>1</td>\n",
       "    </tr>\n",
       "  </tbody>\n",
       "</table>\n",
       "<p>245705 rows × 18 columns</p>\n",
       "</div>"
      ],
      "text/plain": [
       "        customer_id  order_id purchase_date  items     brand  \\\n",
       "0             61899    411156    2024-04-27   3.67  Brand 34   \n",
       "1            154077    417911    2024-04-29   2.33  Brand 31   \n",
       "2            172056    407162    2024-04-26   1.00  Brand 34   \n",
       "3            187101    411911    2024-04-27  17.00   Brand 3   \n",
       "4            187806    407286    2024-04-26   3.67   Brand 1   \n",
       "...             ...       ...           ...    ...       ...   \n",
       "245700       207330    489755    2024-05-27   1.67  Brand 35   \n",
       "245701       244971    488047    2024-05-25   3.67   Brand 1   \n",
       "245702       186657    489529    2024-05-27   3.00  Brand 44   \n",
       "245703       204243    489725    2024-05-27   1.00  Brand 44   \n",
       "245704       206748    489748    2024-05-27   3.67   Brand 7   \n",
       "\n",
       "                    category sub_category  segment  package  size  product_id  \\\n",
       "0       BEBIDAS CARBONATADAS     GASEOSAS   MEDIUM  BOTELLA  1.00      297060   \n",
       "1       BEBIDAS CARBONATADAS     GASEOSAS  PREMIUM     LATA  0.31      296284   \n",
       "2       BEBIDAS CARBONATADAS     GASEOSAS   MEDIUM     LATA  0.25       10652   \n",
       "3       BEBIDAS CARBONATADAS     GASEOSAS   MEDIUM  BOTELLA  1.00      297542   \n",
       "4       BEBIDAS CARBONATADAS     GASEOSAS  PREMIUM  BOTELLA  0.25      297958   \n",
       "...                      ...          ...      ...      ...   ...         ...   \n",
       "245700  BEBIDAS CARBONATADAS     GASEOSAS   MEDIUM  BOTELLA  1.00       10638   \n",
       "245701  BEBIDAS CARBONATADAS     GASEOSAS  PREMIUM  BOTELLA  0.25      297958   \n",
       "245702  BEBIDAS CARBONATADAS     GASEOSAS     HIGH     LATA  0.25      297510   \n",
       "245703  BEBIDAS CARBONATADAS     GASEOSAS     HIGH  BOTELLA  1.00      297076   \n",
       "245704  BEBIDAS CARBONATADAS     GASEOSAS  PREMIUM  BOTELLA  0.66       42536   \n",
       "\n",
       "       region_id zone_id customer_type      Y       X  num_deliver_per_week  \\\n",
       "0             80    5148     MAYORISTA -46.56 -107.90                     3   \n",
       "1             80    5148     ABARROTES -46.54 -107.87                     3   \n",
       "2             80    5148     MAYORISTA -46.56 -107.93                     4   \n",
       "3             80    5148    RESTAURANT -46.55 -107.92                     3   \n",
       "4             80    5148     MAYORISTA -46.56 -107.89                     3   \n",
       "...          ...     ...           ...    ...     ...                   ...   \n",
       "245700        80    5148     ABARROTES -46.37 -107.92                     3   \n",
       "245701        80    5148    CANAL FRIO -46.55 -107.89                     3   \n",
       "245702        80    5148     ABARROTES -46.59 -107.87                     3   \n",
       "245703        80    5148     ABARROTES -46.59 -107.91                     3   \n",
       "245704        80    5148     MAYORISTA -46.44 -107.48                     3   \n",
       "\n",
       "        num_visit_per_week  \n",
       "0                        1  \n",
       "1                        1  \n",
       "2                        1  \n",
       "3                        1  \n",
       "4                        1  \n",
       "...                    ...  \n",
       "245700                   1  \n",
       "245701                   1  \n",
       "245702                   1  \n",
       "245703                   1  \n",
       "245704                   1  \n",
       "\n",
       "[245705 rows x 18 columns]"
      ]
     },
     "execution_count": 37,
     "metadata": {},
     "output_type": "execute_result"
    }
   ],
   "source": [
    "df_completed_true"
   ]
  },
  {
   "cell_type": "code",
   "execution_count": 38,
   "metadata": {},
   "outputs": [],
   "source": [
    "import matplotlib.pyplot as plt\n",
    "import pandas as pd\n",
    "\n",
    "# funcion auxiliar para graficar barplots variables numéricas\n",
    "def plot_int_columns_bar_charts(df, max_unique_values=4):\n",
    "    int_columns = df.select_dtypes(include=['int64', 'int32']).columns\n",
    "\n",
    "    for col in int_columns:\n",
    "        unique_vals = df[col].nunique()\n",
    "        if unique_vals <= max_unique_values:\n",
    "            plt.figure(figsize=(8, 4))\n",
    "            df[col].value_counts().sort_index().plot(kind='bar')\n",
    "            plt.title(f'Distribución de {col}')\n",
    "            plt.xlabel(col)\n",
    "            plt.ylabel('Frecuencia')\n",
    "            plt.tight_layout()\n",
    "            plt.show()"
   ]
  },
  {
   "cell_type": "code",
   "execution_count": 39,
   "metadata": {},
   "outputs": [
    {
     "data": {
      "image/png": "[encoded data removed]",
      "text/plain": [
       "<Figure size 800x500 with 1 Axes>"
      ]
     },
     "metadata": {},
     "output_type": "display_data"
    }
   ],
   "source": [
    "barplot(df_clientes['num_visit_per_week'])"
   ]
  },
  {
   "cell_type": "code",
   "execution_count": 40,
   "metadata": {},
   "outputs": [
    {
     "data": {
      "image/png": "[encoded data removed]",
      "text/plain": [
       "<Figure size 800x500 with 1 Axes>"
      ]
     },
     "metadata": {},
     "output_type": "display_data"
    },
    {
     "name": "stdout",
     "output_type": "stream",
     "text": [
      "customer_type\n",
      "ABARROTES                 1159\n",
      "MAYORISTA                  223\n",
      "CANAL FRIO                  85\n",
      "RESTAURANT                  60\n",
      "SUPERMERCADO                25\n",
      "MINIMARKET                   9\n",
      "TIENDA DE CONVENIENCIA       7\n",
      "Name: count, dtype: int64\n"
     ]
    }
   ],
   "source": [
    "barplot(df_clientes['customer_type'])\n",
    "print(df_clientes['customer_type'].value_counts(dropna=False))"
   ]
  },
  {
   "cell_type": "code",
   "execution_count": 41,
   "metadata": {},
   "outputs": [
    {
     "data": {
      "image/png": "[encoded data removed]",
      "text/plain": [
       "<Figure size 800x500 with 1 Axes>"
      ]
     },
     "metadata": {},
     "output_type": "display_data"
    },
    {
     "name": "stdout",
     "output_type": "stream",
     "text": [
      "num_deliver_per_week\n",
      "3    1239\n",
      "4     257\n",
      "2      39\n",
      "1      30\n",
      "5       2\n",
      "6       1\n",
      "Name: count, dtype: int64\n"
     ]
    }
   ],
   "source": [
    "barplot(df_clientes['num_deliver_per_week'])\n",
    "print(df_clientes['num_deliver_per_week'].value_counts(dropna=False))"
   ]
  },
  {
   "cell_type": "markdown",
   "metadata": {},
   "source": [
    "*Hint: ¿Qué forma debería tener la data para resolver un problema de aprendizaje supervisado?*\n",
    "\n",
    "Un problema de de aprendizaje supervisado implica relacionar un conjunto de features (M) con una etiqueta de predicción (y).\n",
    "\n",
    "Se debe recordar que la pregunta de investigación es \"Estime, cada semana, la probabilidad de compra de cada producto del portafolio para cada cliente activo\". Es decir, nuestro dataset debe tener registros que relaciones al cliente X con el producto Y en la semana Z para estimar una variable binaria y, que corresponde a si la tupla (X,Y,Z) es positiva (compra el producto) o cero (no compra el producto). Por tanto es necesario estructurar el dataset para que cada registro represente una predicción binaria sobre el conjutno de reglas (X, Y, Z).\n",
    "\n",
    "\n",
    "Adicionalmente para considerar la temporalidad de los datos, se debe considerar una ventana deslizante que permita predecir el comportamiento de compra en la semana Z, considerando las compras realizadas en semanas anteriores. Para esto se debe crear una nueva feature que represente la semana de compra y otra que represente la semana de predicción. El problema finalmente, corresponde a un clasificador binario que permita predecir la probabilidad de compra de cada producto en la semana Z, dado el historial de compras en semanas anteriores."
   ]
  },
  {
   "cell_type": "code",
   "execution_count": 42,
   "metadata": {},
   "outputs": [],
   "source": [
    "# from sklearn.pipeline import Pipeline\n",
    "# from sklearn.compose import ColumnTransformer\n",
    "# from sklearn.impute import SimpleImputer\n",
    "# from sklearn.preprocessing import MinMaxScaler, OneHotEncoder, StandardScaler\n",
    "# import pandas as pd\n",
    "\n",
    "# # Pipelines separados\n",
    "# num_pipeline = Pipeline([\n",
    "#     ('outlier', IQR(lambda_=1)),\n",
    "#     ('scaler', StandardScaler())\n",
    "# ])\n",
    "\n",
    "# cat_pipeline = Pipeline([\n",
    "#     ('encoder', OneHotEncoder(handle_unknown='ignore', sparse_output=False))\n",
    "# ])\n",
    "\n",
    "# # ColumnTransformer\n",
    "# preprocessor = ColumnTransformer([\n",
    "#     ('num', num_pipeline, ['size']),\n",
    "#     ('cat', cat_pipeline, ['brand', 'category', 'sub_category', 'segment', 'package']),\n",
    "# ], remainder='passthrough',\n",
    "#    verbose_feature_names_out=False\n",
    "# ).set_output(transform='pandas')\n",
    "\n",
    "# # Aplica el preprocesador\n",
    "# X = df_productos\n",
    "# df_productos_transformed = preprocessor.fit_transform(X)\n",
    "# df_productos_transformed.head()"
   ]
  },
  {
   "cell_type": "markdown",
   "metadata": {
    "jp-MarkdownHeadingCollapsed": true
   },
   "source": [
    "## 📌 EDA [0.5 puntos]\n",
    "\n",
    "<center>\n",
    "<img src=\"https://media3.giphy.com/media/v1.Y2lkPTc5MGI3NjExbHZ6aGdkd21tYTI3cW8zYWhyYW5wdGlyb2s3MmRzeTV0dzQ1NWlueiZlcD12MV9pbnRlcm5hbF9naWZfYnlfaWQmY3Q9Zw/3k1hJubTtOAKPKx4k3/giphy.gif\" width=\"400\" height=\"200\">"
   ]
  },
  {
   "cell_type": "markdown",
   "metadata": {},
   "source": [
    "En esta sección, se debe realizar un análisis exploratorio de los datos para comprender su estructura, detectar posibles problemas y obtener información relevante para el entrenamiento de los modelos. La idea es que puedan detectar **patrones en los datos** que les permitan resolver el problema con mayor facilidad.\n",
    "\n",
    "Se deben responder preguntas a partir de lo que puedan visualizar/obtener, por ejemplo:\n",
    "\n",
    "- Clientes y productos\n",
    "\n",
    "    - ¿Cuántos clientes únicos hay en el dataset?\n",
    "\n",
    "    - ¿Cuántos productos únicos se encuentran en los datos?\n",
    "\n",
    "- Periodo y frecuencia\n",
    "\n",
    "    - ¿De qué periodo es la información disponible?\n",
    "\n",
    "    - ¿Cuál es la frecuencia de los registros (diaria, semanal, mensual, etc.)?\n",
    "\n",
    "- Calidad de los datos\n",
    "\n",
    "    - ¿Existen valores nulos en el dataset? ¿Cuántos? ¿Cómo se pueden tratar?\n",
    "\n",
    "    - ¿Hay datos raros, como cantidades negativas o inconsistencias? Genere tests de validación para identificar estos problemas.\n",
    "\n",
    "- Patrones de compra\n",
    "\n",
    "    - ¿Cuántos productos compra en promedio cada cliente semana a semana?\n",
    "\n",
    "    - ¿Cuántas transacciones ha realizado cada cliente?\n",
    "\n",
    "    - ¿Cuál es el periodo de recompra promedio de cada SKU?"
   ]
  },
  {
   "cell_type": "markdown",
   "metadata": {
    "jp-MarkdownHeadingCollapsed": true
   },
   "source": [
    "### - Clientes y productos\n",
    "- ¿Cuántos clientes únicos hay en el dataset?\n",
    "    Se tienen 1568 clientes registrados, donde 1490 han tenido transacciones durante el periodo del 2024\n",
    "- ¿Cuántos productos únicos se encuentran en los datos? Hay 971 productos en total, pero solo se han comercializado 114. Como se menciono al estructuras el dataframe `df_completed` dentor de los 114 IDs registrados, realmente se hace referencia a 56 productos."
   ]
  },
  {
   "cell_type": "code",
   "execution_count": 43,
   "metadata": {},
   "outputs": [
    {
     "name": "stdout",
     "output_type": "stream",
     "text": [
      "Clientes disponibles en el dataframe df_clientes: 1568,      Clientes activos en df_transacciones: 1490\n"
     ]
    }
   ],
   "source": [
    "print(f'Clientes disponibles en el dataframe df_clientes: {df_clientes_cleaned.shape[0]},  \\\n",
    "    Clientes activos en df_transacciones: {df_completed_true[\"customer_id\"].nunique()}')"
   ]
  },
  {
   "cell_type": "code",
   "execution_count": 44,
   "metadata": {},
   "outputs": [
    {
     "name": "stdout",
     "output_type": "stream",
     "text": [
      "Productos registrados en df_productos: 195.       productos activos en df_transacciones: 56\n"
     ]
    }
   ],
   "source": [
    "print(f\"Productos registrados en df_productos: {df_productos_cleaned.shape[0]}. \\\n",
    "      productos activos en df_transacciones: {len(df_completed_true['product_id'].unique())}\")"
   ]
  },
  {
   "cell_type": "markdown",
   "metadata": {
    "jp-MarkdownHeadingCollapsed": true
   },
   "source": [
    "### - Periodo y frecuencia"
   ]
  },
  {
   "cell_type": "code",
   "execution_count": 45,
   "metadata": {},
   "outputs": [
    {
     "name": "stdout",
     "output_type": "stream",
     "text": [
      "Frecuencia temporal inferida: D\n",
      "Fecha de inicio: 2024-01-01 00:00:00\n",
      "Fecha de fin: 2024-12-31 00:00:00\n",
      "Cantidad de fechas únicas: 366\n"
     ]
    }
   ],
   "source": [
    "# se ordenan todas las fechas de transaccionees y se eliminan duplicados para capturar la frecuencia temporal\n",
    "sorted_dates = df_completed_true['purchase_date'].sort_values().drop_duplicates()\n",
    "frequency = pd.infer_freq(sorted_dates)\n",
    "\n",
    "# iniciar la frecuencia temporal y terminar de los registros\n",
    "start_date = sorted_dates.iloc[0]\n",
    "end_date = sorted_dates.iloc[-1]\n",
    "print(f\"Frecuencia temporal inferida: {frequency}\")\n",
    "print(f\"Fecha de inicio: {start_date}\")\n",
    "print(f\"Fecha de fin: {end_date}\")\n",
    "print(f\"Cantidad de fechas únicas: {len(sorted_dates)}\")"
   ]
  },
  {
   "cell_type": "markdown",
   "metadata": {},
   "source": [
    "\n",
    "- ¿De qué periodo es la información disponible? \n",
    "\n",
    "    Se tienen registros de todos los días del año 2024, desde 1ero de enero del 2024 hasta el 31 de dicienble del 2024 (366 días).\n",
    "\n",
    "- ¿Cuál es la frecuencia de los registros (diaria, semanal, mensual, etc.)?\n",
    "\n",
    "    Para capturar la frecuencia temporal se ordena por la feature ``purchase_date`` y se contabilizan los elementos unicos, eliminando los duplicados. El resultado son 366 registros en el año 2024, lo cual se confirma al usar la funcion infer_freq de que la frecuencia es diaria. Esto plantea la necesidad de aplicar una transformacion de datos dado que el objetivo del modelo es realizar predicciones semanales por cliente-producto. Se debe agrupar los datos por semana calendario para alinear con el horizonte de predicciones del modelo."
   ]
  },
  {
   "cell_type": "markdown",
   "metadata": {
    "jp-MarkdownHeadingCollapsed": true
   },
   "source": [
    "### - Calidad de los datos"
   ]
  },
  {
   "cell_type": "code",
   "execution_count": 46,
   "metadata": {},
   "outputs": [
    {
     "data": {
      "text/html": [
       "<div>\n",
       "<style scoped>\n",
       "    .dataframe tbody tr th:only-of-type {\n",
       "        vertical-align: middle;\n",
       "    }\n",
       "\n",
       "    .dataframe tbody tr th {\n",
       "        vertical-align: top;\n",
       "    }\n",
       "\n",
       "    .dataframe thead th {\n",
       "        text-align: right;\n",
       "    }\n",
       "</style>\n",
       "<table border=\"1\" class=\"dataframe\">\n",
       "  <thead>\n",
       "    <tr style=\"text-align: right;\">\n",
       "      <th></th>\n",
       "      <th>customer_id</th>\n",
       "      <th>order_id</th>\n",
       "      <th>purchase_date</th>\n",
       "      <th>items</th>\n",
       "      <th>size</th>\n",
       "      <th>product_id</th>\n",
       "      <th>Y</th>\n",
       "      <th>X</th>\n",
       "      <th>num_deliver_per_week</th>\n",
       "      <th>num_visit_per_week</th>\n",
       "    </tr>\n",
       "  </thead>\n",
       "  <tbody>\n",
       "    <tr>\n",
       "      <th>count</th>\n",
       "      <td>245705.00</td>\n",
       "      <td>245705.00</td>\n",
       "      <td>245705</td>\n",
       "      <td>245705.00</td>\n",
       "      <td>245705.00</td>\n",
       "      <td>245705.00</td>\n",
       "      <td>245705.00</td>\n",
       "      <td>245705.00</td>\n",
       "      <td>245705.00</td>\n",
       "      <td>245705.00</td>\n",
       "    </tr>\n",
       "    <tr>\n",
       "      <th>mean</th>\n",
       "      <td>190346.44</td>\n",
       "      <td>641287.63</td>\n",
       "      <td>2024-07-11 18:35:18.374473472</td>\n",
       "      <td>4.66</td>\n",
       "      <td>0.68</td>\n",
       "      <td>169185.85</td>\n",
       "      <td>-46.64</td>\n",
       "      <td>-107.78</td>\n",
       "      <td>3.16</td>\n",
       "      <td>1.00</td>\n",
       "    </tr>\n",
       "    <tr>\n",
       "      <th>min</th>\n",
       "      <td>25734.00</td>\n",
       "      <td>2545.00</td>\n",
       "      <td>2024-01-01 00:00:00</td>\n",
       "      <td>0.00</td>\n",
       "      <td>0.25</td>\n",
       "      <td>60.00</td>\n",
       "      <td>-109.00</td>\n",
       "      <td>-108.62</td>\n",
       "      <td>2.00</td>\n",
       "      <td>1.00</td>\n",
       "    </tr>\n",
       "    <tr>\n",
       "      <th>25%</th>\n",
       "      <td>175815.00</td>\n",
       "      <td>312372.00</td>\n",
       "      <td>2024-03-26 00:00:00</td>\n",
       "      <td>1.00</td>\n",
       "      <td>0.25</td>\n",
       "      <td>32646.00</td>\n",
       "      <td>-46.58</td>\n",
       "      <td>-107.93</td>\n",
       "      <td>3.00</td>\n",
       "      <td>1.00</td>\n",
       "    </tr>\n",
       "    <tr>\n",
       "      <th>50%</th>\n",
       "      <td>203574.00</td>\n",
       "      <td>655535.00</td>\n",
       "      <td>2024-07-24 00:00:00</td>\n",
       "      <td>2.33</td>\n",
       "      <td>0.66</td>\n",
       "      <td>296284.00</td>\n",
       "      <td>-46.55</td>\n",
       "      <td>-107.89</td>\n",
       "      <td>3.00</td>\n",
       "      <td>1.00</td>\n",
       "    </tr>\n",
       "    <tr>\n",
       "      <th>75%</th>\n",
       "      <td>212745.00</td>\n",
       "      <td>970119.00</td>\n",
       "      <td>2024-10-24 00:00:00</td>\n",
       "      <td>3.67</td>\n",
       "      <td>1.00</td>\n",
       "      <td>297076.00</td>\n",
       "      <td>-46.49</td>\n",
       "      <td>-107.86</td>\n",
       "      <td>3.00</td>\n",
       "      <td>1.00</td>\n",
       "    </tr>\n",
       "    <tr>\n",
       "      <th>max</th>\n",
       "      <td>2061063.00</td>\n",
       "      <td>1248450.00</td>\n",
       "      <td>2024-12-31 00:00:00</td>\n",
       "      <td>1000.33</td>\n",
       "      <td>20.00</td>\n",
       "      <td>297994.00</td>\n",
       "      <td>-46.31</td>\n",
       "      <td>-46.44</td>\n",
       "      <td>6.00</td>\n",
       "      <td>1.00</td>\n",
       "    </tr>\n",
       "    <tr>\n",
       "      <th>std</th>\n",
       "      <td>62488.25</td>\n",
       "      <td>370741.11</td>\n",
       "      <td>NaN</td>\n",
       "      <td>11.93</td>\n",
       "      <td>1.08</td>\n",
       "      <td>137268.04</td>\n",
       "      <td>2.04</td>\n",
       "      <td>2.04</td>\n",
       "      <td>0.39</td>\n",
       "      <td>0.00</td>\n",
       "    </tr>\n",
       "  </tbody>\n",
       "</table>\n",
       "</div>"
      ],
      "text/plain": [
       "       customer_id   order_id                  purchase_date     items  \\\n",
       "count    245705.00  245705.00                         245705 245705.00   \n",
       "mean     190346.44  641287.63  2024-07-11 18:35:18.374473472      4.66   \n",
       "min       25734.00    2545.00            2024-01-01 00:00:00      0.00   \n",
       "25%      175815.00  312372.00            2024-03-26 00:00:00      1.00   \n",
       "50%      203574.00  655535.00            2024-07-24 00:00:00      2.33   \n",
       "75%      212745.00  970119.00            2024-10-24 00:00:00      3.67   \n",
       "max     2061063.00 1248450.00            2024-12-31 00:00:00   1000.33   \n",
       "std       62488.25  370741.11                            NaN     11.93   \n",
       "\n",
       "           size  product_id         Y         X  num_deliver_per_week  \\\n",
       "count 245705.00   245705.00 245705.00 245705.00             245705.00   \n",
       "mean       0.68   169185.85    -46.64   -107.78                  3.16   \n",
       "min        0.25       60.00   -109.00   -108.62                  2.00   \n",
       "25%        0.25    32646.00    -46.58   -107.93                  3.00   \n",
       "50%        0.66   296284.00    -46.55   -107.89                  3.00   \n",
       "75%        1.00   297076.00    -46.49   -107.86                  3.00   \n",
       "max       20.00   297994.00    -46.31    -46.44                  6.00   \n",
       "std        1.08   137268.04      2.04      2.04                  0.39   \n",
       "\n",
       "       num_visit_per_week  \n",
       "count           245705.00  \n",
       "mean                 1.00  \n",
       "min                  1.00  \n",
       "25%                  1.00  \n",
       "50%                  1.00  \n",
       "75%                  1.00  \n",
       "max                  1.00  \n",
       "std                  0.00  "
      ]
     },
     "execution_count": 46,
     "metadata": {},
     "output_type": "execute_result"
    }
   ],
   "source": [
    "df_completed_true.describe()"
   ]
  },
  {
   "cell_type": "code",
   "execution_count": 47,
   "metadata": {},
   "outputs": [
    {
     "name": "stdout",
     "output_type": "stream",
     "text": [
      "Porcentaje de devoluciones: 3.29%, devolucion: 8346\n"
     ]
    }
   ],
   "source": [
    "dir_shopping = {\n",
    "    \"devolucion\": (df_transacciones_without_duplicated['items'] < 0).sum(),\n",
    "    \"compra\": (df_transacciones_without_duplicated['items'] >= 0).sum()\n",
    "}\n",
    "\n",
    "porcentaje_devoluciones = round(\n",
    "    dir_shopping['devolucion'] / (dir_shopping['compra'] + dir_shopping['devolucion']) * 100,\n",
    "    2\n",
    ")\n",
    "print(f\"Porcentaje de devoluciones: {porcentaje_devoluciones}%, devolucion: {dir_shopping['devolucion']}\")"
   ]
  },
  {
   "cell_type": "code",
   "execution_count": 48,
   "metadata": {},
   "outputs": [
    {
     "data": {
      "image/png": "[encoded data removed]",
      "text/plain": [
       "<Figure size 1500x400 with 1 Axes>"
      ]
     },
     "metadata": {},
     "output_type": "display_data"
    }
   ],
   "source": [
    "bboxplot(df_completed_true['items'], title='Distribución de items', use_deciles=False, k=5)"
   ]
  },
  {
   "cell_type": "code",
   "execution_count": 49,
   "metadata": {},
   "outputs": [
    {
     "data": {
      "image/png": "[encoded data removed]",
      "text/plain": [
       "<Figure size 1500x400 with 1 Axes>"
      ]
     },
     "metadata": {},
     "output_type": "display_data"
    }
   ],
   "source": [
    "bboxplot(df_completed_true['X'], title='Distribución de X', use_deciles=False, k=5)"
   ]
  },
  {
   "cell_type": "code",
   "execution_count": 50,
   "metadata": {},
   "outputs": [
    {
     "data": {
      "image/png": "[encoded data removed]",
      "text/plain": [
       "<Figure size 1500x400 with 1 Axes>"
      ]
     },
     "metadata": {},
     "output_type": "display_data"
    }
   ],
   "source": [
    "bboxplot(df_completed_true['Y'], title='Distribución de X', use_deciles=False, k=5)"
   ]
  },
  {
   "cell_type": "markdown",
   "metadata": {},
   "source": [
    "\n",
    "- ¿Existen valores nulos en el dataset? ¿Cuántos? ¿Cómo se pueden tratar? \n",
    "\n",
    "    Durante el análisis exploratorio, se utilizó `df.describe()` junto con `df.isnull().sum()` para evaluar la presencia de valores nulos. Se identifica un único valor nulo en la feature X (coordenada de localización del cliente) en el dataFrame `df_clientes.`\n",
    "\n",
    "\n",
    "- ¿Hay datos raros, como cantidades negativas o inconsistencias? Genere tests de validación para identificar estos problemas.\n",
    "\n",
    "    Si en el dataset `df_transacciones` la feauture `items` que representa \"cantidad de unidades de venta para el producto product_id\" toma valores negativos en el 3.29% de las transacciones. Este signo negativo indica transacciones anuladas o devoluciones, como productos no entregados, pedidos cancelados o errores en el proceso logístico. En particular, 8346 registros están etiquetados como “producto no entregado”.\n",
    "    \n",
    "    También se destacan la alta presencia de valores atípicos (outliers) como: X, Y, Items en `df_completed_true`, estos valores deben ser tratados mediante eliminacion u imputación para no sesgar el rendimiento del modelo. Por último desde `df.describe()` es notorio que las features numéricas se encuentran en diferentes escalas, por lo que es necesario aplicar alguna técnica de normalización, lo cual dependerá de la distribución de los datos.\n"
   ]
  },
  {
   "cell_type": "markdown",
   "metadata": {
    "jp-MarkdownHeadingCollapsed": true
   },
   "source": [
    "### - Patrones de compra"
   ]
  },
  {
   "cell_type": "markdown",
   "metadata": {},
   "source": [
    "Se analiza el comportamiento de los clientes en función de sus transacciones realizadas considerando los productos comprados respecto a la semana de compra. Esto permite generar los ejemplos de compra que se utilizaran como clases postivas, a la vez que se generan ejemplos negativos para el modelo."
   ]
  },
  {
   "cell_type": "code",
   "execution_count": 51,
   "metadata": {},
   "outputs": [
    {
     "data": {
      "text/html": [
       "<div>\n",
       "<style scoped>\n",
       "    .dataframe tbody tr th:only-of-type {\n",
       "        vertical-align: middle;\n",
       "    }\n",
       "\n",
       "    .dataframe tbody tr th {\n",
       "        vertical-align: top;\n",
       "    }\n",
       "\n",
       "    .dataframe thead th {\n",
       "        text-align: right;\n",
       "    }\n",
       "</style>\n",
       "<table border=\"1\" class=\"dataframe\">\n",
       "  <thead>\n",
       "    <tr style=\"text-align: right;\">\n",
       "      <th></th>\n",
       "      <th>customer_id</th>\n",
       "      <th>product_id</th>\n",
       "      <th>week</th>\n",
       "      <th>items</th>\n",
       "    </tr>\n",
       "  </thead>\n",
       "  <tbody>\n",
       "    <tr>\n",
       "      <th>0</th>\n",
       "      <td>25734</td>\n",
       "      <td>124</td>\n",
       "      <td>4</td>\n",
       "      <td>1.67</td>\n",
       "    </tr>\n",
       "    <tr>\n",
       "      <th>1</th>\n",
       "      <td>25734</td>\n",
       "      <td>1462</td>\n",
       "      <td>1</td>\n",
       "      <td>5.33</td>\n",
       "    </tr>\n",
       "    <tr>\n",
       "      <th>2</th>\n",
       "      <td>25734</td>\n",
       "      <td>1462</td>\n",
       "      <td>2</td>\n",
       "      <td>7.00</td>\n",
       "    </tr>\n",
       "    <tr>\n",
       "      <th>3</th>\n",
       "      <td>25734</td>\n",
       "      <td>1462</td>\n",
       "      <td>4</td>\n",
       "      <td>14.67</td>\n",
       "    </tr>\n",
       "    <tr>\n",
       "      <th>4</th>\n",
       "      <td>25734</td>\n",
       "      <td>1462</td>\n",
       "      <td>5</td>\n",
       "      <td>3.67</td>\n",
       "    </tr>\n",
       "  </tbody>\n",
       "</table>\n",
       "</div>"
      ],
      "text/plain": [
       "   customer_id  product_id  week  items\n",
       "0        25734         124     4   1.67\n",
       "1        25734        1462     1   5.33\n",
       "2        25734        1462     2   7.00\n",
       "3        25734        1462     4  14.67\n",
       "4        25734        1462     5   3.67"
      ]
     },
     "execution_count": 51,
     "metadata": {},
     "output_type": "execute_result"
    }
   ],
   "source": [
    "weekly_items_per_client = df_completed_true.groupby(['customer_id', 'product_id', 'purchase_date'])['items'].sum().reset_index()\n",
    "weekly_items_per_client['week'] = weekly_items_per_client['purchase_date'].dt.isocalendar().week\n",
    "weekly_items_per_client = weekly_items_per_client.groupby(['customer_id', 'product_id', 'week'])['items'].sum().reset_index() # tiene las compras por semana de cada cliente\n",
    "mean_weekly_items = weekly_items_per_client.groupby('customer_id')['items'].mean().reset_index()\n",
    "weekly_items_per_client.head()"
   ]
  },
  {
   "cell_type": "code",
   "execution_count": 52,
   "metadata": {},
   "outputs": [
    {
     "data": {
      "image/png": "[encoded data removed]",
      "text/plain": [
       "<Figure size 1500x500 with 1 Axes>"
      ]
     },
     "metadata": {},
     "output_type": "display_data"
    }
   ],
   "source": [
    "# grafica\n",
    "global_mean = mean_weekly_items['items'].mean()\n",
    "plt.figure(figsize=(15, 5))\n",
    "sns.histplot(mean_weekly_items['items'], bins=200, kde=True)\n",
    "plt.title('Distribución de compras semanales promedio por cliente. global mean: {:.2f}'.format(global_mean))\n",
    "plt.xlabel('Promedio de compras semanales por cliente')\n",
    "plt.ylabel('Frecuencia')\n",
    "plt.grid(True, linestyle='--', alpha=0.5)\n",
    "plt.show()"
   ]
  },
  {
   "cell_type": "code",
   "execution_count": 53,
   "metadata": {},
   "outputs": [],
   "source": [
    "weekly_items_per_client['target'] = 1"
   ]
  },
  {
   "cell_type": "markdown",
   "metadata": {},
   "source": [
    "Se genera data sintética que representa patrones de no compra de productos, considerando la cantidad de productos comprados por cliente en la semana de compra. Este bloque de código genera ejemplos negativos (sin compra) por semana y cliente, tomando solo productos que el cliente sí compró en semanas anteriores pero no compró en la semana actual. Así se construyen observaciones con items = 0 y target = 0, que se agregan a las compras reales (target = 1) "
   ]
  },
  {
   "cell_type": "markdown",
   "metadata": {},
   "source": [
    "#### Data Sintética"
   ]
  },
  {
   "cell_type": "code",
   "execution_count": 54,
   "metadata": {},
   "outputs": [],
   "source": [
    "synthetic_data = []\n",
    "semanas = sorted(weekly_items_per_client['week'].unique())\n",
    "\n",
    "# Procesamos semana por semana\n",
    "for w in semanas:\n",
    "    df_semana = weekly_items_per_client[weekly_items_per_client['week'] == w]\n",
    "    clientes_en_semana = df_semana['customer_id'].unique()\n",
    "    \n",
    "    for cid in clientes_en_semana:\n",
    "        productos_historicos = weekly_items_per_client[\n",
    "            (weekly_items_per_client['customer_id'] == cid) &\n",
    "            (weekly_items_per_client['week'] < w)\n",
    "        ]['product_id'].unique()\n",
    "        \n",
    "        if len(productos_historicos) == 0:\n",
    "            continue  # saltar si no hay historial\n",
    "        \n",
    "        productos_actuales = df_semana[df_semana['customer_id'] == cid]['product_id'].unique()\n",
    "        productos_no_comprados = set(productos_historicos) - set(productos_actuales)\n",
    "        \n",
    "        for pid in productos_no_comprados:\n",
    "            synthetic_data.append({\n",
    "                'customer_id': cid,\n",
    "                'product_id': pid,\n",
    "                'week': w,\n",
    "                'items': 0,\n",
    "                'target': 0,\n",
    "                'purchase_date': pd.to_datetime(\"2024-01-01\") + pd.to_timedelta((w - 1) * 7, unit='D')\n",
    "            })\n",
    "\n",
    "# remove week\n",
    "df_synthetic = pd.DataFrame(synthetic_data)\n",
    "df_synthetic = df_synthetic.drop(columns=['week'])"
   ]
  },
  {
   "cell_type": "code",
   "execution_count": 55,
   "metadata": {},
   "outputs": [],
   "source": [
    "# combinar los foreign key como se hizo con df_completed_true\n",
    "df_completed_false = pd.merge(\n",
    "    df_synthetic,\n",
    "    df_productos_cleaned,\n",
    "    left_on='product_id',\n",
    "    right_on='product_id',\n",
    "    how='left'\n",
    ")\n",
    "df_completed_false = df_completed_false.merge(\n",
    "    df_clientes_cleaned,\n",
    "    left_on='customer_id',\n",
    "    right_on='customer_id',\n",
    "    how='left')"
   ]
  },
  {
   "cell_type": "code",
   "execution_count": 56,
   "metadata": {},
   "outputs": [
    {
     "name": "stdout",
     "output_type": "stream",
     "text": [
      "<class 'pandas.core.frame.DataFrame'>\n",
      "RangeIndex: 245705 entries, 0 to 245704\n",
      "Data columns (total 18 columns):\n",
      " #   Column                Non-Null Count   Dtype         \n",
      "---  ------                --------------   -----         \n",
      " 0   customer_id           245705 non-null  int64         \n",
      " 1   order_id              245705 non-null  int64         \n",
      " 2   purchase_date         245705 non-null  datetime64[ns]\n",
      " 3   items                 245705 non-null  float64       \n",
      " 4   brand                 245705 non-null  category      \n",
      " 5   category              245705 non-null  category      \n",
      " 6   sub_category          245705 non-null  category      \n",
      " 7   segment               245705 non-null  category      \n",
      " 8   package               245705 non-null  category      \n",
      " 9   size                  245705 non-null  float64       \n",
      " 10  product_id            245705 non-null  int64         \n",
      " 11  region_id             245705 non-null  category      \n",
      " 12  zone_id               245705 non-null  category      \n",
      " 13  customer_type         245705 non-null  category      \n",
      " 14  Y                     245705 non-null  float64       \n",
      " 15  X                     245705 non-null  float64       \n",
      " 16  num_deliver_per_week  245705 non-null  int64         \n",
      " 17  num_visit_per_week    245705 non-null  int64         \n",
      "dtypes: category(8), datetime64[ns](1), float64(4), int64(5)\n",
      "memory usage: 20.6 MB\n"
     ]
    }
   ],
   "source": [
    "df_completed_true.info()"
   ]
  },
  {
   "cell_type": "code",
   "execution_count": 57,
   "metadata": {},
   "outputs": [
    {
     "name": "stdout",
     "output_type": "stream",
     "text": [
      "<class 'pandas.core.frame.DataFrame'>\n",
      "RangeIndex: 340645 entries, 0 to 340644\n",
      "Data columns (total 18 columns):\n",
      " #   Column                Non-Null Count   Dtype         \n",
      "---  ------                --------------   -----         \n",
      " 0   customer_id           340645 non-null  int64         \n",
      " 1   product_id            340645 non-null  int64         \n",
      " 2   items                 340645 non-null  int64         \n",
      " 3   target                340645 non-null  int64         \n",
      " 4   purchase_date         340645 non-null  datetime64[ns]\n",
      " 5   brand                 340645 non-null  category      \n",
      " 6   category              340645 non-null  category      \n",
      " 7   sub_category          340645 non-null  category      \n",
      " 8   segment               340645 non-null  category      \n",
      " 9   package               340645 non-null  category      \n",
      " 10  size                  340645 non-null  float64       \n",
      " 11  region_id             340645 non-null  category      \n",
      " 12  zone_id               340645 non-null  category      \n",
      " 13  customer_type         340645 non-null  category      \n",
      " 14  Y                     340645 non-null  float64       \n",
      " 15  X                     340645 non-null  float64       \n",
      " 16  num_deliver_per_week  340645 non-null  int64         \n",
      " 17  num_visit_per_week    340645 non-null  int64         \n",
      "dtypes: category(8), datetime64[ns](1), float64(3), int64(6)\n",
      "memory usage: 28.6 MB\n"
     ]
    }
   ],
   "source": [
    "df_completed_false.info()"
   ]
  },
  {
   "cell_type": "markdown",
   "metadata": {},
   "source": [
    "#### Dataset Completo"
   ]
  },
  {
   "cell_type": "code",
   "execution_count": 58,
   "metadata": {},
   "outputs": [],
   "source": [
    "df_completed_true['target'] = 1\n",
    "df_completed_false['target'] = 0"
   ]
  },
  {
   "cell_type": "code",
   "execution_count": 59,
   "metadata": {},
   "outputs": [],
   "source": [
    "# se crea el dataset completo\n",
    "df_completed = pd.concat([df_completed_true, df_completed_false])\n",
    "\n",
    "# se elima la col order_id\n",
    "df_completed = df_completed.drop(columns=['order_id'])"
   ]
  },
  {
   "cell_type": "code",
   "execution_count": 60,
   "metadata": {},
   "outputs": [
    {
     "data": {
      "text/html": [
       "<div>\n",
       "<style scoped>\n",
       "    .dataframe tbody tr th:only-of-type {\n",
       "        vertical-align: middle;\n",
       "    }\n",
       "\n",
       "    .dataframe tbody tr th {\n",
       "        vertical-align: top;\n",
       "    }\n",
       "\n",
       "    .dataframe thead th {\n",
       "        text-align: right;\n",
       "    }\n",
       "</style>\n",
       "<table border=\"1\" class=\"dataframe\">\n",
       "  <thead>\n",
       "    <tr style=\"text-align: right;\">\n",
       "      <th></th>\n",
       "      <th>customer_id</th>\n",
       "      <th>num_transacciones</th>\n",
       "    </tr>\n",
       "  </thead>\n",
       "  <tbody>\n",
       "    <tr>\n",
       "      <th>0</th>\n",
       "      <td>25734</td>\n",
       "      <td>54</td>\n",
       "    </tr>\n",
       "    <tr>\n",
       "      <th>1</th>\n",
       "      <td>25743</td>\n",
       "      <td>530</td>\n",
       "    </tr>\n",
       "    <tr>\n",
       "      <th>2</th>\n",
       "      <td>25749</td>\n",
       "      <td>1154</td>\n",
       "    </tr>\n",
       "    <tr>\n",
       "      <th>3</th>\n",
       "      <td>56868</td>\n",
       "      <td>64</td>\n",
       "    </tr>\n",
       "    <tr>\n",
       "      <th>4</th>\n",
       "      <td>56871</td>\n",
       "      <td>130</td>\n",
       "    </tr>\n",
       "    <tr>\n",
       "      <th>...</th>\n",
       "      <td>...</td>\n",
       "      <td>...</td>\n",
       "    </tr>\n",
       "    <tr>\n",
       "      <th>1485</th>\n",
       "      <td>253308</td>\n",
       "      <td>6</td>\n",
       "    </tr>\n",
       "    <tr>\n",
       "      <th>1486</th>\n",
       "      <td>253335</td>\n",
       "      <td>2</td>\n",
       "    </tr>\n",
       "    <tr>\n",
       "      <th>1487</th>\n",
       "      <td>253557</td>\n",
       "      <td>9</td>\n",
       "    </tr>\n",
       "    <tr>\n",
       "      <th>1488</th>\n",
       "      <td>457455</td>\n",
       "      <td>40</td>\n",
       "    </tr>\n",
       "    <tr>\n",
       "      <th>1489</th>\n",
       "      <td>2061063</td>\n",
       "      <td>129</td>\n",
       "    </tr>\n",
       "  </tbody>\n",
       "</table>\n",
       "<p>1490 rows × 2 columns</p>\n",
       "</div>"
      ],
      "text/plain": [
       "      customer_id  num_transacciones\n",
       "0           25734                 54\n",
       "1           25743                530\n",
       "2           25749               1154\n",
       "3           56868                 64\n",
       "4           56871                130\n",
       "...           ...                ...\n",
       "1485       253308                  6\n",
       "1486       253335                  2\n",
       "1487       253557                  9\n",
       "1488       457455                 40\n",
       "1489      2061063                129\n",
       "\n",
       "[1490 rows x 2 columns]"
      ]
     },
     "execution_count": 60,
     "metadata": {},
     "output_type": "execute_result"
    }
   ],
   "source": [
    "# cantidad de transacciones por cliente\n",
    "transacciones_por_cliente = df_completed_true.groupby('customer_id').size().reset_index(name='num_transacciones')\n",
    "transacciones_por_cliente"
   ]
  },
  {
   "cell_type": "markdown",
   "metadata": {},
   "source": [
    "#### Transacciones por cliente dataset de transacciones\n"
   ]
  },
  {
   "cell_type": "code",
   "execution_count": 61,
   "metadata": {},
   "outputs": [
    {
     "data": {
      "image/png": "[encoded data removed]",
      "text/plain": [
       "<Figure size 1500x500 with 1 Axes>"
      ]
     },
     "metadata": {},
     "output_type": "display_data"
    }
   ],
   "source": [
    "plt.figure(figsize=(15, 5))\n",
    "\n",
    "global_mean = transacciones_por_cliente['num_transacciones'].mean()\n",
    "globa_min, global_max = transacciones_por_cliente['num_transacciones'].min(), transacciones_por_cliente['num_transacciones'].max()\n",
    "sns.histplot(transacciones_por_cliente['num_transacciones'], bins='auto', kde=True)\n",
    "plt.title('Distribución de transacciones por cliente. global mean: {:.2f}, min: {:.0f}, max: {:.0f}'.format(global_mean, globa_min, global_max))\n",
    "plt.xlabel('Número de transacciones por cliente')\n",
    "plt.ylabel('Frecuencia')\n",
    "plt.grid(True, linestyle='--', alpha=0.5)\n",
    "plt.show()"
   ]
  },
  {
   "cell_type": "code",
   "execution_count": 62,
   "metadata": {},
   "outputs": [
    {
     "data": {
      "text/html": [
       "<div>\n",
       "<style scoped>\n",
       "    .dataframe tbody tr th:only-of-type {\n",
       "        vertical-align: middle;\n",
       "    }\n",
       "\n",
       "    .dataframe tbody tr th {\n",
       "        vertical-align: top;\n",
       "    }\n",
       "\n",
       "    .dataframe thead th {\n",
       "        text-align: right;\n",
       "    }\n",
       "</style>\n",
       "<table border=\"1\" class=\"dataframe\">\n",
       "  <thead>\n",
       "    <tr style=\"text-align: right;\">\n",
       "      <th></th>\n",
       "      <th>product_id</th>\n",
       "      <th>avg_repurchase_days</th>\n",
       "    </tr>\n",
       "  </thead>\n",
       "  <tbody>\n",
       "    <tr>\n",
       "      <th>0</th>\n",
       "      <td>60</td>\n",
       "      <td>10.72</td>\n",
       "    </tr>\n",
       "    <tr>\n",
       "      <th>1</th>\n",
       "      <td>124</td>\n",
       "      <td>25.68</td>\n",
       "    </tr>\n",
       "    <tr>\n",
       "      <th>2</th>\n",
       "      <td>174</td>\n",
       "      <td>17.85</td>\n",
       "    </tr>\n",
       "    <tr>\n",
       "      <th>3</th>\n",
       "      <td>1310</td>\n",
       "      <td>49.62</td>\n",
       "    </tr>\n",
       "    <tr>\n",
       "      <th>4</th>\n",
       "      <td>1324</td>\n",
       "      <td>29.36</td>\n",
       "    </tr>\n",
       "  </tbody>\n",
       "</table>\n",
       "</div>"
      ],
      "text/plain": [
       "   product_id  avg_repurchase_days\n",
       "0          60                10.72\n",
       "1         124                25.68\n",
       "2         174                17.85\n",
       "3        1310                49.62\n",
       "4        1324                29.36"
      ]
     },
     "execution_count": 62,
     "metadata": {},
     "output_type": "execute_result"
    }
   ],
   "source": [
    "# Asegurar fechas ordenadas\n",
    "df_sorted = df_completed_true.sort_values(by=['product_id', 'customer_id', 'purchase_date'])\n",
    "\n",
    "# Calcular diferencias entre compras por producto-cliente\n",
    "df_sorted['days_between'] = (\n",
    "    df_sorted.groupby(['product_id', 'customer_id'])['purchase_date']\n",
    "    .diff()\n",
    "    .dt.days\n",
    ")\n",
    "\n",
    "# Calcular periodo promedio por SKU (product_id)\n",
    "recompra_promedio_sku = (\n",
    "    df_sorted.groupby('product_id')['days_between']\n",
    "    .mean()\n",
    "    .reset_index(name='avg_repurchase_days')\n",
    ")\n",
    "\n",
    "recompra_promedio_sku.head()"
   ]
  },
  {
   "cell_type": "code",
   "execution_count": 63,
   "metadata": {},
   "outputs": [
    {
     "data": {
      "image/png": "[encoded data removed]",
      "text/plain": [
       "<Figure size 2500x500 with 1 Axes>"
      ]
     },
     "metadata": {},
     "output_type": "display_data"
    }
   ],
   "source": [
    "#grafica de barras. no histograma\n",
    "plt.figure(figsize=(25, 5))\n",
    "global_mean = recompra_promedio_sku['avg_repurchase_days'].mean()\n",
    "global_min, global_max = recompra_promedio_sku['avg_repurchase_days'].min(), recompra_promedio_sku['avg_repurchase_days'].max()\n",
    "sns.barplot(data=recompra_promedio_sku, x='product_id', y='avg_repurchase_days')\n",
    "plt.title(f'Promedio de días entre compras por SKU (product_id). global mean: {global_mean:.2f}, min: {global_min:.0f}, max: {global_max:.0f}')\n",
    "plt.xticks(rotation=90)\n",
    "plt.xlabel('SKU')\n",
    "plt.ylabel('Promedio de días entre compras')\n",
    "plt.xticks(rotation=90)\n",
    "plt.grid(True, linestyle='--', alpha=0.5)\n",
    "plt.show()"
   ]
  },
  {
   "cell_type": "markdown",
   "metadata": {},
   "source": [
    "el dataframe `mean_Weekly_items` entrega el promedio de compra de productos para cada cliente."
   ]
  },
  {
   "cell_type": "markdown",
   "metadata": {},
   "source": [
    "- ¿Cuántos productos compra en promedio cada cliente semana a semana?\n",
    "\n",
    "    En el dataframe `mean_weekly_items` se extrae cuando productos (cantidad de items) compra cada cliente en promedio por cada semana. Se observa una distribución decreciente en la cantidad de productos al consdierar a todos los clientes, con un promedio entre todos los clientes de aproximadamente 19 productos, por semana.\n",
    "\n",
    "- ¿Cuántas transacciones ha realizado cada cliente? \n",
    "\n",
    "    En el dataframe `transacciones_por_cliente` se resumen cuantos registros se tienen desde la tabla `df_transacciones` por cada customer_id. Entre todos los clientes se observa un promedio de 170 registros de compra, con extremos con clientes con solo un registro de compra y otro con 1600 registros de compra durante el periodo de estudio.\n",
    "\n",
    "\n",
    "- ¿Cuál es el periodo de recompra promedio de cada SKU?\n",
    "\n",
    "    Para el periodo de recompra se calcula el peiodo de tiempo en que se demora un cliente en recomprar un mismo producto. Luego para un mismo producto se calcula el promedio entre todos los periodos de recompra considernado todos los clientes que realizaron una recompra. Los resultados indican que en promedio un producto es recomprado cada 24 días con extremos de productos que son comprados de forma diaría (sin periodo de recompra) y un producto que se recompra en 132 días\n",
    "\n"
   ]
  },
  {
   "cell_type": "markdown",
   "metadata": {},
   "source": [
    "## 📌 Holdout [0.25 puntos]\n",
    "\n",
    "Para evaluar correctamente el modelo y garantizar su capacidad de generalización, se deben dividir los datos en tres conjuntos: \n",
    "- `Entrenamiento` : Para ajustar los parámetros.\n",
    "- `Validación`: Para optimizar hiperparámetros y seleccionar el mejor modelo.\n",
    "- `Prueba` : Para evaluar el rendimiento final en datos no vistos.\n",
    "\n",
    "👀 **Hint**: *Recuerde que los datos tienen una temporalidad que debe considerarse al momento de separarlos, para evitar fugas de información. Es importante justificar la estrategia de partición elegida y visualizar la distribución temporal de los conjuntos generados*"
   ]
  },
  {
   "cell_type": "markdown",
   "metadata": {},
   "source": [
    "Recordemos nuestro objetivo: construir un modelo predictivo que, cada semana, pueda estimar la probabilidad de compra de cada producto del portafolio para cada cliente activo. La idea es, una vez construido el modelo, darle esta información al equipo de Marketing para que aprovechen negocios nuevos u ofertas a clientes. Enm base a esto, escogeremos el modelo más adecuado:\n",
    "\n",
    "Para esto, fijaremos una semilla para controlar la aleatoriedad y separaremos los datos en conjuntos de train (70%), validación (20%) y prueba (10%) aproximadamente."
   ]
  },
  {
   "cell_type": "code",
   "execution_count": 64,
   "metadata": {},
   "outputs": [],
   "source": [
    "from sklearn.model_selection import train_test_split\n",
    "\n",
    "def split_temporal(df, target_col, test_size=0.1, val_size=0.2, sort_by='purchase_date', seed=1):\n",
    "    df_sorted = df.sort_values(by=sort_by)\n",
    "    X = df_sorted.drop(columns=[target_col])\n",
    "    y = df_sorted[target_col]\n",
    "\n",
    "    # Separar test\n",
    "    X_temp, X_test, y_temp, y_test = train_test_split(X, y, test_size=test_size, random_state=seed, shuffle=False)\n",
    "\n",
    "    # Separar validation del restante\n",
    "    val_prop = val_size / (1 - test_size)\n",
    "    X_train, X_val, y_train, y_val = train_test_split(X_temp, y_temp, test_size=val_prop, random_state=seed, shuffle=False)\n",
    "    return X_train, X_val, X_test, y_train, y_val, y_test"
   ]
  },
  {
   "cell_type": "code",
   "execution_count": 65,
   "metadata": {},
   "outputs": [
    {
     "name": "stdout",
     "output_type": "stream",
     "text": [
      "<class 'pandas.core.frame.DataFrame'>\n",
      "Index: 586350 entries, 0 to 340644\n",
      "Data columns (total 18 columns):\n",
      " #   Column                Non-Null Count   Dtype         \n",
      "---  ------                --------------   -----         \n",
      " 0   customer_id           586350 non-null  int64         \n",
      " 1   purchase_date         586350 non-null  datetime64[ns]\n",
      " 2   items                 586350 non-null  float64       \n",
      " 3   brand                 586350 non-null  category      \n",
      " 4   category              586350 non-null  category      \n",
      " 5   sub_category          586350 non-null  category      \n",
      " 6   segment               586350 non-null  category      \n",
      " 7   package               586350 non-null  category      \n",
      " 8   size                  586350 non-null  float64       \n",
      " 9   product_id            586350 non-null  int64         \n",
      " 10  region_id             586350 non-null  category      \n",
      " 11  zone_id               586350 non-null  category      \n",
      " 12  customer_type         586350 non-null  category      \n",
      " 13  Y                     586350 non-null  float64       \n",
      " 14  X                     586350 non-null  float64       \n",
      " 15  num_deliver_per_week  586350 non-null  int64         \n",
      " 16  num_visit_per_week    586350 non-null  int64         \n",
      " 17  target                586350 non-null  int64         \n",
      "dtypes: category(8), datetime64[ns](1), float64(4), int64(5)\n",
      "memory usage: 53.7 MB\n"
     ]
    }
   ],
   "source": [
    "df_completed.info()"
   ]
  },
  {
   "cell_type": "code",
   "execution_count": 66,
   "metadata": {},
   "outputs": [
    {
     "name": "stdout",
     "output_type": "stream",
     "text": [
      "Tamaño Total: 586350\n",
      "Tamaño Entrenamiento: 410444, representa el 69%\n",
      "Tamaño X_train['purchase_date']Validación: 117271, representa el 20%\n",
      "Tamaño Prueba: 58635, representa el 10%\n"
     ]
    }
   ],
   "source": [
    "X_train, X_val, X_test, y_train, y_val, y_test = split_temporal(\n",
    "    df_completed,\n",
    "    target_col='target',\n",
    "    test_size=0.1,\n",
    "    val_size=0.2,\n",
    "    sort_by='purchase_date',\n",
    "    seed=10\n",
    ")\n",
    "\n",
    "print(f\"Tamaño Total: {df_completed.shape[0]}\")\n",
    "print(f\"Tamaño Entrenamiento: {X_train.shape[0]}, representa el {int(X_train.shape[0]/df_completed.shape[0]*100)}%\")\n",
    "print(f\"Tamaño X_train['purchase_date']Validación: {X_val.shape[0]}, representa el {int(X_val.shape[0]/df_completed.shape[0]*100)}%\")\n",
    "print(f\"Tamaño Prueba: {X_test.shape[0]}, representa el {int(X_test.shape[0]/df_completed.shape[0]*100)}%\")"
   ]
  },
  {
   "cell_type": "code",
   "execution_count": 67,
   "metadata": {},
   "outputs": [
    {
     "name": "stdout",
     "output_type": "stream",
     "text": [
      "Train: (Timestamp('2024-01-01 00:00:00'), Timestamp('2024-10-07 00:00:00'))\n",
      "Val:   (Timestamp('2024-10-07 00:00:00'), Timestamp('2024-12-02 00:00:00'))\n",
      "Test:  (Timestamp('2024-12-02 00:00:00'), Timestamp('2024-12-31 00:00:00'))\n"
     ]
    }
   ],
   "source": [
    "# Obtener rangos por split\n",
    "train_range = (X_train['purchase_date'].min(), X_train['purchase_date'].max())\n",
    "val_range = (X_val['purchase_date'].min(), X_val['purchase_date'].max())\n",
    "test_range = (X_test['purchase_date'].min(), X_test['purchase_date'].max())\n",
    "\n",
    "# Mostrar\n",
    "print(f\"Train: {train_range}\")\n",
    "print(f\"Val:   {val_range}\")\n",
    "print(f\"Test:  {test_range}\")\n"
   ]
  },
  {
   "cell_type": "code",
   "execution_count": 68,
   "metadata": {},
   "outputs": [
    {
     "data": {
      "image/png": "[encoded data removed]",
      "text/plain": [
       "<Figure size 1000x500 with 1 Axes>"
      ]
     },
     "metadata": {},
     "output_type": "display_data"
    }
   ],
   "source": [
    "def plot_date_ranges(train_range, val_range, test_range):\n",
    "    plt.figure(figsize=(10, 5))\n",
    "    plt.plot([train_range[0], train_range[1]], [1, 1], label='Train', color='blue', linewidth=5)\n",
    "    plt.plot([val_range[0], val_range[1]], [2, 2], label='Validation', color='orange', linewidth=5)\n",
    "    plt.plot([test_range[0], test_range[1]], [3, 3], label='Test', color='green', linewidth=5)\n",
    "    plt.yticks([1, 2, 3], ['Train', 'Validation', 'Test'])\n",
    "    plt.title('Rangos de fechas por conjunto de datos')\n",
    "    plt.xlabel('Fecha')\n",
    "    plt.grid(axis='x', linestyle='--', alpha=0.5)\n",
    "    plt.legend()\n",
    "    plt.tight_layout()\n",
    "    plt.show()\n",
    "\n",
    "plot_date_ranges(train_range, val_range, test_range)\n"
   ]
  },
  {
   "cell_type": "markdown",
   "metadata": {},
   "source": [
    "## 📌 Feature Engineering [0.5 puntos]\n",
    "\n",
    "<center>\n",
    "<img src=\"https://i.imgur.com/CmXZSSC.gif\" width=\"300\" height=\"200\">"
   ]
  },
  {
   "cell_type": "markdown",
   "metadata": {},
   "source": [
    "En esta sección, se deben construir pipelines para automatizar el preprocesamiento de los datos, lo cual garantizará que el flujo de trabajo sea reproducible y eficiente para esta entrega y las futuras. El objetivo es aplicar una serie de transformaciones en un orden definido para asegurar que los datos estén listos para los modelos a entrenar. El pipeline final debe incluir las técnicas de pre-procesamiento que se deben aplicar a los distintos datos (según lo que consideren necesario para el problema). Por ejemplo:\n",
    "\n",
    "- **Imputación de valores nulos**: Manejo de datos faltantes mediante estrategias adecuadas (media, mediana, moda, interpolación, etc.). \n",
    "\n",
    "- **Transformaciones personalizadas**: Uso de ColumnTransformer para aplicar diferentes transformaciones a columnas específicas.\n",
    "\n",
    "- **Codificación de variables categóricas**: Convertir datos categóricos a un formato numérico adecuado (One-Hot Encoding, Label Encoding, etc.).\n",
    "\n",
    "- **Discretización de variables**: Conversión de variables numéricas continuas en categorías si son relevantes para el desempeño del modelo a entrenar.\n",
    "\n",
    "- **Estandarización o normalización** : Ajustar la escala de los datos para mejorar el rendimiento de los algoritmos sensibles a la magnitud de las variables.\n",
    "\n",
    "- **Eliminación o transformación de valores atípicos**: Identificar y tratar con datos outliers para mejorar la robustez del modelo.\n",
    "\n",
    "- **Nuevas características** : Creación de variables adicionales que puedan aportar información relevante al modelo.\n",
    "\n",
    "Cada una de estas transformaciones debe ser justificada en función de su relevancia para el problema y los datos, y es importante evaluar su impacto en el rendimiento del modelo. Además, el pipeline debe ser flexible y modular para poder probar diferentes configuraciones de preprocesamiento."
   ]
  },
  {
   "cell_type": "code",
   "execution_count": 69,
   "metadata": {},
   "outputs": [
    {
     "data": {
      "text/html": [
       "<div>\n",
       "<style scoped>\n",
       "    .dataframe tbody tr th:only-of-type {\n",
       "        vertical-align: middle;\n",
       "    }\n",
       "\n",
       "    .dataframe tbody tr th {\n",
       "        vertical-align: top;\n",
       "    }\n",
       "\n",
       "    .dataframe thead th {\n",
       "        text-align: right;\n",
       "    }\n",
       "</style>\n",
       "<table border=\"1\" class=\"dataframe\">\n",
       "  <thead>\n",
       "    <tr style=\"text-align: right;\">\n",
       "      <th></th>\n",
       "      <th>customer_id</th>\n",
       "      <th>purchase_date</th>\n",
       "      <th>items</th>\n",
       "      <th>brand</th>\n",
       "      <th>category</th>\n",
       "      <th>sub_category</th>\n",
       "      <th>segment</th>\n",
       "      <th>package</th>\n",
       "      <th>size</th>\n",
       "      <th>product_id</th>\n",
       "      <th>region_id</th>\n",
       "      <th>zone_id</th>\n",
       "      <th>customer_type</th>\n",
       "      <th>Y</th>\n",
       "      <th>X</th>\n",
       "      <th>num_deliver_per_week</th>\n",
       "      <th>num_visit_per_week</th>\n",
       "      <th>target</th>\n",
       "    </tr>\n",
       "  </thead>\n",
       "  <tbody>\n",
       "    <tr>\n",
       "      <th>0</th>\n",
       "      <td>61899</td>\n",
       "      <td>2024-04-27</td>\n",
       "      <td>3.67</td>\n",
       "      <td>Brand 34</td>\n",
       "      <td>BEBIDAS CARBONATADAS</td>\n",
       "      <td>GASEOSAS</td>\n",
       "      <td>MEDIUM</td>\n",
       "      <td>BOTELLA</td>\n",
       "      <td>1.00</td>\n",
       "      <td>297060</td>\n",
       "      <td>80</td>\n",
       "      <td>5148</td>\n",
       "      <td>MAYORISTA</td>\n",
       "      <td>-46.56</td>\n",
       "      <td>-107.90</td>\n",
       "      <td>3</td>\n",
       "      <td>1</td>\n",
       "      <td>1</td>\n",
       "    </tr>\n",
       "    <tr>\n",
       "      <th>1</th>\n",
       "      <td>154077</td>\n",
       "      <td>2024-04-29</td>\n",
       "      <td>2.33</td>\n",
       "      <td>Brand 31</td>\n",
       "      <td>BEBIDAS CARBONATADAS</td>\n",
       "      <td>GASEOSAS</td>\n",
       "      <td>PREMIUM</td>\n",
       "      <td>LATA</td>\n",
       "      <td>0.31</td>\n",
       "      <td>296284</td>\n",
       "      <td>80</td>\n",
       "      <td>5148</td>\n",
       "      <td>ABARROTES</td>\n",
       "      <td>-46.54</td>\n",
       "      <td>-107.87</td>\n",
       "      <td>3</td>\n",
       "      <td>1</td>\n",
       "      <td>1</td>\n",
       "    </tr>\n",
       "    <tr>\n",
       "      <th>2</th>\n",
       "      <td>172056</td>\n",
       "      <td>2024-04-26</td>\n",
       "      <td>1.00</td>\n",
       "      <td>Brand 34</td>\n",
       "      <td>BEBIDAS CARBONATADAS</td>\n",
       "      <td>GASEOSAS</td>\n",
       "      <td>MEDIUM</td>\n",
       "      <td>LATA</td>\n",
       "      <td>0.25</td>\n",
       "      <td>10652</td>\n",
       "      <td>80</td>\n",
       "      <td>5148</td>\n",
       "      <td>MAYORISTA</td>\n",
       "      <td>-46.56</td>\n",
       "      <td>-107.93</td>\n",
       "      <td>4</td>\n",
       "      <td>1</td>\n",
       "      <td>1</td>\n",
       "    </tr>\n",
       "    <tr>\n",
       "      <th>3</th>\n",
       "      <td>187101</td>\n",
       "      <td>2024-04-27</td>\n",
       "      <td>17.00</td>\n",
       "      <td>Brand 3</td>\n",
       "      <td>BEBIDAS CARBONATADAS</td>\n",
       "      <td>GASEOSAS</td>\n",
       "      <td>MEDIUM</td>\n",
       "      <td>BOTELLA</td>\n",
       "      <td>1.00</td>\n",
       "      <td>297542</td>\n",
       "      <td>80</td>\n",
       "      <td>5148</td>\n",
       "      <td>RESTAURANT</td>\n",
       "      <td>-46.55</td>\n",
       "      <td>-107.92</td>\n",
       "      <td>3</td>\n",
       "      <td>1</td>\n",
       "      <td>1</td>\n",
       "    </tr>\n",
       "    <tr>\n",
       "      <th>4</th>\n",
       "      <td>187806</td>\n",
       "      <td>2024-04-26</td>\n",
       "      <td>3.67</td>\n",
       "      <td>Brand 1</td>\n",
       "      <td>BEBIDAS CARBONATADAS</td>\n",
       "      <td>GASEOSAS</td>\n",
       "      <td>PREMIUM</td>\n",
       "      <td>BOTELLA</td>\n",
       "      <td>0.25</td>\n",
       "      <td>297958</td>\n",
       "      <td>80</td>\n",
       "      <td>5148</td>\n",
       "      <td>MAYORISTA</td>\n",
       "      <td>-46.56</td>\n",
       "      <td>-107.89</td>\n",
       "      <td>3</td>\n",
       "      <td>1</td>\n",
       "      <td>1</td>\n",
       "    </tr>\n",
       "  </tbody>\n",
       "</table>\n",
       "</div>"
      ],
      "text/plain": [
       "   customer_id purchase_date  items     brand              category  \\\n",
       "0        61899    2024-04-27   3.67  Brand 34  BEBIDAS CARBONATADAS   \n",
       "1       154077    2024-04-29   2.33  Brand 31  BEBIDAS CARBONATADAS   \n",
       "2       172056    2024-04-26   1.00  Brand 34  BEBIDAS CARBONATADAS   \n",
       "3       187101    2024-04-27  17.00   Brand 3  BEBIDAS CARBONATADAS   \n",
       "4       187806    2024-04-26   3.67   Brand 1  BEBIDAS CARBONATADAS   \n",
       "\n",
       "  sub_category  segment  package  size  product_id region_id zone_id  \\\n",
       "0     GASEOSAS   MEDIUM  BOTELLA  1.00      297060        80    5148   \n",
       "1     GASEOSAS  PREMIUM     LATA  0.31      296284        80    5148   \n",
       "2     GASEOSAS   MEDIUM     LATA  0.25       10652        80    5148   \n",
       "3     GASEOSAS   MEDIUM  BOTELLA  1.00      297542        80    5148   \n",
       "4     GASEOSAS  PREMIUM  BOTELLA  0.25      297958        80    5148   \n",
       "\n",
       "  customer_type      Y       X  num_deliver_per_week  num_visit_per_week  \\\n",
       "0     MAYORISTA -46.56 -107.90                     3                   1   \n",
       "1     ABARROTES -46.54 -107.87                     3                   1   \n",
       "2     MAYORISTA -46.56 -107.93                     4                   1   \n",
       "3    RESTAURANT -46.55 -107.92                     3                   1   \n",
       "4     MAYORISTA -46.56 -107.89                     3                   1   \n",
       "\n",
       "   target  \n",
       "0       1  \n",
       "1       1  \n",
       "2       1  \n",
       "3       1  \n",
       "4       1  "
      ]
     },
     "execution_count": 69,
     "metadata": {},
     "output_type": "execute_result"
    }
   ],
   "source": [
    "df_completed.head()"
   ]
  },
  {
   "cell_type": "code",
   "execution_count": 70,
   "metadata": {},
   "outputs": [],
   "source": [
    "# agregacion de variables\n",
    "\n",
    "# se agrega una nueva feature al dataframe df_completed que contiene la cantidad de productos comprados por cliente por semana\n",
    "df_completed_ = df_completed.copy()\n",
    "df_completed_['week'] = df_completed_['purchase_date'].dt.isocalendar().week\n",
    "df_completed_['weekly_items'] = df_completed_.groupby(['customer_id', 'week'])['items'].transform('sum')\n",
    "df_completed_.drop(columns=['week'], inplace=True) # se elimina la columna week\n",
    "\n",
    "# se agrega la cantidad de transacciones por cliente\n",
    "df_completed_['num_transacciones'] = df_completed_.groupby('customer_id')['items'].transform('count')\n",
    "\n",
    "# se agrega la cantidad de transacciones por producto\n",
    "df_sorted = df_completed_.sort_values(by=['product_id', 'purchase_date'])\n",
    "df_sorted['repurchase_days'] = (\n",
    "    df_sorted.groupby('product_id')['purchase_date']\n",
    "    .diff()\n",
    "    .dt.days\n",
    ")\n",
    "\n",
    "recompra_promedio_sku = (\n",
    "    df_sorted.groupby('product_id')['repurchase_days']\n",
    "    .mean()\n",
    "    .reset_index(name='avg_repurchase_days')\n",
    ")\n",
    "\n",
    "df_completed_['sku_repurchase_days'] = df_completed_['product_id'].map(recompra_promedio_sku.set_index('product_id')['avg_repurchase_days'])"
   ]
  },
  {
   "cell_type": "code",
   "execution_count": 71,
   "metadata": {},
   "outputs": [],
   "source": [
    "# df_completed = df_completed_.copy()"
   ]
  },
  {
   "cell_type": "code",
   "execution_count": 72,
   "metadata": {},
   "outputs": [
    {
     "name": "stdout",
     "output_type": "stream",
     "text": [
      "<class 'pandas.core.frame.DataFrame'>\n",
      "Index: 586350 entries, 0 to 340644\n",
      "Data columns (total 18 columns):\n",
      " #   Column                Non-Null Count   Dtype         \n",
      "---  ------                --------------   -----         \n",
      " 0   customer_id           586350 non-null  int64         \n",
      " 1   purchase_date         586350 non-null  datetime64[ns]\n",
      " 2   items                 586350 non-null  float64       \n",
      " 3   brand                 586350 non-null  category      \n",
      " 4   category              586350 non-null  category      \n",
      " 5   sub_category          586350 non-null  category      \n",
      " 6   segment               586350 non-null  category      \n",
      " 7   package               586350 non-null  category      \n",
      " 8   size                  586350 non-null  float64       \n",
      " 9   product_id            586350 non-null  int64         \n",
      " 10  region_id             586350 non-null  category      \n",
      " 11  zone_id               586350 non-null  category      \n",
      " 12  customer_type         586350 non-null  category      \n",
      " 13  Y                     586350 non-null  float64       \n",
      " 14  X                     586350 non-null  float64       \n",
      " 15  num_deliver_per_week  586350 non-null  int64         \n",
      " 16  num_visit_per_week    586350 non-null  int64         \n",
      " 17  target                586350 non-null  int64         \n",
      "dtypes: category(8), datetime64[ns](1), float64(4), int64(5)\n",
      "memory usage: 53.7 MB\n"
     ]
    }
   ],
   "source": [
    "df_completed.info()"
   ]
  },
  {
   "cell_type": "code",
   "execution_count": 73,
   "metadata": {},
   "outputs": [
    {
     "data": {
      "text/plain": [
       "Index(['customer_id', 'purchase_date', 'items', 'brand', 'category',\n",
       "       'sub_category', 'segment', 'package', 'size', 'product_id', 'region_id',\n",
       "       'zone_id', 'customer_type', 'Y', 'X', 'num_deliver_per_week',\n",
       "       'num_visit_per_week', 'target'],\n",
       "      dtype='object')"
      ]
     },
     "execution_count": 73,
     "metadata": {},
     "output_type": "execute_result"
    }
   ],
   "source": [
    "#df_completed.drop(columns=['items', 'order_id', 'region_id'], inplace=True)\n",
    "df_completed.columns\n"
   ]
  },
  {
   "cell_type": "markdown",
   "metadata": {},
   "source": [
    "CAbe mencionar que a aprtir del EDA realizado en el apartado anterior ya se habian agregado tres variables que buscan resumir el comportamiento de los clientes."
   ]
  },
  {
   "cell_type": "code",
   "execution_count": 74,
   "metadata": {},
   "outputs": [
    {
     "data": {
      "image/png": "[encoded data removed]",
      "text/plain": [
       "<Figure size 800x400 with 1 Axes>"
      ]
     },
     "metadata": {},
     "output_type": "display_data"
    },
    {
     "data": {
      "image/png": "[encoded data removed]",
      "text/plain": [
       "<Figure size 800x400 with 1 Axes>"
      ]
     },
     "metadata": {},
     "output_type": "display_data"
    },
    {
     "data": {
      "image/png": "[encoded data removed]",
      "text/plain": [
       "<Figure size 800x400 with 1 Axes>"
      ]
     },
     "metadata": {},
     "output_type": "display_data"
    }
   ],
   "source": [
    "plot_int_columns_bar_charts(df_completed, max_unique_values=40)"
   ]
  },
  {
   "cell_type": "markdown",
   "metadata": {},
   "source": [
    "Todos los registros disponibles en el dataset `df_completed` representan interacciones reales en las que un cliente compró un producto en una fecha específica. Por lo tanto, estos datos constituyen observaciones positivas del comportamiento que se desea modelar. Este tipo de observación es fundamental para entrenar modelos predictivos que estimen la probabilidad de compra futura. Sin embargo, para construir un conjunto de entrenamiento balanceado y realista, es necesario generar también registros negativos (y = 0), que representen combinaciones cliente-producto-semana donde no hubo compra."
   ]
  },
  {
   "cell_type": "markdown",
   "metadata": {},
   "source": [
    "En los análisis exploratorios previos se observó que las variables `num_visit_per_week`, `zone_id` y `region_id` presentan un único valor constante en todos los registros del dataset. Al no aportar variabilidad ni capacidad de discriminación entre observaciones, estas columnas no contribuyen al aprendizaje del modelo y, por tanto, se eliminan del conjunto de datos.\n",
    "\n",
    "Cabe notar que si bien el enunciado pide incluir información geogrpafica (explicitamente region y zona) los datos entregados no aportan información de dicha variabilidad. Para capturar parte de la información geográfica se usaran las variables `X` e `Y` que corresponden al par de coordenas del cliente por transacción.\n",
    "\n",
    "Las features `customer_id` y `order_id` son foreign_key que no aportan información al modelo. Son eliminadas igualmente."
   ]
  },
  {
   "cell_type": "markdown",
   "metadata": {},
   "source": [
    "En el Dataframe `clientes`, existe un tipo de datos categórico que se transforma su tipo para ser mas desciptivo. Existe un valor nulo, se agrega un INputador de datos considerando remplazar el valor nulo por la media. Como parte del preprocesado se utiliza un OneHotEncoder para la variable ``customer_type``, mientras que se normalizan las variables númericas usando StandardScaler() para ``num_deliver_per_week`` y MinMaxScaler para las otras variables que no siguen (aparentemente) una distribución normal: ``X``, ``Y``, ``num_visir_per_week``.\n"
   ]
  },
  {
   "cell_type": "code",
   "execution_count": 75,
   "metadata": {},
   "outputs": [],
   "source": [
    "# funcion auxilar para enriquecer con nuevas feautures. Por revisar dado que puede ser un posible leak de datos.\n",
    "def enrich_features(X):\n",
    "    X = X.copy()\n",
    "    X['purchase_date'] = pd.to_datetime(X['purchase_date'], errors='coerce')\n",
    "    X['purchase_week'] = X['purchase_date'].dt.isocalendar().week.astype('category')\n",
    "    X['weekly_items'] = X.groupby(['customer_id', 'purchase_week'])['items'].transform('sum')\n",
    "\n",
    "    # Número de transacciones por cliente\n",
    "    X['num_transacciones'] = X.groupby('customer_id')['items'].transform('count')\n",
    "\n",
    "    # Días entre compras por SKU\n",
    "    df_sorted = X.sort_values(by=['product_id', 'purchase_date'])\n",
    "    df_sorted['repurchase_days'] = df_sorted.groupby('product_id')['purchase_date'].diff().dt.days\n",
    "\n",
    "    avg_repurchase = df_sorted.groupby('product_id')['repurchase_days'].mean().reset_index()\n",
    "    avg_repurchase.columns = ['product_id', 'sku_repurchase_days']\n",
    "\n",
    "    X = X.merge(avg_repurchase, on='product_id', how='left')\n",
    "    X.drop(columns=['purchase_date'], inplace=True)\n",
    "\n",
    "    return X"
   ]
  },
  {
   "cell_type": "code",
   "execution_count": 76,
   "metadata": {},
   "outputs": [],
   "source": [
    "from sklearn.pipeline import Pipeline\n",
    "from sklearn.compose import ColumnTransformer\n",
    "from sklearn.impute import SimpleImputer\n",
    "from sklearn.preprocessing import MinMaxScaler, OneHotEncoder, StandardScaler\n",
    "from sklearn.preprocessing import FunctionTransformer\n",
    "import pandas as pd\n",
    "from sklearn.dummy import DummyClassifier\n",
    "\n",
    "numerical_features = ['X', 'Y', 'num_deliver_per_week', 'num_transacciones', 'sku_repurchase_days']\n",
    "numerical_features = ['X', 'Y']\n",
    "categorical_features = ['category', 'sub_category', 'segment', 'brand', 'customer_type', 'package']\n",
    "categorical_features+= ['purchase_week']\n",
    "\n",
    "# feature_engineering = FunctionTransformer(enrich_features)\n",
    "\n",
    "# funcion personalizada para desagregar la feature purchase_date\n",
    "def extract_date_features(X):\n",
    "    X = X.copy()\n",
    "    X['date'] = pd.to_datetime(X['purchase_date'], format='%d/%m/%y')\n",
    "    X['purchase_week'] = X['purchase_date'].dt.isocalendar().week\n",
    "    # categoricla\n",
    "    X['purchase_week'] = X['purchase_week'].astype('category')\n",
    "    #eliminar la columna original\n",
    "    X = X.drop(columns=['purchase_date'])\n",
    "    X = X.drop(columns=['date'])\n",
    "    return X\n",
    "\n",
    "function_transformer = FunctionTransformer(extract_date_features)\n",
    "\n",
    "\n",
    "# Pipelines separados\n",
    "num_pipeline = Pipeline([\n",
    "    ('outlier', IQR(lambda_=5)),\n",
    "    ('inputer', SimpleImputer(strategy='mean')),\n",
    "    ('scaler', MinMaxScaler())\n",
    "])\n",
    "\n",
    "cat_pipeline = Pipeline([\n",
    "    ('imputer', SimpleImputer(strategy='most_frequent')),\n",
    "    ('encoder', OneHotEncoder(handle_unknown='ignore', sparse_output=False))\n",
    "])\n",
    "\n",
    "# ColumnTransformer\n",
    "preprocessor = ColumnTransformer([\n",
    "    ('num', num_pipeline, numerical_features),\n",
    "    ('cat', cat_pipeline, categorical_features),\n",
    "], remainder='drop',\n",
    "   verbose_feature_names_out=False\n",
    ").set_output(transform='pandas')\n",
    "\n",
    "# Pipeline final\n",
    "pipeline_preprocessing = Pipeline([\n",
    "    ('transformer', function_transformer),\n",
    "    ('preprocessing', preprocessor),\n",
    "])"
   ]
  },
  {
   "cell_type": "code",
   "execution_count": 77,
   "metadata": {},
   "outputs": [],
   "source": [
    "from sklearn.metrics import confusion_matrix\n",
    "\n",
    "def confuse_matrix(y_true, y_pred):\n",
    "    # two graphs: confusion matrix and confusion matrix normalized\n",
    "    fig, ax = plt.subplots(1, 2, figsize=(12, 5))\n",
    "    cm = confusion_matrix(y_true, y_pred)\n",
    "    sns.heatmap(cm, annot=True, fmt='d', cmap='Blues', cbar=False, ax=ax[0])\n",
    "    ax[0].set_title('Matriz de confusión')\n",
    "    ax[0].set_xlabel('y_pred')\n",
    "    ax[0].set_ylabel('y_true')\n",
    "    ax[0].set_xticklabels(['0', '1'])\n",
    "    ax[0].set_yticklabels(['0', '1'])\n",
    "    ax[0].set_ylim(2, 0)  # Invertir el eje y para que la etiqueta superior esté en la parte superior\n",
    "    ax[0].set_aspect('equal')\n",
    "    ax[0].grid(False)\n",
    "    # Normalizar la matriz de confusión\n",
    "    cm_normalized = cm.astype('float') / cm.sum(axis=1)[:, np.newaxis]\n",
    "    sns.heatmap(cm_normalized, annot=True, fmt='.2f', cmap='Blues', cbar=False, ax=ax[1])\n",
    "    ax[1].set_title('Matriz de confusión normalizada')\n",
    "    ax[1].set_xlabel('y_pred')\n",
    "    ax[1].set_ylabel('y_true')\n",
    "    ax[1].set_xticklabels(['0', '1'])\n",
    "    ax[1].set_yticklabels(['0', '1'])\n",
    "    ax[1].set_ylim(2, 0)  # Invertir el eje y para que la etiqueta superior esté en la parte superior\n",
    "    ax[1].set_aspect('equal')\n",
    "    ax[1].grid(False)\n",
    "    plt.tight_layout()\n",
    "    plt.show()\n",
    "    return cm"
   ]
  },
  {
   "cell_type": "markdown",
   "metadata": {},
   "source": [
    "En el DataFrame ``transacciones``, los tipos de datos son consistentes con los valores ingresados, por lo que no es necesario realizar transformaciones adicionales de tipo. Al analizar la distribución de los datos, se observa que la feauture ``Items`` tiene con $\\lambda = 1$ tiene el 18.36% de los datos fuera del rango intercuratilico (IQR), lo cual implica la presentación de una cantidad de outliers significativos. Existen 8384 registros que han sido devueltos a la empresa que corresponden a un 3.28% de las ventas.\n",
    "\n",
    "Dado que la variable ``Items`` constituye la variable objetivo del modelo de predicción de demanda, no debe ser tratada como una variable descriptiva ni aplicar transformaciones que alteren su distribución. En cuanto al preprocesamiento, la única variable transformada es ``purchase_date``. A través de un FunctionTransformer, se descompone esta variable en tres nuevas características: día, mes y año. Estas nuevas columnas se almacenan como variables categóricas utilizando el tipo category de pandas y se transformar mediante un OneHotEncoder()."
   ]
  },
  {
   "cell_type": "markdown",
   "metadata": {},
   "source": [
    "## 📌 Baseline [0.25 puntos]\n",
    "\n",
    "<center>\n",
    "<img src=\"https://media1.giphy.com/media/v1.Y2lkPTc5MGI3NjExN3lzeGFqZmU3NzJrZHllNjRmaHVzczJpZ29rdHdlMzVpZnQwNXo1diZlcD12MV9pbnRlcm5hbF9naWZfYnlfaWQmY3Q9Zw/qAtZM2gvjWhPjmclZE/giphy.gif\" width=\"300\" height=\"200\">"
   ]
  },
  {
   "cell_type": "markdown",
   "metadata": {},
   "source": [
    "En esta sección se debe construir el modelo más sencillo posible que pueda resolver el problema planteado, conocido como **Modelo baseline**. Su propósito es servir como referencia para comparar el rendimiento de los modelos más avanzados desarrollados en etapas posteriores.  \n",
    "\n",
    "Pasos requeridos:  \n",
    "- Implemente, entrene y evalúe un modelo básico utilizando un pipeline.  \n",
    "- Asegúrese de incluir en el pipeline las transformaciones del preprocesamiento realizadas previamente junto con un clasificador básico.  \n",
    "- Evalúe el modelo y presente el informe de métricas utilizando **`classification_report`**.  \n",
    "\n",
    "Documente claramente cómo se creó el modelo, las decisiones tomadas y los resultados obtenidos. Este modelo será la base comparativa en las secciones posteriores."
   ]
  },
  {
   "cell_type": "code",
   "execution_count": 78,
   "metadata": {},
   "outputs": [
    {
     "name": "stdout",
     "output_type": "stream",
     "text": [
      "Evaluación Dummy en validación:\n",
      "              precision    recall  f1-score   support\n",
      "\n",
      "           0       0.63      0.50      0.56     73573\n",
      "           1       0.37      0.50      0.43     43698\n",
      "\n",
      "    accuracy                           0.50    117271\n",
      "   macro avg       0.50      0.50      0.49    117271\n",
      "weighted avg       0.53      0.50      0.51    117271\n",
      "\n"
     ]
    }
   ],
   "source": [
    "from sklearn.dummy import DummyClassifier\n",
    "from sklearn.metrics import classification_report, confusion_matrix\n",
    "\n",
    "# Pipeline con DummyClassifier\n",
    "pipeline_dummy = Pipeline([\n",
    "    ('transformacion', pipeline_preprocessing),\n",
    "    ('clasificador', DummyClassifier(strategy='uniform'))  # o 'stratified', 'uniform', etc.\n",
    "])\n",
    "\n",
    "# Entrenar\n",
    "pipeline_dummy.fit(X_train, y_train)\n",
    "\n",
    "# Predecir\n",
    "y_val_pred_dummy = pipeline_dummy.predict(X_val)\n",
    "\n",
    "# Evaluar\n",
    "print(\"Evaluación Dummy en validación:\")\n",
    "print(classification_report(y_val, y_val_pred_dummy))"
   ]
  },
  {
   "cell_type": "markdown",
   "metadata": {},
   "source": [
    "Para establecer un punto de referencia inicial en la evaluación del desempeño de modelos de clasificación, se construyó un modelo baseline utilizando un DummyClassifier de scikit-learn. Este clasificador simula predicciones sin aprender de los datos, permitiendo así identificar si los modelos futuros realmente aportan valor adicional. El modelo ``DummyClassifier`` se implementa bajo la estrategía de `uniform` que asigna etiquetas de forma aleatoria, con una probabilidad uniforme para cada clase. Esto significa que el modelo no tiene en cuenta las características de los datos, sino que simplemente asigna etiquetas al azar.\n",
    "\n",
    "La idea de este modelo baseline es establecer un punto de comparación que permita evaluar el rendimiento de modelos más complejos psoteriores. Cualquier modelo posterior debe super el baseline para considerar que es mejor que tomar decisiones al azar."
   ]
  },
  {
   "cell_type": "markdown",
   "metadata": {},
   "source": [
    "## 📌 Elección de modelo [0.75 puntos]\n",
    "\n",
    "En esta sección deben escoger un modelo que se adapte a las necesidades del negocio. Para esto, pruebe al menos 3 modelos y desarrolle los siguientes aspectos para cada uno:\n",
    "\n",
    "- **Estructura y diferencias entre los modelos**: Explicar brevemente cada uno y sus hipérparámetros de mayor importancia.\n",
    "- **Clasificadores recomendados**:\n",
    "  - `LogisticRegression`\n",
    "  - `KNeighborsClassifier`\n",
    "  - `DecisionTreeClassifier`\n",
    "  - `SVC`\n",
    "  - `RandomForestClassifier`\n",
    "  - `LightGBMClassifier` (del paquete `lightgbm`)\n",
    "  - `XGBClassifier` (del paquete `xgboost`)\n",
    "  - Otro (según lo que se estime adecuado)\n",
    "  \n",
    "- **Evaluación de resultados**: Se utilizará el **`classification_report`** para evaluar el rendimiento de cada modelo, destacando métricas clave como precisión, recall y F1-score. **Importante: No optimicen hiperparámetros, la idea es hacer una selección rápida del modelo.**\n",
    "\n",
    "**Nota:** Pueden ocupar mas de 1 **instancia** de modelo para resolver el problema (e.g: (modelo_1, grupo_1), (modelo_2, grupo_2), ...).\n",
    "  \n",
    "A continuación, se deben responder las siguientes preguntas para evaluar el rendimiento de los modelos entrenados:\n",
    "\n",
    "1. ¿Hay algún clasificador que supere al modelo baseline?  \n",
    "2. ¿Cuál es el mejor clasificador entrenado y por qué?  \n",
    "3. ¿Qué factores hacen que el mejor clasificador sea superior a los otros?  \n",
    "4. En términos de `tiempo de entrenamiento`, ¿Qué modelo considera más adecuado para experimentar con grillas de optimización?"
   ]
  },
  {
   "cell_type": "markdown",
   "metadata": {},
   "source": [
    "#### DecisionTreeClassifier\n",
    "\n",
    "El modelo de árbol de decisión es un algoritmo de clasificación supervisada que divide recursivamente el espacio de características en subconjuntos, generando una estructura en forma de árbol. Los parámetros clave corresponden a: \n",
    "\n",
    "- `max_depth`=5: Profundidad máxima del árbol. Controla el sobreajuste.\n",
    "- `random_state`=10: Establece una semilla para garantizar la reproducibilidad de los resultados.\n",
    "\n",
    "Todos los otros parámetros usan los valores por defecto."
   ]
  },
  {
   "cell_type": "code",
   "execution_count": 79,
   "metadata": {},
   "outputs": [
    {
     "name": "stdout",
     "output_type": "stream",
     "text": [
      "Evaluación en validación:\n",
      "              precision    recall  f1-score   support\n",
      "\n",
      "           0       0.66      0.96      0.78     73573\n",
      "           1       0.72      0.15      0.25     43698\n",
      "\n",
      "    accuracy                           0.66    117271\n",
      "   macro avg       0.69      0.56      0.52    117271\n",
      "weighted avg       0.68      0.66      0.58    117271\n",
      "\n",
      "Matriz de confusión en test:\n",
      "[[28602  1122]\n",
      " [23507  5404]]\n"
     ]
    }
   ],
   "source": [
    "from sklearn.dummy import DummyClassifier\n",
    "from sklearn.tree import DecisionTreeClassifier\n",
    "from sklearn.metrics import classification_report, confusion_matrix\n",
    "\n",
    "\n",
    "\n",
    "pipeline_TreeClassifier = Pipeline([\n",
    "    ('transformacion', pipeline_preprocessing),\n",
    "    ('clasificador', DecisionTreeClassifier(max_depth=5, random_state=10))\n",
    "])\n",
    "\n",
    "pipeline_TreeClassifier.fit(X_train, y_train)\n",
    "\n",
    "y_val_pred = pipeline_TreeClassifier.predict(X_val)\n",
    "\n",
    "print(\"Evaluación en validación:\")\n",
    "print(classification_report(y_val, y_val_pred))\n",
    "\n",
    "y_test_pred = pipeline_TreeClassifier.predict(X_test)\n",
    "print(\"Matriz de confusión en test:\")\n",
    "print(confusion_matrix(y_test, y_test_pred))"
   ]
  },
  {
   "cell_type": "code",
   "execution_count": 80,
   "metadata": {},
   "outputs": [
    {
     "data": {
      "image/png": "[encoded data removed]",
      "text/plain": [
       "<Figure size 1200x500 with 2 Axes>"
      ]
     },
     "metadata": {},
     "output_type": "display_data"
    },
    {
     "data": {
      "text/plain": [
       "array([[28602,  1122],\n",
       "       [23507,  5404]])"
      ]
     },
     "execution_count": 80,
     "metadata": {},
     "output_type": "execute_result"
    }
   ],
   "source": [
    "confuse_matrix(y_test, y_test_pred)"
   ]
  },
  {
   "cell_type": "markdown",
   "metadata": {},
   "source": [
    "Los resultados muestran un buen desempeño para la clase 0. El modelo alcanza un recall muy alto (0.96), lo que indica que casi todos los casos negativos son correctamente identificados. La precisión de 0.66 sugiere un rendimiento aceptable, aunque hay una proporción moderada de falsos positivos. En cambio, el rendimiento para la clase 1 es mucho más bajo. Aunque la precisión es relativamente buena (0.72), el recall es muy bajo (0.15), lo que indica que el modelo no logra detectar la mayoría de los casos positivos. El F1-score de 0.25 refleja este desequilibrio y confirma que el modelo tiene un bajo desempeño en esta clase.\n",
    "\n",
    "Es importante analizar las métricas por clase. Si uno se guía solo por métricas globales como el F1-score ponderado (0.66), puede parecer que el modelo funciona bien. Sin embargo, esto es típico en situaciones con desbalance de clases, donde el modelo se ajusta a la clase mayoritaria (0) y falla en la minoritaria (1), lo que puede dar una impresión equivocada sobre su verdadera capacidad predictiva.\n",
    "\n",
    "La matriz de confusion refuerza la idea que la clase negativa sobredimensiona el rendimiento del modelo. La mayoría de las predicciones son correctas para la clase 0, pero el modelo tiene dificultades para identificar correctamente la clase 1, lo que se traduce en un alto número de falsos negativos."
   ]
  },
  {
   "cell_type": "markdown",
   "metadata": {},
   "source": [
    "#### RandomForestClassifier\n",
    "\n",
    "`RandomForestClassifier` es un algoritmo de ensamblado basado en la combinación de múltiples árboles de decisión. Cada árbol se entrena con una muestra aleatoria del conjunto de entrenamiento y selecciona aleatoriamente un subconjunto de características para cada división. Las características más relevantes son:\n",
    "\n",
    "- n_estimators=100: el modelo entrena 100 árboles, lo cual es un valor común que equilibra robustez y eficiencia computacional.\n",
    "- random_state=10: fija la semilla para obtener resultados reproducibles.\n",
    "\n",
    "Todos los otros parámetros se dejan en sus valores por defecto."
   ]
  },
  {
   "cell_type": "code",
   "execution_count": 81,
   "metadata": {},
   "outputs": [
    {
     "name": "stdout",
     "output_type": "stream",
     "text": [
      "Evaluación en validación:\n",
      "              precision    recall  f1-score   support\n",
      "\n",
      "           0       0.75      0.86      0.80     73573\n",
      "           1       0.69      0.51      0.59     43698\n",
      "\n",
      "    accuracy                           0.73    117271\n",
      "   macro avg       0.72      0.69      0.69    117271\n",
      "weighted avg       0.73      0.73      0.72    117271\n",
      "\n"
     ]
    }
   ],
   "source": [
    "#random forest\n",
    "from sklearn.ensemble import RandomForestClassifier\n",
    "from sklearn.metrics import classification_report, confusion_matrix\n",
    "\n",
    "pipeline_randomforest = Pipeline([\n",
    "    ('transformacion', pipeline_preprocessing),\n",
    "    ('clasificador', RandomForestClassifier(n_estimators=100, random_state=10))\n",
    "])\n",
    "\n",
    "# Entrenar el modelo\n",
    "pipeline_randomforest.fit(X_train, y_train)\n",
    "y_val_pred = pipeline_randomforest.predict(X_val)\n",
    "print(\"Evaluación en validación:\")\n",
    "print(classification_report(y_val, y_val_pred))"
   ]
  },
  {
   "cell_type": "code",
   "execution_count": 82,
   "metadata": {},
   "outputs": [
    {
     "name": "stdout",
     "output_type": "stream",
     "text": [
      "Matriz de confusión en test:\n"
     ]
    },
    {
     "data": {
      "image/png": "[encoded data removed]",
      "text/plain": [
       "<Figure size 1200x500 with 2 Axes>"
      ]
     },
     "metadata": {},
     "output_type": "display_data"
    },
    {
     "data": {
      "text/plain": [
       "array([[25634,  4090],\n",
       "       [13505, 15406]])"
      ]
     },
     "execution_count": 82,
     "metadata": {},
     "output_type": "execute_result"
    }
   ],
   "source": [
    "y_test_pred = pipeline_randomforest.predict(X_test)\n",
    "print(\"Matriz de confusión en test:\")\n",
    "confuse_matrix(y_test, y_test_pred)\n"
   ]
  },
  {
   "cell_type": "markdown",
   "metadata": {},
   "source": [
    "El modelo muestra un rendimiento más equilibrado entre ambas clases en comparación con el modelo anterior. Esto tiene sentido, ya que el Random Forest combina múltiples árboles de decisión, lo que tiende a suavizar las predicciones y mejorar la generalización. La precisión y el recall para la clase 0 son altos (0.75 y 0.86 respectivamente), lo que indica que el modelo es muy efectivo para identificar casos negativos. Para la clase 1, aunque la precisión es aceptable (0.69), el recall no es suficiente (0.51). A pesar de ser más equilibrado se tiene el mismo fenómeno. Un rendimiento de recall 0.51 indica que solo la mitad de los casos positivos son identificados correctamente. Aun se observan los efectos de desbalanceo de clases, pero el modelo es más robusto que el árbol de decisión individual. El accuracy de 0.73 indica que el modelo tiene un rendimiento aceptable, mejor que el modelo anterior y que el baseline.\n",
    "\n",
    "La matriz de confusión muestra un buen desempeño para la clase 0 y un desempeño moderado para la clase 1. Aunque el modelo tiene un número significativo de falsos negativos."
   ]
  },
  {
   "cell_type": "markdown",
   "metadata": {},
   "source": [
    "#### KNeighborsClassifier\n",
    "\n",
    "El algoritmo K-Nearest Neighbors (KNN) es un modelo de clasificación basado en la distancia. No realiza un proceso de entrenamiento tradicional, sino que almacena el conjunto de entrenamiento y, al predecir, busca los k vecinos más cercanos a la instancia a clasificar. Los parámetros más relevantes son:\n",
    "\n",
    "- `n_neighbors`=3: Número de vecinos a considerar. Un valor común que equilibra la sensibilidad y la especificidad.\n",
    "\n",
    "Todos los otros parámetros se dejan en sus valores por defecto."
   ]
  },
  {
   "cell_type": "code",
   "execution_count": null,
   "metadata": {},
   "outputs": [],
   "source": [
    "from sklearn.neighbors import KNeighborsClassifier\n",
    "from sklearn.metrics import classification_report, confusion_matrix\n",
    "import seaborn as sns\n",
    "import matplotlib.pyplot as plt\n",
    "\n",
    "# Pipeline con KNN\n",
    "pipeline_knn = Pipeline([\n",
    "    ('transformacion', pipeline_preprocessing),\n",
    "    ('classifier', KNeighborsClassifier(n_neighbors=3,))\n",
    "])\n",
    "\n",
    "# Entrenar el modelo\n",
    "pipeline_knn.fit(X_train, y_train)\n",
    "\n",
    "# Predecir\n",
    "y_val_pred_knn = pipeline_knn.predict(X_val)\n",
    "\n",
    "# Evaluar\n",
    "print(\"Evaluación en conjunto de validación con KNN:\")\n",
    "print(classification_report(y_val, y_val_pred_knn))"
   ]
  },
  {
   "cell_type": "code",
   "execution_count": null,
   "metadata": {},
   "outputs": [],
   "source": [
    "y_test_pred_knn = pipeline_knn.predict(X_test)\n",
    "confuse_matrix(y_test, y_test_pred_knn)"
   ]
  },
  {
   "cell_type": "markdown",
   "metadata": {},
   "source": [
    "KNN con k=3 logra un desempeño relativamente equilibrado. El modelo presenta un recall alto en la clase 1 (0.72), lo que indica que es efectivo identificando correctamente los casos positivos. En nuestro contexto, esto es especialmente valioso, ya que detectar con precisión las condiciones que implican tener diabetes es fundamental para una intervención temprana y una gestión adecuada del paciente. A pesar de ello aumentaron los falsos negativos, falsos, es decir, los casos en los que una persona con diabetes no es identificada como tal por el modelo. El accuracy globla es mejor que el caso anterior, pero el recall para la clase de interés es mayor que los modelos anteriores. Por lo que se decise mantener el modelo KNN como el mejor modelo hasta ahora."
   ]
  },
  {
   "cell_type": "markdown",
   "metadata": {},
   "source": [
    "#### XGBoostClassifier"
   ]
  },
  {
   "cell_type": "code",
   "execution_count": 85,
   "metadata": {},
   "outputs": [
    {
     "name": "stderr",
     "output_type": "stream",
     "text": [
      "/home/marcosignacio/miniconda3/envs/labmds/lib/python3.10/site-packages/xgboost/training.py:183: UserWarning: [23:35:49] WARNING: /workspace/src/learner.cc:738: \n",
      "Parameters: { \"use_label_encoder\" } are not used.\n",
      "\n",
      "  bst.update(dtrain, iteration=i, fobj=obj)\n"
     ]
    },
    {
     "name": "stdout",
     "output_type": "stream",
     "text": [
      "Evaluación en conjunto de validación con XGBoost:\n",
      "              precision    recall  f1-score   support\n",
      "\n",
      "           0       0.70      0.89      0.79     73573\n",
      "           1       0.67      0.36      0.47     43698\n",
      "\n",
      "    accuracy                           0.70    117271\n",
      "   macro avg       0.69      0.63      0.63    117271\n",
      "weighted avg       0.69      0.70      0.67    117271\n",
      "\n"
     ]
    }
   ],
   "source": [
    "from xgboost import XGBClassifier\n",
    "\n",
    "# Pipeline con XGBoost\n",
    "pipeline_xgboost = Pipeline([\n",
    "    ('transformacion', pipeline_preprocessing),\n",
    "    ('clasificador', XGBClassifier(\n",
    "        use_label_encoder=False,\n",
    "        eval_metric='logloss',\n",
    "        n_estimators=200,        \n",
    "        max_depth=10,             \n",
    "        learning_rate=0.05,       \n",
    "        random_state=10\n",
    "    ))\n",
    "])\n",
    "\n",
    "# Entrenar el modelo\n",
    "pipeline_xgboost.fit(X_train, y_train)\n",
    "\n",
    "# Predecir en validación\n",
    "y_val_pred_xgboost = pipeline_xgboost.predict(X_val)\n",
    "\n",
    "# Evaluar\n",
    "print(\"Evaluación en conjunto de validación con XGBoost:\")\n",
    "print(classification_report(y_val, y_val_pred_xgboost))"
   ]
  },
  {
   "cell_type": "markdown",
   "metadata": {},
   "source": [
    "Las métricas de este ultimo modelo son deficientes."
   ]
  },
  {
   "cell_type": "markdown",
   "metadata": {},
   "source": [
    "\n",
    "1. ¿Hay algún clasificador que supere al modelo baseline?  \n",
    "2. ¿Cuál es el mejor clasificador entrenado y por qué?  \n",
    "3. ¿Qué factores hacen que el mejor clasificador sea superior a los otros?  \n",
    "4. En términos de `tiempo de entrenamiento`, ¿Qué modelo considera más adecuado para experimentar con grillas de optimización?\n",
    "\n",
    "**RESPUESTA:**\n",
    "\n",
    "Todos los modelos menos el último superan el baseline (considerando nuestro contexto de identificar a la clase 1). El modelo KNN es el mejor modelo entrenado, ya que tiene el mejor recall para la clase 1 (0.72) y un accuracy global de 0.73. EL mejor modelo respecto a tiempo de entrenamiento es XGBoost y DecisionTreeClassifier, los cuales son considerablemnte mas rapido que KNN."
   ]
  },
  {
   "cell_type": "markdown",
   "metadata": {},
   "source": [
    "## 📌 Optimización de Hiperparámetros [1.0 puntos]\n",
    "\n",
    "<center>\n",
    "<img src=\"https://media1.giphy.com/media/v1.Y2lkPTc5MGI3NjExcXJkNzdhYjlneHplaGpsbnVkdzh5dnY3Y2VyaTIzamszdGR1czJ2diZlcD12MV9pbnRlcm5hbF9naWZfYnlfaWQmY3Q9Zw/2rqEdFfkMzXmo/giphy.gif\" width=\"300\" height=\"200\">"
   ]
  },
  {
   "cell_type": "markdown",
   "metadata": {},
   "source": [
    "A partir de su análisis anterior, se debe proceder a optimizar el rendimiento del modelo seleccionado mediante la optimización de sus hiperparámetros. Para ello, se espera que implementen `Optuna` para optimizar no solo los hiperparámetros del modelo, sino también los de los preprocesadores utilizados (por ejemplo, OneHot Encoding, Scalers, etc.).\n",
    "\n",
    "Al desarrollar este proceso, deberán responder las siguientes preguntas clave como mínimo:\n",
    "\n",
    "- ¿Qué métrica decidieron optimizar y por qué?\n",
    "\n",
    "- ¿Qué hiperparámetro tuvo un mayor impacto en el rendimiento de su modelo?\n",
    "\n",
    "- ¿Cuánto mejoró el rendimiento del modelo después de la optimización de hiperparámetros?"
   ]
  },
  {
   "cell_type": "code",
   "execution_count": 96,
   "metadata": {},
   "outputs": [],
   "source": [
    "from sklearn.ensemble import RandomForestClassifier\n",
    "from sklearn.model_selection import cross_val_score, StratifiedKFold\n",
    "from sklearn.metrics import make_scorer, f1_score\n",
    "from sklearn.pipeline import Pipeline\n",
    "\n",
    "def objective(trial):\n",
    "    # Hiperparámetros a optimizar para Random Forest\n",
    "    n_estimators = trial.suggest_int(\"n_estimators\", 100, 800)\n",
    "    max_depth = trial.suggest_int(\"max_depth\", 5, 50)\n",
    "    bootstrap = trial.suggest_categorical(\"bootstrap\", [True, False])\n",
    "\n",
    "    # Modelo\n",
    "    model = RandomForestClassifier(\n",
    "        n_estimators=n_estimators,\n",
    "        max_depth=max_depth,\n",
    "        bootstrap=bootstrap,\n",
    "        random_state=10,\n",
    "        n_jobs=-1\n",
    "    )\n",
    "\n",
    "    # Pipeline completo\n",
    "    full_pipeline = Pipeline([\n",
    "        ('transformer', function_transformer),\n",
    "        ('preprocessing', preprocessor),\n",
    "        ('model', model)\n",
    "    ])\n",
    "\n",
    "    # Validación cruzada\n",
    "    cv = StratifiedKFold(n_splits=3, shuffle=True, random_state=42)\n",
    "    score = cross_val_score(\n",
    "        full_pipeline,\n",
    "        X_train,\n",
    "        y_train,\n",
    "        cv=cv,\n",
    "        scoring=make_scorer(f1_score, average=\"macro\")\n",
    "    ).mean()\n",
    "\n",
    "    return score\n"
   ]
  },
  {
   "cell_type": "code",
   "execution_count": 97,
   "metadata": {},
   "outputs": [
    {
     "name": "stderr",
     "output_type": "stream",
     "text": [
      "[I 2025-05-16 23:44:29,543] A new study created in memory with name: no-name-f201ceb4-dd48-4681-8782-c67b71cb3ed8\n",
      "[I 2025-05-16 23:45:02,658] Trial 0 finished with value: 0.6333384569741136 and parameters: {'n_estimators': 374, 'max_depth': 12, 'bootstrap': True}. Best is trial 0 with value: 0.6333384569741136.\n",
      "[I 2025-05-16 23:47:22,572] Trial 1 finished with value: 0.6760587068227917 and parameters: {'n_estimators': 585, 'max_depth': 38, 'bootstrap': False}. Best is trial 1 with value: 0.6760587068227917.\n",
      "[I 2025-05-16 23:48:23,482] Trial 2 finished with value: 0.6779817415726629 and parameters: {'n_estimators': 296, 'max_depth': 29, 'bootstrap': False}. Best is trial 2 with value: 0.6779817415726629.\n",
      "[I 2025-05-16 23:48:44,335] Trial 3 finished with value: 0.6675363024941475 and parameters: {'n_estimators': 139, 'max_depth': 22, 'bootstrap': True}. Best is trial 2 with value: 0.6779817415726629.\n",
      "[I 2025-05-16 23:50:01,306] Trial 4 finished with value: 0.6531944483390792 and parameters: {'n_estimators': 656, 'max_depth': 18, 'bootstrap': True}. Best is trial 2 with value: 0.6779817415726629.\n"
     ]
    },
    {
     "name": "stdout",
     "output_type": "stream",
     "text": [
      "Best trial:\n",
      "FrozenTrial(number=2, state=TrialState.COMPLETE, values=[0.6779817415726629], datetime_start=datetime.datetime(2025, 5, 16, 23, 47, 22, 573704), datetime_complete=datetime.datetime(2025, 5, 16, 23, 48, 23, 482585), params={'n_estimators': 296, 'max_depth': 29, 'bootstrap': False}, user_attrs={}, system_attrs={}, intermediate_values={}, distributions={'n_estimators': IntDistribution(high=800, log=False, low=100, step=1), 'max_depth': IntDistribution(high=50, log=False, low=5, step=1), 'bootstrap': CategoricalDistribution(choices=(True, False))}, trial_id=2, value=None)\n"
     ]
    }
   ],
   "source": [
    "import optuna\n",
    "\n",
    "study = optuna.create_study(direction=\"maximize\")\n",
    "study.optimize(objective, n_trials=5)\n",
    "\n",
    "print(\"Best trial:\")\n",
    "print(study.best_trial)"
   ]
  },
  {
   "cell_type": "code",
   "execution_count": 94,
   "metadata": {},
   "outputs": [
    {
     "name": "stdout",
     "output_type": "stream",
     "text": [
      "[[63360 10213]\n",
      " [25994 17704]]\n",
      "              precision    recall  f1-score   support\n",
      "\n",
      "           0       0.71      0.86      0.78     73573\n",
      "           1       0.63      0.41      0.49     43698\n",
      "\n",
      "    accuracy                           0.69    117271\n",
      "   macro avg       0.67      0.63      0.64    117271\n",
      "weighted avg       0.68      0.69      0.67    117271\n",
      "\n"
     ]
    }
   ],
   "source": [
    "from sklearn.ensemble import RandomForestClassifier\n",
    "from sklearn.model_selection import cross_val_score, StratifiedKFold\n",
    "from sklearn.metrics import make_scorer, f1_score\n",
    "from sklearn.pipeline import Pipeline\n",
    "\n",
    "best_params = study.best_trial.params\n",
    "\n",
    "final_model = RandomForestClassifier(**best_params, random_state=42, n_jobs=-1)\n",
    "\n",
    "final_pipeline = Pipeline([\n",
    "    ('transformer', function_transformer),\n",
    "    ('preprocessing', preprocessor),\n",
    "    ('model', final_model)\n",
    "])\n",
    "\n",
    "final_pipeline.fit(X_train, y_train)\n",
    "\n",
    "# Evaluación\n",
    "y_pred = final_pipeline.predict(X_val)\n",
    "print(confusion_matrix(y_val, y_pred))\n",
    "print(classification_report(y_val, y_pred))\n"
   ]
  },
  {
   "cell_type": "markdown",
   "metadata": {},
   "source": [
    "- ¿Qué métrica decidieron optimizar y por qué?\n",
    "\n",
    "- ¿Qué hiperparámetro tuvo un mayor impacto en el rendimiento de su modelo?\n",
    "\n",
    "- ¿Cuánto mejoró el rendimiento del modelo después de la optimización de hiperparámetros?\n",
    "\n",
    "**RESPUESTA:**\n",
    "\n",
    "- Se decidió optimizar el F1-score macro, ya que el problema involucra un posible desbalance de clases. A diferencia de la precisión global (accuracy), el F1 macro calcula el promedio del F1-score por clase sin ponderar por su frecuencia, lo que permite evaluar de forma justa el rendimiento del modelo tanto en la clase mayoritaria como en la minoritaria.\n",
    "\n",
    "- El max_depth parece haber tenido un impacto significativo en el rendimiento del modelo. En los mejores ensayos, los valores altos de max_depth (29 y 38) estuvieron asociados a los mayores F1-scores macro. Esto sugiere que un modelo más profundo permitió capturar mejor las relaciones complejas en los datos.\n",
    "\n",
    "- El mejor modelo optimizado alcanzó un F1-score macro de 0.678"
   ]
  },
  {
   "cell_type": "markdown",
   "metadata": {},
   "source": [
    "## 📌 Interpretabilidad [1.0 puntos]\n",
    "\n",
    "En esta sección, deben explicar el funcionamiento de su modelo utilizando las técnicas de interpretabilidad vistas en clase, como `SHAP`. Se espera que sean capaces de descomponer las predicciones y evaluar la importancia de los atributos y las interacciones entre ellos, con el fin de obtener una comprensión más profunda de cómo el modelo toma decisiones. \n",
    "\n",
    "Al desarrollar esta parte, deberán responder las siguientes preguntas clave como mínimo:\n",
    "\n",
    "- ¿Podría explicar el funcionamiento de su modelo para una predicción en particular? Si es así, proporcione al menos tres ejemplos específicos, describiendo cómo el modelo llegó a sus decisiones y qué factores fueron más relevantes en cada caso.\n",
    "\n",
    "- ¿Qué atributo tiene una mayor importancia en la salida de su modelo? Analice si esto tiene sentido con el problema planteado y justifique la relevancia de dicho atributo en el contexto de las predicciones que se realizan.\n",
    "\n",
    "- ¿Existe alguna interacción entre atributos que sea relevante para el modelo? Investigue si la combinación de ciertos atributos tiene un impacto significativo en las predicciones y explíquela en **detalle**.\n",
    "\n",
    "- ¿Podría existir sesgo hacia algún atributo en particular? Reflexione sobre la posibilidad de que el modelo esté favoreciendo ciertos atributos. Si es así, ¿cuál podría ser la causa y qué impacto podría tener esto en la predicción?"
   ]
  },
  {
   "cell_type": "code",
   "execution_count": 89,
   "metadata": {},
   "outputs": [],
   "source": [
    "from sklearn.inspection import permutation_importance\n",
    "import matplotlib.pyplot as plt\n",
    "import pandas as pd\n",
    "\n",
    "def plot_feature_importance(model_pipeline, X, y):\n",
    "    \"\"\"Muestra la importancia de características del modelo usando permutaciones.\"\"\"\n",
    "    result = permutation_importance(\n",
    "        model_pipeline, X, y,\n",
    "        n_repeats=10, random_state=42, scoring='f1_macro'\n",
    "    )\n",
    "\n",
    "    importances = pd.Series(result.importances_mean, index=X.columns)\n",
    "    importances.sort_values().plot(kind='barh', figsize=(10,6), title='Importancia por permutación')\n",
    "    plt.xlabel('Impacto en F1 macro')\n",
    "    plt.tight_layout()\n",
    "    plt.show()"
   ]
  },
  {
   "cell_type": "code",
   "execution_count": 90,
   "metadata": {},
   "outputs": [],
   "source": [
    "import shap\n",
    "\n",
    "def explain_with_shap(model_pipeline, X_sample):\n",
    "    \"\"\"Calcula valores SHAP para un pipeline con RandomForest.\"\"\"\n",
    "    # Extraer el modelo y el preprocesamiento\n",
    "    preprocessor = model_pipeline.named_steps['preprocessing']\n",
    "    model = model_pipeline.named_steps['model']\n",
    "    \n",
    "    # Aplicar transformaciones\n",
    "    X_transformed = preprocessor.transform(X_sample)\n",
    "\n",
    "    explainer = shap.Explainer(model)\n",
    "    shap_values = explainer(X_transformed)\n",
    "\n",
    "    # Visualizar para la primera muestra\n",
    "    shap.plots.waterfall(shap_values[0])\n",
    "    # Visualización global (opcional)\n",
    "    shap.plots.beeswarm(shap_values)\n"
   ]
  },
  {
   "cell_type": "code",
   "execution_count": null,
   "metadata": {},
   "outputs": [],
   "source": [
    "plot_feature_importance(final_pipeline, X_val, y_val)\n",
    "explain_with_shap(final_pipeline, X_val.sample(4))"
   ]
  },
  {
   "cell_type": "markdown",
   "metadata": {},
   "source": [
    "El modelo utilizado es RandomForestClassifier construido por árboles de decisión, se pueden dar distintas aplicaciones a este modelo como por ejemplo:\n",
    "Una “Tienda de conveniencia” comprando una bebida “premium”. A partir de los datasets proporcionados y el análisis realizado en este proyecto, este tipo de clientes tiene un historial de compras más frecuente en productos premium. Esto sirve mucho para segmentar clientes, y aprovechar la información extraída para distintas estrategias: dar esta información al equipo de marketing, quienes la aprovecharán para preparar campañas específicas para estos clientes. Esto por supuesto potenciará las ventas de la empresa, además de hacer más felices a los clientes. También, analizar el número de entregas por semana, para no sobreestimar stock, ni tampoco sobrepasar los costos asociados a esto. De los datos extraídos, 1239 datos de 1598 están dentro de 3 entregas por semana, es decir, el 78% para el dataset de clientes.\n",
    " \n",
    "Un cliente tipo “Restaurant” no comprando jugos, lo cual tiene varios factores relevantes: Esto quiere decir que el cliente suele comprar bebidas carbonatadas, y además históricamente no ha tenido preferencia por jugos. Por lo tanto, esto previene ofrecer productos que no son acordes a ciertos perfiles de clientes.\n",
    " \n",
    "Otro ejemplo, es la cantidad de clientes con altas frecuencias de visitas, pero que tienen bajas compras de un cierto producto. Acá, estudiar la feature “Brand” es interesante, ya que se puede analizar en el histórico qué productos no ha comprado este cliente en particular en el pasado.\n",
    " \n",
    "\n",
    "Otro análisis realizado fue que, el atributo más importante según shap y permutance importance es la feature customer type. Es decir, lo más “importante” es a qué tipo de clientes la empresa sodaidrinks le vende, y qué patrones de compra se definen en base a esto. Por ejemplo, los restaurantes prefieren comprar más bebidas carbonatadas, mientras que las tiendas de conveniencia son más diversas. Algunas interacciones interesantes son el tipo de cliente con el segmento, ya que los clientes premium suelen comprar más productos premium. Otro hecho es que los clients con muchas entregas semanales suelen comprar tamaños más grandes de productos. Esto puede ser porque tengan un mayor almacenaje por ejemplo."
   ]
  },
  {
   "cell_type": "markdown",
   "metadata": {},
   "source": [
    "## 📌 Resultados y Conclusiones [1.0 puntos]\n",
    "\n",
    "Para finalizar, se deben explicar los desarrollos y resultados obtenidos a lo largo de todo el proceso, desde la selección de las variables hasta la optimización de hiperparámetros e interpretación. Se espera una reflexión crítica sobre el desempeño de los modelos entrenados y una comparación entre los diferentes enfoques. Además, deberán abordar los siguientes puntos clave:\n",
    "\n",
    "- **Análisis de métricas**: Comenten sobre las métricas obtenidas en cada etapa del modelo, destacando las más relevantes como precisión, recall, F1-score, etc. ¿Cuáles fueron los modelos más efectivos? ¿Qué diferencias notables encontró entre ellos?\n",
    "\n",
    "- **Impacto de las decisiones tomadas**: Reflexionen sobre cómo las decisiones relacionadas con el preprocesamiento, selección de atributos y optimización de hiperparámetros influyeron en los resultados finales. ¿Hubo alguna decisión que haya tenido un impacto notable en el rendimiento?\n",
    "\n",
    "- **Lecciones aprendidas**: Concluyan sobre las lecciones más importantes que aprendieron durante el proceso y cómo estas pueden influir en futuras iteraciones del modelo. ¿Qué se podría mejorar si se repitiera el proceso? Si tuvieran más recursos y tiempo, ¿qué otras técnicas/herramientas habrían utilizado?\n",
    "\n",
    "----"
   ]
  },
  {
   "cell_type": "markdown",
   "metadata": {},
   "source": [
    " - **Análisis de métricas**: Comenten sobre las métricas obtenidas en cada etapa del modelo, destacando las más relevantes como precisión, recall, F1-score, etc. ¿Cuáles fueron los modelos más efectivos? ¿Qué diferencias notables encontró entre ellos?\n",
    "\n",
    "    El modelo con mejor rendimiento fue el KNN, con un recall de 0.72 y un accuracy de 0.73. El modelo RandomForestClassifier tuvo un rendimiento aceptable, pero no logró superar al KNN.A pesar de ello todos los modelos muestran un rendimiento suboptimo, debido a el desbalance de clases. Esto se identifico en una etapa tardía del laboratorio, por lo que no se pudo abordar un plan alternativo, ya que gran parte del informe estaba ya desarrollado. La diferencia notable para decidir sore un modelo sobre otro fue el recall para la clase 1, que es la que nos interesa. En este sentido, el modelo KNN fue el más efectivo, ya que logró identificar correctamente la mayoría de los casos positivos\n",
    "\n",
    " \n",
    " - **Impacto de las decisiones tomadas**: Reflexionen sobre cómo las decisiones relacionadas con el preprocesamiento, selección de atributos y optimización de hiperparámetros influyeron en los resultados finales. ¿Hubo alguna decisión que haya tenido un impacto notable en el rendimiento?\n",
    "\n",
    "   **Respuesta**: En una primera iteración se habia dejado variables que se correlacionaban con la variable objetivo u caso contrario no tenia ninguna relación como eran los IDs y la columna items. Al eliminar estas variables, los resultados se hicieron mas realistas y se redujo el riesgo de sobreajuste. La selección de atributos fue un paso crucial, ya que permitió identificar las variables más relevantes para el modelo. En particular, la eliminación de variables irrelevantes y la transformación de variables categóricas mediante OneHot Encoding permitieorn aprovechar caracteristicas relevantes de los datos. La normalización de las variables numéricas también fue un paso importante, ya que permitió que el modelo se ajustara mejor a los datos y mejorara su rendimiento. En general, la selección cuidadosa de atributos y la transformación adecuada de los datos tuvieron un impacto significativo en el rendimiento del modelo. La elección de utilizar OneHot Encoding para la variable `customer_type` permitió capturar la variabilidad entre los diferentes tipos de clientes, lo que resultó en un aumento en el rendimiento del modelo. Sin embargo, los resultados muestran un modelo sobreajustado u existe algun leak de datos que esta inflando las metricas.\n",
    "\n",
    "   A pesar de ello los resultados no son optimos para usarlo en un entorno de desarrollo real. Se considera que falta complementar el enfoque seguido usando ventana deslizantes para considerar la temporalidad de los datos. Es decir actualmente usamos todos los datos hasta el mes 9 para entrenar los datos y testear sobre el mes 12. Sin embargo, los contextos de estos meses difieren radicalmente. Por lo que usar una ventana movil permitiria entrenar con datos cercanos a la semana de predicción. Esto ayudaria a caputar la temporalidad de los datos y la estacionalidad de los productos.\n",
    "\n",
    "   La optimización de hiperparámetros fue un paso importante, ya que permitió ajustar los parámetros del modelo para mejorar su rendimiento. Para agilizar el desarrollo se limita el tiempo de optimizacion a 5 minutos, por lo que falta explorar tiempos más extensos para ver si se puede mejorar el rendimiento del modelo. En general, la optimización de hiperparámetros cumple el objetivo de  tener un mejor rendimiento que el modelo anterior probado, pero aun deja margen de mejora.\n",
    "\n",
    "\n",
    "- **Lecciones aprendidas**: Concluyan sobre las lecciones más importantes que aprendieron durante el proceso y cómo estas pueden influir en futuras iteraciones del modelo. ¿Qué se podría mejorar si se repitiera el proceso? Si tuvieran más recursos y tiempo, ¿qué otras técnicas/herramientas habrían utilizado?\n",
    "\n",
    "   **Respuesta**: Independiente de las métricas resultantes, apesar que el planteamiento de la solución no fue el más adecuado, se aprendió que el uso de pipelines y la automatización del preprocesamiento de datos son herramientas valiosas para mejorar la eficiencia y reproducibilidad del trabajo. Además, la importancia de la interpretabilidad en los modelos de machine learning es fundamental para comprender cómo funcionan y cómo se pueden aplicar en el mundo real. En futuras iteraciones, sería interesante explorar técnicas avanzadas de optimización de hiperparámetros y considerar el uso de modelos más complejos como redes neuronales o modelos de ensemble para mejorar aún más el rendimiento del modelo."
   ]
  },
  {
   "cell_type": "markdown",
   "metadata": {},
   "source": [
    "Mucho éxito!\n",
    "\n",
    "<center>\n",
    "<img src=\"https://media3.giphy.com/media/v1.Y2lkPTc5MGI3NjExaHpvOTY5Z3hpdHI3aDBpdGRueXRqamZncXp2emFrbjJ5M2s5eTR1dSZlcD12MV9pbnRlcm5hbF9naWZfYnlfaWQmY3Q9Zw/1PMVNNKVIL8Ig/giphy.gif\" width=\"300\" height=\"200\">\n"
   ]
  }
 ],
 "metadata": {
  "kernelspec": {
   "display_name": "labmds",
   "language": "python",
   "name": "python3"
  },
  "language_info": {
   "codemirror_mode": {
    "name": "ipython",
    "version": 3
   },
   "file_extension": ".py",
   "mimetype": "text/x-python",
   "name": "python",
   "nbconvert_exporter": "python",
   "pygments_lexer": "ipython3",
   "version": "3.10.16"
  }
 },
 "nbformat": 4,
 "nbformat_minor": 4
}
